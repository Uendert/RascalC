{
 "cells": [
  {
   "cell_type": "code",
   "execution_count": 13,
   "metadata": {},
   "outputs": [],
   "source": [
    "index=5"
   ]
  },
  {
   "cell_type": "code",
   "execution_count": 9,
   "metadata": {},
   "outputs": [
    {
     "data": {
      "text/plain": [
       "CompletedProcess(args=['cd', '/home/oliverphilcox/COMAJE'], returncode=0)"
      ]
     },
     "execution_count": 9,
     "metadata": {},
     "output_type": "execute_result"
    }
   ],
   "source": [
    "import numpy as np\n",
    "import subprocess\n",
    "subprocess.run([\"cd\", \"/home/oliverphilcox/COMAJE\"],shell=True)  # doesn't capture output"
   ]
  },
  {
   "cell_type": "code",
   "execution_count": 25,
   "metadata": {},
   "outputs": [],
   "source": [
    "root_dir_m = '/mnt/store1/oliverphilcox/CMU/QPM for Oliver/QPM_Pairs_Mariana/'\n",
    "mfile_norms = root_dir_m+'qpm-unrecon-%s-norm.dat'%str(index).zfill(4)\n",
    "norms_M = np.loadtxt(mfile_norms,usecols=1)\n",
    "factor = norms_M[0]/norms_M[1]\n",
    "N_gal =factor*6500000; \n",
    "xi_file = \"/mnt/store1/oliverphilcox/CMU/xi_functions/QPM_Mariana_mock_%d.xi\"%index\n",
    "outfile = \"/mnt/store1/oliverphilcox/CMU/QPM_Covariances/Mock_%d/\"%index"
   ]
  },
  {
   "cell_type": "code",
   "execution_count": 38,
   "metadata": {},
   "outputs": [
    {
     "data": {
      "text/plain": [
       "CompletedProcess(args=['make'], returncode=0)"
      ]
     },
     "execution_count": 38,
     "metadata": {},
     "output_type": "execute_result"
    }
   ],
   "source": [
    "# Compile\n",
    "cwd = \"/home/oliverphilcox/COMAJE/\"\n",
    "subprocess.run([\"bash\",\"clean\"],cwd=cwd)\n",
    "subprocess.run([\"make\"],cwd=cwd)"
   ]
  },
  {
   "cell_type": "code",
   "execution_count": 41,
   "metadata": {},
   "outputs": [
    {
     "data": {
      "text/plain": [
       "CompletedProcess(args=['./cov', '-norm', '327861.42258251', '-cor', '/mnt/store1/oliverphilcox/CMU/xi_functions/QPM_Mariana_mock_5.xi', '-output', '/mnt/store1/oliverphilcox/CMU/QPM_Covariances/Mock_5/'], returncode=0)"
      ]
     },
     "execution_count": 41,
     "metadata": {},
     "output_type": "execute_result"
    }
   ],
   "source": [
    "\n",
    "# Run the code with the correct parameters:\n",
    "subprocess.run([\"./cov\",\"-norm\", \"%.8f\"%N_gal,\"-cor\",xi_file,\"-output\",outfile],cwd=cwd)"
   ]
  },
  {
   "cell_type": "code",
   "execution_count": null,
   "metadata": {},
   "outputs": [],
   "source": []
  }
 ],
 "metadata": {
  "kernelspec": {
   "display_name": "Python 3",
   "language": "python",
   "name": "python3"
  },
  "language_info": {
   "codemirror_mode": {
    "name": "ipython",
    "version": 3
   },
   "file_extension": ".py",
   "mimetype": "text/x-python",
   "name": "python",
   "nbconvert_exporter": "python",
   "pygments_lexer": "ipython3",
   "version": "3.7.0"
  }
 },
 "nbformat": 4,
 "nbformat_minor": 2
}
