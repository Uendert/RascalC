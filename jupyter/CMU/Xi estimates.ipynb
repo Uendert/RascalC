{
 "cells": [
  {
   "cell_type": "code",
   "execution_count": 311,
   "metadata": {},
   "outputs": [
    {
     "name": "stdout",
     "output_type": "stream",
     "text": [
      "Populating the interactive namespace from numpy and matplotlib\n"
     ]
    }
   ],
   "source": [
    "%pylab inline\n",
    "root_dir = '/mnt/store1/oliverphilcox/CMU/QPM for Oliver/QPM_Pairs_Ross/'\n",
    "root_dir_m = '/mnt/store1/oliverphilcox/CMU/QPM for Oliver/QPM_Pairs_Mariana/'"
   ]
  },
  {
   "cell_type": "code",
   "execution_count": 25,
   "metadata": {},
   "outputs": [],
   "source": [
    "def compute_xi_Ross(mock_no):\n",
    "    ratio_gal_rand = float(np.genfromtxt(root_dir+'xyz%d_real.txt.pairs'%mock_no,max_rows=1))\n",
    "    pairs_data = np.loadtxt(root_dir+'xyz%d_real.txt.pairs'%mock_no,skiprows=1)\n",
    "    r_all = pairs_data[:,0]\n",
    "    mu_all = pairs_data[:,1]\n",
    "    r_bins = np.unique(r_all)\n",
    "    mu_bins = np.unique(mu_all)\n",
    "    DD_data = pairs_data[:,2].reshape(len(r_bins),len(mu_bins))\n",
    "    DR_data = pairs_data[:,3].reshape(len(r_bins),len(mu_bins))*ratio_gal_rand/2. # from different normalization\n",
    "    RR_data = pairs_data[:,4].reshape(len(r_bins),len(mu_bins))*ratio_gal_rand**2.\n",
    "    xi_est = (DD_data-2.*DR_data+RR_data)/RR_data\n",
    "    \n",
    "    return r_bins,mu_bins,xi_est"
   ]
  },
  {
   "cell_type": "code",
   "execution_count": 291,
   "metadata": {},
   "outputs": [],
   "source": [
    "# Mock independent quantities:\n",
    "mfile_RR = root_dir_m+'qpm-unrecon-0001-RR.dat'\n",
    "all_RR_data_M = np.loadtxt(mfile_RR,skiprows=2)\n",
    "r_bins_tmp = np.genfromtxt(mfile_RR,max_rows=1)\n",
    "r_bins_m = (r_bins_tmp[:-1]+r_bins_tmp[1:])/2.\n",
    "mu_bins_tmp = np.genfromtxt(mfile_RR,max_rows=1,skip_header=1)\n",
    "mu_bins_m = (mu_bins_tmp[:-1]+mu_bins_tmp[1:])/2."
   ]
  },
  {
   "cell_type": "code",
   "execution_count": 310,
   "metadata": {},
   "outputs": [],
   "source": [
    "mu_bins_m=[(0.5+i)/120. for i in range(120)]"
   ]
  },
  {
   "cell_type": "code",
   "execution_count": 295,
   "metadata": {},
   "outputs": [],
   "source": [
    "def compute_xi_Mariana(mock_no):\n",
    "    mfile_norms = root_dir_m+'qpm-unrecon-%s-norm.dat'%str(mock_no).zfill(4)\n",
    "    norms_M = np.loadtxt(mfile_norms,usecols=1)\n",
    "    factor = norms_M[0]/norms_M[1]\n",
    "\n",
    "    mfile_DD = root_dir_m+'qpm-unrecon-%s-DD.dat'%str(mock_no).zfill(4)\n",
    "    mfile_DR = root_dir_m+'qpm-unrecon-%s-DR.dat'%str(mock_no).zfill(4)\n",
    "    DD_data_M = np.loadtxt(mfile_DD,skiprows=2)\n",
    "    DR_data_M = np.loadtxt(mfile_DR,skiprows=2)*factor\n",
    "    RR_data_M = all_RR_data_M*factor**2.\n",
    "\n",
    "    xi_est_M = (DD_data_M-2.*DR_data_M+RR_data_M)/RR_data_M\n",
    "    \n",
    "    return r_bins_m,mu_bins_m,xi_est_M"
   ]
  },
  {
   "cell_type": "markdown",
   "metadata": {},
   "source": [
    "Compute mean xi:"
   ]
  },
  {
   "cell_type": "code",
   "execution_count": 297,
   "metadata": {},
   "outputs": [],
   "source": [
    "xi_R=[];xi_M=[]\n",
    "for i in range(1,100):\n",
    "    r_bins,mu_bins,xi_tmp=compute_xi_Ross(i)\n",
    "    r_bins_m,mu_bins_m,xi_tmp_M = compute_xi_Mariana(i)\n",
    "    xi_R.append(xi_tmp)\n",
    "    xi_M.append(xi_tmp_M)\n",
    "xi_R_mean = np.mean(np.asarray(xi_R),axis=0)\n",
    "xi_M_mean = np.mean(np.asarray(xi_M),axis=0)"
   ]
  },
  {
   "cell_type": "code",
   "execution_count": 6,
   "metadata": {},
   "outputs": [],
   "source": [
    "r_bins,mu_bins,xi_est=compute_xi_Ross(57)\n",
    "r_bins_m,mu_bins_m,xi_est_M=compute_xi_Mariana(57)"
   ]
  },
  {
   "cell_type": "code",
   "execution_count": 298,
   "metadata": {},
   "outputs": [
    {
     "ename": "NameError",
     "evalue": "name 'xi_est' is not defined",
     "output_type": "error",
     "traceback": [
      "\u001b[0;31m---------------------------------------------------------------------------\u001b[0m",
      "\u001b[0;31mNameError\u001b[0m                                 Traceback (most recent call last)",
      "\u001b[0;32m<ipython-input-298-57fda1ca0dc7>\u001b[0m in \u001b[0;36m<module>\u001b[0;34m()\u001b[0m\n\u001b[0;32m----> 1\u001b[0;31m \u001b[0mplt\u001b[0m\u001b[0;34m.\u001b[0m\u001b[0mplot\u001b[0m\u001b[0;34m(\u001b[0m\u001b[0mr_bins\u001b[0m\u001b[0;34m,\u001b[0m\u001b[0mxi_est\u001b[0m\u001b[0;34m.\u001b[0m\u001b[0mmean\u001b[0m\u001b[0;34m(\u001b[0m\u001b[0maxis\u001b[0m\u001b[0;34m=\u001b[0m\u001b[0;36m1\u001b[0m\u001b[0;34m)\u001b[0m\u001b[0;34m*\u001b[0m\u001b[0mr_bins\u001b[0m\u001b[0;34m*\u001b[0m\u001b[0mr_bins\u001b[0m\u001b[0;34m,\u001b[0m\u001b[0mlabel\u001b[0m\u001b[0;34m=\u001b[0m\u001b[0;34m'Ross'\u001b[0m\u001b[0;34m)\u001b[0m\u001b[0;34m\u001b[0m\u001b[0m\n\u001b[0m\u001b[1;32m      2\u001b[0m \u001b[0mplt\u001b[0m\u001b[0;34m.\u001b[0m\u001b[0mplot\u001b[0m\u001b[0;34m(\u001b[0m\u001b[0mr_bins_m\u001b[0m\u001b[0;34m,\u001b[0m\u001b[0mxi_est_M\u001b[0m\u001b[0;34m.\u001b[0m\u001b[0mmean\u001b[0m\u001b[0;34m(\u001b[0m\u001b[0maxis\u001b[0m\u001b[0;34m=\u001b[0m\u001b[0;36m1\u001b[0m\u001b[0;34m)\u001b[0m\u001b[0;34m*\u001b[0m\u001b[0mr_bins_m\u001b[0m\u001b[0;34m*\u001b[0m\u001b[0mr_bins_m\u001b[0m\u001b[0;34m,\u001b[0m\u001b[0mlabel\u001b[0m\u001b[0;34m=\u001b[0m\u001b[0;34m'Mariana'\u001b[0m\u001b[0;34m)\u001b[0m\u001b[0;34m\u001b[0m\u001b[0m\n\u001b[1;32m      3\u001b[0m \u001b[0mplt\u001b[0m\u001b[0;34m.\u001b[0m\u001b[0mylabel\u001b[0m\u001b[0;34m(\u001b[0m\u001b[0;34mr'$r^2\\xi(r)$'\u001b[0m\u001b[0;34m,\u001b[0m\u001b[0mfontsize\u001b[0m\u001b[0;34m=\u001b[0m\u001b[0;36m16\u001b[0m\u001b[0;34m)\u001b[0m\u001b[0;34m;\u001b[0m\u001b[0;34m\u001b[0m\u001b[0m\n\u001b[1;32m      4\u001b[0m \u001b[0mplt\u001b[0m\u001b[0;34m.\u001b[0m\u001b[0mxlabel\u001b[0m\u001b[0;34m(\u001b[0m\u001b[0;34mr'$r$'\u001b[0m\u001b[0;34m,\u001b[0m\u001b[0mfontsize\u001b[0m\u001b[0;34m=\u001b[0m\u001b[0;36m16\u001b[0m\u001b[0;34m)\u001b[0m\u001b[0;34m;\u001b[0m\u001b[0mplt\u001b[0m\u001b[0;34m.\u001b[0m\u001b[0mtitle\u001b[0m\u001b[0;34m(\u001b[0m\u001b[0;34mr'$\\xi(r)$ estimates from LS estimator of Pair Counts for Mock 57'\u001b[0m\u001b[0;34m,\u001b[0m\u001b[0mfontsize\u001b[0m\u001b[0;34m=\u001b[0m\u001b[0;36m16\u001b[0m\u001b[0;34m)\u001b[0m\u001b[0;34m;\u001b[0m\u001b[0;34m\u001b[0m\u001b[0m\n\u001b[1;32m      5\u001b[0m \u001b[0mplt\u001b[0m\u001b[0;34m.\u001b[0m\u001b[0mlegend\u001b[0m\u001b[0;34m(\u001b[0m\u001b[0;34m)\u001b[0m\u001b[0;34m;\u001b[0m\u001b[0;34m\u001b[0m\u001b[0m\n",
      "\u001b[0;31mNameError\u001b[0m: name 'xi_est' is not defined"
     ]
    }
   ],
   "source": [
    "plt.plot(r_bins,xi_est.mean(axis=1)*r_bins*r_bins,label='Ross')\n",
    "plt.plot(r_bins_m,xi_est_M.mean(axis=1)*r_bins_m*r_bins_m,label='Mariana')\n",
    "plt.ylabel(r'$r^2\\xi(r)$',fontsize=16);\n",
    "plt.xlabel(r'$r$',fontsize=16);plt.title(r'$\\xi(r)$ estimates from LS estimator of Pair Counts for Mock 57',fontsize=16);\n",
    "plt.legend();"
   ]
  },
  {
   "cell_type": "markdown",
   "metadata": {},
   "source": [
    "Find actual mean:"
   ]
  },
  {
   "cell_type": "code",
   "execution_count": 8,
   "metadata": {},
   "outputs": [],
   "source": [
    "xi_mock_mean=np.genfromtxt(\"../../xi_functions/QPM_Mean_xi.txt\",skip_header=2)\n",
    "mean_r = np.genfromtxt(\"../../xi_functions/QPM_Mean_xi.txt\",max_rows=1)\n",
    "mean_mu = np.genfromtxt('../../xi_functions/QPM_Mean_xi.txt',skip_header=1,max_rows=1)"
   ]
  },
  {
   "cell_type": "code",
   "execution_count": 9,
   "metadata": {},
   "outputs": [],
   "source": [
    "QPM_mash_xi = np.genfromtxt('../../xi_functions/QPM_Mash.xi',skip_header=2)\n",
    "QPM_mash_r = np.genfromtxt('../../xi_functions/QPM_Mash.xi',max_rows=1)"
   ]
  },
  {
   "cell_type": "code",
   "execution_count": 10,
   "metadata": {},
   "outputs": [
    {
     "data": {
      "image/png": "[encoded data removed]",
      "text/plain": [
       "<Figure size 432x288 with 1 Axes>"
      ]
     },
     "metadata": {
      "needs_background": "light"
     },
     "output_type": "display_data"
    }
   ],
   "source": [
    "plt.plot(r_bins,xi_R_mean.mean(axis=1)*r_bins*r_bins,label='Ross',alpha=0.6)\n",
    "plt.plot(r_bins_m,xi_M_mean.mean(axis=1)*r_bins_m*r_bins_m,label='Mariana',alpha=0.6)\n",
    "plt.plot(mean_r,xi_mock_mean.mean(axis=1)*mean_r**2.,label='Rascal',alpha=0.6)\n",
    "plt.ylabel(r'$r^2\\xi(r)$',fontsize=16);\n",
    "plt.xlabel(r'$r$',fontsize=16);plt.title(r'$\\xi(r)$ estimates from LS estimator of Pair Counts for Mock Mean',fontsize=16);\n",
    "plt.legend();"
   ]
  },
  {
   "cell_type": "markdown",
   "metadata": {},
   "source": [
    "Now save the computed correlation functions from the Mariana pair counts to file:"
   ]
  },
  {
   "cell_type": "code",
   "execution_count": 299,
   "metadata": {},
   "outputs": [],
   "source": [
    "for mock_no in range(1,100):\n",
    "    outdir='/mnt/store1/oliverphilcox/CMU/xi_functions_QPM/'\n",
    "    import os\n",
    "    if not os.path.exists(outdir):\n",
    "        os.makedirs(outdir)\n",
    "    with open(outdir+'QPM_Mariana_mock_%d.xi'%mock_no,\"w\") as outfile:\n",
    "        for i in range(len(r_bins_m)):\n",
    "            outfile.write(\"%.8e \"%r_bins_m[i])\n",
    "        outfile.write(\"\\n\")\n",
    "        for j in range(len(mu_bins_m)):\n",
    "            outfile.write(\"%.8e \"%mu_bins_m[j])\n",
    "        outfile.write(\"\\n\")\n",
    "        for i in range(len(r_bins_m)):\n",
    "            for j in range(len(mu_bins_m)):\n",
    "                outfile.write(\"%.8e \"%xi_M[mock_no-1][i][j])\n",
    "            outfile.write(\"\\n\")"
   ]
  },
  {
   "cell_type": "markdown",
   "metadata": {},
   "source": [
    "Also save mean of these mocks:"
   ]
  },
  {
   "cell_type": "code",
   "execution_count": 300,
   "metadata": {},
   "outputs": [],
   "source": [
    "outdir='/mnt/store1/oliverphilcox/CMU/xi_functions_QPM/'\n",
    "with open(outdir+'QPM_Mariana_mean.xi',\"w\") as outfile:\n",
    "    for i in range(len(r_bins_m)):\n",
    "        outfile.write(\"%.8e \"%r_bins_m[i])\n",
    "    outfile.write(\"\\n\")\n",
    "    for j in range(len(mu_bins_m)):\n",
    "        outfile.write(\"%.8e \"%mu_bins_m[j])\n",
    "    outfile.write(\"\\n\")\n",
    "    for i in range(len(r_bins_m)):\n",
    "        for j in range(len(mu_bins_m)):\n",
    "            outfile.write(\"%.8e \"%xi_M_mean[i][j])\n",
    "        outfile.write(\"\\n\")"
   ]
  },
  {
   "cell_type": "code",
   "execution_count": 281,
   "metadata": {},
   "outputs": [],
   "source": [
    "RR=np.loadtxt('/mnt/store1/oliverphilcox/CMU/QPM for Oliver/QPM_Pairs_Mariana/qpm-unrecon-0001-RR.dat',skiprows=2)\n",
    "\n",
    "xi_fine=np.genfromtxt(\"../../xi_functions/QPM_Mean_xi.txt\",skip_header=2)\n",
    "r_bins_m = np.genfromtxt(\"../../xi_functions/QPM_Mean_xi.txt\",max_rows=1)\n",
    "mu_bins_m = np.genfromtxt('../../xi_functions/QPM_Mean_xi.txt',skip_header=1,max_rows=1)\n",
    "\n",
    "r_new=int(len(r_bins_m)//5);mu_new=int(len(mu_bins_m)//12)\n",
    "xi_coarse=np.zeros([r_new,mu_new])\n",
    "norm_coarse = np.zeros([r_new,mu_new])\n",
    "r_coarse=np.zeros(r_new);mu_coarse=np.zeros(mu_new)\n",
    "for j in range(len(mu_bins_m)//12*12):\n",
    "    mu_coarse[j//12]+=mu_bins_m[j]/12.\n",
    "for i in range(len(r_bins_m)//5*5):\n",
    "    r_coarse[i//5]+=0.2*r_bins_m[i]\n",
    "    for j in range(len(mu_bins_m)//12*12):\n",
    "        xi_coarse[i//5,j//12]+=xi_fine[i,j]*RR[i,j]#*np.sqrt(1.-mu_bins_m[j]**2.)\n",
    "        norm_coarse[i//5,j//12]+=RR[i,j]#np.sqrt(1.-mu_bins_m[j]**2.)\n",
    "xi_coarse/=norm_coarse\n",
    "\n",
    "outdir='/mnt/store1/oliverphilcox/CMU/xi_functions_QPM/'\n",
    "with open(outdir+'QPM_CoarseNew_mean.xi',\"w\") as outfile:\n",
    "    for i in range(len(r_coarse)):\n",
    "        outfile.write(\"%.8e \"%r_coarse[i])\n",
    "    outfile.write(\"\\n\")\n",
    "    for j in range(len(mu_coarse)):\n",
    "        outfile.write(\"%.8e \"%mu_coarse[j])\n",
    "    outfile.write(\"\\n\")\n",
    "    for i in range(len(r_coarse)):\n",
    "        for j in range(len(mu_coarse)):\n",
    "            outfile.write(\"%.8e \"%xi_coarse[i][j])\n",
    "        outfile.write(\"\\n\")"
   ]
  },
  {
   "cell_type": "code",
   "execution_count": 244,
   "metadata": {},
   "outputs": [
    {
     "data": {
      "text/plain": [
       "[<matplotlib.lines.Line2D at 0x7f63c8803f60>]"
      ]
     },
     "execution_count": 244,
     "metadata": {},
     "output_type": "execute_result"
    },
    {
     "data": {
      "image/png": "[encoded data removed]",
      "text/plain": [
       "<Figure size 432x288 with 1 Axes>"
      ]
     },
     "metadata": {
      "needs_background": "light"
     },
     "output_type": "display_data"
    }
   ],
   "source": [
    "plt.plot(mu_bins_m,xi_fine[0,:])\n",
    "plt.plot(mu_coarse,xi_coarse[6,:])"
   ]
  },
  {
   "cell_type": "code",
   "execution_count": 227,
   "metadata": {},
   "outputs": [],
   "source": [
    "def compute_all_xi(mock_no):\n",
    "    mfile_norms = root_dir_m+'qpm-unrecon-%s-norm.dat'%str(mock_no).zfill(4)\n",
    "    norms_M = np.loadtxt(mfile_norms,usecols=1)\n",
    "    factor = norms_M[0]/norms_M[1]\n",
    "\n",
    "    mfile_DD = root_dir_m+'qpm-unrecon-%s-DD.dat'%str(mock_no).zfill(4)\n",
    "    mfile_DR = root_dir_m+'qpm-unrecon-%s-DR.dat'%str(mock_no).zfill(4)\n",
    "    DD_data_M = np.loadtxt(mfile_DD,skiprows=2)\n",
    "    DR_data_M = np.loadtxt(mfile_DR,skiprows=2)*factor\n",
    "    RR_data_M = all_RR_data_M*factor**2.\n",
    "\n",
    "    xi_est_M = (DD_data_M-2.*DR_data_M+RR_data_M)/RR_data_M\n",
    "    \n",
    "    return r_bins_m,mu_bins_m,DD_data_M,DR_data_M,RR_data_M,xi_est_M"
   ]
  },
  {
   "cell_type": "code",
   "execution_count": 282,
   "metadata": {},
   "outputs": [],
   "source": [
    "for ii in range(1,100):\n",
    "    r_bins_m,mu_bins_m,DD,DR,RR,xi_fine = compute_all_xi(ii)\n",
    "    r_new=int(len(r_bins_m)//5);mu_new=int(len(mu_bins_m)//12)\n",
    "    xi_coarse=np.zeros([r_new,mu_new])\n",
    "    norm_coarse = np.zeros([r_new,mu_new])\n",
    "    r_coarse=np.zeros(r_new);mu_coarse=np.zeros(mu_new)\n",
    "    for j in range(len(mu_bins_m)//12*12):\n",
    "        mu_coarse[j//12]+=mu_bins_m[j]/12.\n",
    "    for i in range(len(r_bins_m)//5*5):\n",
    "        r_coarse[i//5]+=0.2*r_bins_m[i]\n",
    "        for j in range(len(mu_bins_m)//12*12):\n",
    "            xi_coarse[i//5,j//12]+=(DD[i,j]-2.*DR[i,j]+RR[i,j])#*np.sqrt(1.-mu_bins_m[j]**2.)\n",
    "            norm_coarse[i//5,j//12]+=RR[i,j]#np.sqrt(1.-mu_bins_m[j]**2.)\n",
    "    xi_coarse/=norm_coarse\n",
    "    \n",
    "    outdir='/mnt/store1/oliverphilcox/CMU/xi_functions_QPM/'\n",
    "    with open(outdir+'QPM_CoarseNew_mock_%d.xi'%ii,\"w\") as outfile:\n",
    "        for i in range(len(r_coarse)):\n",
    "            outfile.write(\"%.8e \"%r_coarse[i])\n",
    "        outfile.write(\"\\n\")\n",
    "        for j in range(len(mu_coarse)):\n",
    "            outfile.write(\"%.8e \"%mu_coarse[j])\n",
    "        outfile.write(\"\\n\")\n",
    "        for i in range(len(r_coarse)):\n",
    "            for j in range(len(mu_coarse)):\n",
    "                outfile.write(\"%.8e \"%xi_coarse[i][j])\n",
    "            outfile.write(\"\\n\")"
   ]
  },
  {
   "cell_type": "code",
   "execution_count": 275,
   "metadata": {},
   "outputs": [
    {
     "data": {
      "text/plain": [
       "array([0.05, 0.15, 0.25, 0.35, 0.45, 0.55, 0.65, 0.75, 0.85, 0.95])"
      ]
     },
     "execution_count": 275,
     "metadata": {},
     "output_type": "execute_result"
    }
   ],
   "source": [
    "np.loadtxt('/mnt/store1/oliverphilcox/CMU/xi_functions_QPM/QPM_CoarseNew_mock_10.xi',skiprows=1)[0]"
   ]
  },
  {
   "cell_type": "code",
   "execution_count": 251,
   "metadata": {},
   "outputs": [
    {
     "data": {
      "image/png": "[encoded data removed]",
      "text/plain": [
       "<Figure size 432x288 with 1 Axes>"
      ]
     },
     "metadata": {
      "needs_background": "light"
     },
     "output_type": "display_data"
    }
   ],
   "source": [
    "plt.plot(mu_bins_m,xi_fine[12,:],label='Fine')\n",
    "plt.plot(mu_coarse,xi_coarse[2,:],label='Coarse');plt.legend();"
   ]
  },
  {
   "cell_type": "code",
   "execution_count": 249,
   "metadata": {},
   "outputs": [
    {
     "data": {
      "image/png": "[encoded data removed]",
      "text/plain": [
       "<Figure size 432x288 with 1 Axes>"
      ]
     },
     "metadata": {
      "needs_background": "light"
     },
     "output_type": "display_data"
    }
   ],
   "source": [
    "plt.plot(mu_bins_m,xi_fine[12,:],label='Fine')\n",
    "plt.plot(mu_coarse,xi_coarse[2,:],label='Coarse');plt.legend();"
   ]
  },
  {
   "cell_type": "code",
   "execution_count": null,
   "metadata": {},
   "outputs": [],
   "source": []
  },
  {
   "cell_type": "markdown",
   "metadata": {},
   "source": [
    "Rebin Mock1 estimate into coarser bins of $\\Delta\\mu=0.1$,$\\Delta{}r=5$:"
   ]
  },
  {
   "cell_type": "code",
   "execution_count": 85,
   "metadata": {},
   "outputs": [
    {
     "data": {
      "text/plain": [
       "24240"
      ]
     },
     "execution_count": 85,
     "metadata": {},
     "output_type": "execute_result"
    }
   ],
   "source": [
    "len(r_bins_m)*len(mu_bins_m)"
   ]
  },
  {
   "cell_type": "code",
   "execution_count": 248,
   "metadata": {},
   "outputs": [],
   "source": [
    "for ii in range(1,100):\n",
    "    r_bins_m,mu_bins_m,xi_fine = compute_xi_Mariana(ii)\n",
    "    r_new=int(len(r_bins_m)//5);mu_new=int(len(mu_bins_m)//12)\n",
    "    xi_coarse=np.zeros([r_new,mu_new])\n",
    "    r_coarse=np.zeros(r_new);mu_coarse=np.zeros(mu_new)\n",
    "    for j in range(len(mu_bins_m)//12*12):\n",
    "        mu_coarse[j//12]+=mu_bins_m[j]/12.\n",
    "    for i in range(len(r_bins_m)//5*5):\n",
    "        r_coarse[i//5]+=0.2*r_bins_m[i]\n",
    "        for j in range(len(mu_bins_m)//12*12):\n",
    "            xi_coarse[i//5,j//12]+=xi_fine[i,j]/(5.*12.)\n",
    "            \n",
    "    outdir='/mnt/store1/oliverphilcox/CMU/xi_functions_QPM/'\n",
    "    with open(outdir+'QPM_Coarse_mock_%d.xi'%ii,\"w\") as outfile:\n",
    "        for i in range(len(r_coarse)):\n",
    "            outfile.write(\"%.8e \"%r_coarse[i])\n",
    "        outfile.write(\"\\n\")\n",
    "        for j in range(len(mu_coarse)):\n",
    "            outfile.write(\"%.8e \"%mu_coarse[j])\n",
    "        outfile.write(\"\\n\")\n",
    "        for i in range(len(r_coarse)):\n",
    "            for j in range(len(mu_coarse)):\n",
    "                outfile.write(\"%.8e \"%xi_coarse[i][j])\n",
    "            outfile.write(\"\\n\")"
   ]
  },
  {
   "cell_type": "code",
   "execution_count": 156,
   "metadata": {},
   "outputs": [],
   "source": [
    "## Repeat for mean:\n",
    "xi_fine=np.genfromtxt(\"../../xi_functions/QPM_Mean_xi.txt\",skip_header=2)\n",
    "r_bins_m = np.genfromtxt(\"../../xi_functions/QPM_Mean_xi.txt\",max_rows=1)\n",
    "mu_bins_m = np.genfromtxt('../../xi_functions/QPM_Mean_xi.txt',skip_header=1,max_rows=1)\n",
    "r_new=int(len(r_bins_m)//5);mu_new=int(len(mu_bins_m)//12)\n",
    "xi_coarse=np.zeros([r_new,mu_new])\n",
    "norm_coarse = np.zeros([r_new,mu_new])\n",
    "r_coarse=np.zeros(r_new);mu_coarse=np.zeros(mu_new)\n",
    "for j in range(len(mu_bins_m)//12*12):\n",
    "    mu_coarse[j//12]+=mu_bins_m[j]/12.\n",
    "for i in range(len(r_bins_m)//5*5):\n",
    "    r_coarse[i//5]+=0.2*r_bins_m[i]\n",
    "    for j in range(len(mu_bins_m)//12*12):\n",
    "        xi_coarse[i//5,j//12]+=xi_fine[i,j]*r_bins_m[i]**2.#*np.sqrt(1.-mu_bins_m[j]**2.)\n",
    "        norm_coarse[i//5,j//12]+=r_bins_m[i]**2.#np.sqrt(1.-mu_bins_m[j]**2.)\n",
    "xi_coarse/=norm_coarse"
   ]
  },
  {
   "cell_type": "code",
   "execution_count": 145,
   "metadata": {},
   "outputs": [],
   "source": [
    "outdir='/mnt/store1/oliverphilcox/CMU/xi_functions_QPM/'\n",
    "with open(outdir+'QPM_Coarse_mean.xi',\"w\") as outfile:\n",
    "    for i in range(len(r_coarse)):\n",
    "        outfile.write(\"%.8e \"%r_coarse[i])\n",
    "    outfile.write(\"\\n\")\n",
    "    for j in range(len(mu_coarse)):\n",
    "        outfile.write(\"%.8e \"%mu_coarse[j])\n",
    "    outfile.write(\"\\n\")\n",
    "    for i in range(len(r_coarse)):\n",
    "        for j in range(len(mu_coarse)):\n",
    "            outfile.write(\"%.8e \"%xi_coarse[i][j])\n",
    "        outfile.write(\"\\n\")"
   ]
  },
  {
   "cell_type": "code",
   "execution_count": 153,
   "metadata": {},
   "outputs": [
    {
     "data": {
      "text/plain": [
       "12.5"
      ]
     },
     "execution_count": 153,
     "metadata": {},
     "output_type": "execute_result"
    }
   ],
   "source": [
    "r_bins_m[12]"
   ]
  },
  {
   "cell_type": "code",
   "execution_count": 154,
   "metadata": {},
   "outputs": [
    {
     "data": {
      "text/plain": [
       "12.500000000000002"
      ]
     },
     "execution_count": 154,
     "metadata": {},
     "output_type": "execute_result"
    }
   ],
   "source": [
    "r_coarse[2]"
   ]
  },
  {
   "cell_type": "code",
   "execution_count": null,
   "metadata": {},
   "outputs": [],
   "source": []
  },
  {
   "cell_type": "code",
   "execution_count": null,
   "metadata": {},
   "outputs": [],
   "source": []
  },
  {
   "cell_type": "code",
   "execution_count": 158,
   "metadata": {},
   "outputs": [
    {
     "data": {
      "text/plain": [
       "[<matplotlib.lines.Line2D at 0x7f63ca941208>]"
      ]
     },
     "execution_count": 158,
     "metadata": {},
     "output_type": "execute_result"
    },
    {
     "data": {
      "image/png": "[encoded data removed]",
      "text/plain": [
       "<Figure size 432x288 with 1 Axes>"
      ]
     },
     "metadata": {
      "needs_background": "light"
     },
     "output_type": "display_data"
    }
   ],
   "source": [
    "plt.plot(mu_bins_m,xi_fine[6,:])\n",
    "plt.plot(mu_coarse,xi_coarse[1,:])"
   ]
  },
  {
   "cell_type": "code",
   "execution_count": 143,
   "metadata": {},
   "outputs": [
    {
     "data": {
      "text/plain": [
       "(0.554166667, 0.55)"
      ]
     },
     "execution_count": 143,
     "metadata": {},
     "output_type": "execute_result"
    }
   ],
   "source": [
    "mu_bins_m[66],mu_coarse[5]"
   ]
  },
  {
   "cell_type": "code",
   "execution_count": 246,
   "metadata": {},
   "outputs": [
    {
     "data": {
      "text/plain": [
       "[<matplotlib.lines.Line2D at 0x7f63c8b59978>]"
      ]
     },
     "execution_count": 246,
     "metadata": {},
     "output_type": "execute_result"
    },
    {
     "data": {
      "image/png": "[encoded data removed]",
      "text/plain": [
       "<Figure size 432x288 with 1 Axes>"
      ]
     },
     "metadata": {
      "needs_background": "light"
     },
     "output_type": "display_data"
    }
   ],
   "source": [
    "plt.plot(r_bins_m,xi_fine[:,66]*r_bins_m**2.)\n",
    "plt.plot(r_coarse,xi_coarse[:,5]*r_coarse**2.)"
   ]
  },
  {
   "cell_type": "code",
   "execution_count": 247,
   "metadata": {},
   "outputs": [
    {
     "data": {
      "image/png": "[encoded data removed]",
      "text/plain": [
       "<Figure size 432x288 with 1 Axes>"
      ]
     },
     "metadata": {
      "needs_background": "light"
     },
     "output_type": "display_data"
    }
   ],
   "source": [
    "plt.plot(r_bins_m,xi_fine.mean(axis=1)*r_bins_m*r_bins_m,label='Fine',alpha=0.6)\n",
    "plt.plot(r_coarse,xi_coarse.mean(axis=1)*r_coarse**2.,label='Coarse')\n",
    "plt.legend();"
   ]
  },
  {
   "cell_type": "markdown",
   "metadata": {},
   "source": [
    "Now save"
   ]
  },
  {
   "cell_type": "code",
   "execution_count": 62,
   "metadata": {},
   "outputs": [],
   "source": [
    "outdir='/mnt/store1/oliverphilcox/CMU/xi_functions_QPM/'\n",
    "with open(outdir+'QPM_Coarse_mock_1.xi',\"w\") as outfile:\n",
    "    for i in range(len(r_coarse)):\n",
    "        outfile.write(\"%.8e \"%r_coarse[i])\n",
    "    outfile.write(\"\\n\")\n",
    "    for j in range(len(mu_coarse)):\n",
    "        outfile.write(\"%.8e \"%mu_coarse[j])\n",
    "    outfile.write(\"\\n\")\n",
    "    for i in range(len(r_coarse)):\n",
    "        for j in range(len(mu_coarse)):\n",
    "            outfile.write(\"%.8e \"%xi_coarse[i][j])\n",
    "        outfile.write(\"\\n\")"
   ]
  },
  {
   "cell_type": "code",
   "execution_count": 14,
   "metadata": {},
   "outputs": [],
   "source": [
    "tmp_xi = np.genfromtxt(\"/mnt/store1/oliverphilcox/CMU/xi_functions_QPM/QPM_Mariana_mock_5.xi\",skip_header=2)\n",
    "tmp_xi2 = np.genfromtxt(\"/mnt/store1/oliverphilcox/CMU/xi_functions_QPM/QPM_Mariana_mock_3.xi\",skip_header=2)\n"
   ]
  },
  {
   "cell_type": "code",
   "execution_count": 17,
   "metadata": {},
   "outputs": [
    {
     "data": {
      "text/plain": [
       "<matplotlib.collections.PathCollection at 0x7f7c4a1473c8>"
      ]
     },
     "execution_count": 17,
     "metadata": {},
     "output_type": "execute_result"
    },
    {
     "data": {
      "image/png": "[encoded data removed]",
      "text/plain": [
       "<Figure size 432x288 with 1 Axes>"
      ]
     },
     "metadata": {
      "needs_background": "light"
     },
     "output_type": "display_data"
    }
   ],
   "source": [
    "plt.scatter(tmp_xi.ravel(),tmp_xi2.ravel())"
   ]
  },
  {
   "cell_type": "code",
   "execution_count": 18,
   "metadata": {},
   "outputs": [],
   "source": [
    "factors=[]\n",
    "for i in range(1,100):\n",
    "    mfile_norms = root_dir_m+'qpm-unrecon-%s-norm.dat'%str(i).zfill(4)\n",
    "    norms_M = np.loadtxt(mfile_norms,usecols=1)\n",
    "    factor = norms_M[0]/norms_M[1]\n",
    "    factors.append(factor)"
   ]
  },
  {
   "cell_type": "code",
   "execution_count": 147,
   "metadata": {},
   "outputs": [
    {
     "data": {
      "text/plain": [
       "327134.2365956944"
      ]
     },
     "execution_count": 147,
     "metadata": {},
     "output_type": "execute_result"
    }
   ],
   "source": [
    "mean(factors)*6.5e6"
   ]
  },
  {
   "cell_type": "code",
   "execution_count": 284,
   "metadata": {},
   "outputs": [
    {
     "data": {
      "text/plain": [
       "323221.48476408346"
      ]
     },
     "execution_count": 284,
     "metadata": {},
     "output_type": "execute_result"
    }
   ],
   "source": [
    "factors[0]*6.5e6"
   ]
  },
  {
   "cell_type": "code",
   "execution_count": null,
   "metadata": {},
   "outputs": [],
   "source": []
  },
  {
   "cell_type": "code",
   "execution_count": null,
   "metadata": {},
   "outputs": [],
   "source": []
  },
  {
   "cell_type": "code",
   "execution_count": null,
   "metadata": {},
   "outputs": [],
   "source": []
  },
  {
   "cell_type": "markdown",
   "metadata": {},
   "source": [
    "Comparison with self-computed DD:"
   ]
  },
  {
   "cell_type": "code",
   "execution_count": 407,
   "metadata": {},
   "outputs": [],
   "source": [
    "DD_corrfunc = np.genfromtxt(\"/mnt/store1/oliverphilcox/CMU/QPM_DD1/DD_n36_m10.dat\").reshape(36,10)"
   ]
  },
  {
   "cell_type": "code",
   "execution_count": 427,
   "metadata": {},
   "outputs": [
    {
     "data": {
      "image/png": "[encoded data removed]",
      "text/plain": [
       "<Figure size 432x288 with 1 Axes>"
      ]
     },
     "metadata": {
      "needs_background": "light"
     },
     "output_type": "display_data"
    }
   ],
   "source": [
    "r_bins_all = np.loadtxt('../../python/binfile_linear.csv')\n",
    "r_bins_corrfunc = np.mean(r_bins_all,axis=1)\n",
    "plt.plot(r_bins_corrfunc,DD_corrfunc.mean(axis=1)/70.)\n",
    "plt.plot(r_bins_m,DD_data_M.mean(axis=1));\n",
    "plt.xscale('log');plt.yscale('log');"
   ]
  },
  {
   "cell_type": "code",
   "execution_count": 416,
   "metadata": {},
   "outputs": [
    {
     "data": {
      "text/plain": [
       "array([ 100517.66300002, 2021415.16049598])"
      ]
     },
     "execution_count": 416,
     "metadata": {},
     "output_type": "execute_result"
    }
   ],
   "source": [
    "norms_M"
   ]
  },
  {
   "cell_type": "code",
   "execution_count": 382,
   "metadata": {},
   "outputs": [
    {
     "data": {
      "text/plain": [
       "[<matplotlib.lines.Line2D at 0x7fe38fe78e48>]"
      ]
     },
     "execution_count": 382,
     "metadata": {},
     "output_type": "execute_result"
    },
    {
     "data": {
      "image/png": "[encoded data removed]",
      "text/plain": [
       "<Figure size 432x288 with 1 Axes>"
      ]
     },
     "metadata": {
      "needs_background": "light"
     },
     "output_type": "display_data"
    }
   ],
   "source": [
    "plt.plot(r_bins_m,DD_data_M[:,0])"
   ]
  },
  {
   "cell_type": "code",
   "execution_count": 378,
   "metadata": {},
   "outputs": [],
   "source": [
    "mock_no=1\n",
    "ratio_gal_rand = float(np.genfromtxt(root_dir+'xyz%d_real.txt.pairs'%mock_no,max_rows=1))\n",
    "pairs_data = np.loadtxt(root_dir+'xyz%d_real.txt.pairs'%mock_no,skiprows=1)\n",
    "r_all = pairs_data[:,0]\n",
    "mu_all = pairs_data[:,1]\n",
    "r_bins = np.unique(r_all)\n",
    "mu_bins = np.unique(mu_all)\n",
    "DD_data = pairs_data[:,2].reshape(len(r_bins),len(mu_bins))\n",
    "DR_data = pairs_data[:,3].reshape(len(r_bins),len(mu_bins))*ratio_gal_rand/2. # from different normalization\n",
    "RR_data = pairs_data[:,4].reshape(len(r_bins),len(mu_bins))*ratio_gal_rand**2.\n",
    "xi_est = (DD_data-2.*DR_data+RR_data)/RR_data"
   ]
  },
  {
   "cell_type": "code",
   "execution_count": 379,
   "metadata": {},
   "outputs": [],
   "source": [
    "mfile_norms = root_dir_m+'qpm-unrecon-%s-norm.dat'%str(mock_no).zfill(4)\n",
    "norms_M = np.loadtxt(mfile_norms,usecols=1)\n",
    "factor = norms_M[0]/norms_M[1]\n",
    "\n",
    "mfile_DD = root_dir_m+'qpm-unrecon-%s-DD.dat'%str(mock_no).zfill(4)\n",
    "mfile_DR = root_dir_m+'qpm-unrecon-%s-DR.dat'%str(mock_no).zfill(4)\n",
    "DD_data_M = np.loadtxt(mfile_DD,skiprows=2)\n",
    "DR_data_M = np.loadtxt(mfile_DR,skiprows=2)*factor\n",
    "RR_data_M = all_RR_data_M*factor**2.\n",
    "\n",
    "xi_est_M = (DD_data_M-2.*DR_data_M+RR_data_M)/RR_data_M"
   ]
  },
  {
   "cell_type": "code",
   "execution_count": 348,
   "metadata": {},
   "outputs": [
    {
     "data": {
      "image/png": "[encoded data removed]",
      "text/plain": [
       "<Figure size 432x288 with 1 Axes>"
      ]
     },
     "metadata": {
      "needs_background": "light"
     },
     "output_type": "display_data"
    }
   ],
   "source": [
    "plt.plot(r_bins,DR_data.mean(axis=1),label='Ross')#*r_bins*r_bins)\n",
    "plt.plot(r_bins_m,DR_data_M.mean(axis=1),label='Mariana')\n",
    "plt.legend();"
   ]
  },
  {
   "cell_type": "code",
   "execution_count": null,
   "metadata": {},
   "outputs": [],
   "source": []
  },
  {
   "cell_type": "code",
   "execution_count": null,
   "metadata": {},
   "outputs": [],
   "source": []
  },
  {
   "cell_type": "code",
   "execution_count": null,
   "metadata": {},
   "outputs": [],
   "source": []
  },
  {
   "cell_type": "code",
   "execution_count": 152,
   "metadata": {},
   "outputs": [],
   "source": [
    "infile='/mnt/store1/oliverphilcox/CMU/QPM for Oliver/QPM_50X_Randoms/mock_random_DR12_CMASS_N_50x1.rdzw'\n",
    "with open(infile,\"r\") as opener:\n",
    "    for n,line in enumerate(opener):\n",
    "        if n>10:\n",
    "            break\n",
    "        x=line"
   ]
  },
  {
   "cell_type": "code",
   "execution_count": 153,
   "metadata": {},
   "outputs": [
    {
     "data": {
      "text/plain": [
       "array([230.3004  ,  32.875587,   0.433583,   0.299762])"
      ]
     },
     "execution_count": 153,
     "metadata": {},
     "output_type": "execute_result"
    }
   ],
   "source": [
    "np.asarray(x.strip().split('  '),dtype=float)"
   ]
  },
  {
   "cell_type": "code",
   "execution_count": null,
   "metadata": {},
   "outputs": [],
   "source": []
  },
  {
   "cell_type": "code",
   "execution_count": null,
   "metadata": {},
   "outputs": [],
   "source": []
  },
  {
   "cell_type": "code",
   "execution_count": null,
   "metadata": {},
   "outputs": [],
   "source": []
  },
  {
   "cell_type": "markdown",
   "metadata": {},
   "source": [
    "Try out some new binning:"
   ]
  },
  {
   "cell_type": "code",
   "execution_count": 328,
   "metadata": {},
   "outputs": [],
   "source": [
    "r_cross=50\n",
    "r_min=0.1\n",
    "r_max=200\n",
    "delta_r=5\n",
    "delta_log_r = 0.2\n",
    "all_r=np.concatenate((np.exp(np.arange(np.log(r_min),np.log(r_cross),delta_log_r)),np.arange(r_cross,r_max+delta_r,delta_r)))"
   ]
  },
  {
   "cell_type": "markdown",
   "metadata": {},
   "source": [
    "## Get middle to match up\n",
    "\n"
   ]
  },
  {
   "cell_type": "code",
   "execution_count": 329,
   "metadata": {},
   "outputs": [
    {
     "name": "stdout",
     "output_type": "stream",
     "text": [
      "0.100 0.122\n",
      "0.122 0.149\n",
      "0.149 0.182\n",
      "0.182 0.223\n",
      "0.223 0.272\n",
      "0.272 0.332\n",
      "0.332 0.406\n",
      "0.406 0.495\n",
      "0.495 0.605\n",
      "0.605 0.739\n",
      "0.739 0.903\n",
      "0.903 1.102\n",
      "1.102 1.346\n",
      "1.346 1.644\n",
      "1.644 2.009\n",
      "2.009 2.453\n",
      "2.453 2.996\n",
      "2.996 3.660\n",
      "3.660 4.470\n",
      "4.470 5.460\n",
      "5.460 6.669\n",
      "6.669 8.145\n",
      "8.145 9.948\n",
      "9.948 12.151\n",
      "12.151 14.841\n",
      "14.841 18.127\n",
      "18.127 22.141\n",
      "22.141 27.043\n",
      "27.043 33.030\n",
      "33.030 40.343\n",
      "40.343 49.275\n",
      "49.275 50.000\n",
      "50.000 55.000\n",
      "55.000 60.000\n",
      "60.000 65.000\n",
      "65.000 70.000\n",
      "70.000 75.000\n",
      "75.000 80.000\n",
      "80.000 85.000\n",
      "85.000 90.000\n",
      "90.000 95.000\n",
      "95.000 100.000\n",
      "100.000 105.000\n",
      "105.000 110.000\n",
      "110.000 115.000\n",
      "115.000 120.000\n",
      "120.000 125.000\n",
      "125.000 130.000\n",
      "130.000 135.000\n",
      "135.000 140.000\n",
      "140.000 145.000\n",
      "145.000 150.000\n",
      "150.000 155.000\n",
      "155.000 160.000\n",
      "160.000 165.000\n",
      "165.000 170.000\n",
      "170.000 175.000\n",
      "175.000 180.000\n",
      "180.000 185.000\n",
      "185.000 190.000\n",
      "190.000 195.000\n",
      "195.000 200.000\n"
     ]
    }
   ],
   "source": [
    "for rr in range(len(all_r)-1):\n",
    "    print(\"%.3f %.3f\"%(all_r[rr],all_r[rr+1]))"
   ]
  },
  {
   "cell_type": "code",
   "execution_count": null,
   "metadata": {},
   "outputs": [],
   "source": []
  },
  {
   "cell_type": "code",
   "execution_count": null,
   "metadata": {},
   "outputs": [],
   "source": []
  }
 ],
 "metadata": {
  "kernelspec": {
   "display_name": "Python 3",
   "language": "python",
   "name": "python3"
  },
  "language_info": {
   "codemirror_mode": {
    "name": "ipython",
    "version": 3
   },
   "file_extension": ".py",
   "mimetype": "text/x-python",
   "name": "python",
   "nbconvert_exporter": "python",
   "pygments_lexer": "ipython3",
   "version": "3.7.0"
  }
 },
 "nbformat": 4,
 "nbformat_minor": 2
}
