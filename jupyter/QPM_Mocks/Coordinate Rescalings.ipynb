{
 "cells": [
  {
   "cell_type": "markdown",
   "metadata": {},
   "source": [
    "### How does covariance depend on the choice of cosmology?"
   ]
  },
  {
   "cell_type": "code",
   "execution_count": 7,
   "metadata": {},
   "outputs": [
    {
     "name": "stdout",
     "output_type": "stream",
     "text": [
      "Populating the interactive namespace from numpy and matplotlib\n"
     ]
    }
   ],
   "source": [
    "%pylab inline"
   ]
  },
  {
   "cell_type": "markdown",
   "metadata": {},
   "source": [
    "See how coordinates change with different cosmologies:"
   ]
  },
  {
   "cell_type": "code",
   "execution_count": 9,
   "metadata": {},
   "outputs": [],
   "source": [
    "omega_m = 0.29\n",
    "w_dark_energy = -1.\n",
    "omega_k = 0.\n",
    "\n",
    "input_file = '/mnt/store1/oliverphilcox/DR12_QPM/unprocessed/mock_galaxy_DR12_CMASS_N_QPM_0001.rdzw'\n",
    "\n",
    "# Load the wcdm module from Daniel Eisenstein\n",
    "import os,sys\n",
    "sys.path.insert(0, '/home/oliverphilcox/COMAJE/python/wcdm/')\n",
    "import wcdm\n",
    "\n",
    "dat = np.loadtxt(input_file)"
   ]
  },
  {
   "cell_type": "code",
   "execution_count": 10,
   "metadata": {},
   "outputs": [],
   "source": [
    "ra,dec,z,w=[dat[:,i] for i in range(4)]"
   ]
  },
  {
   "cell_type": "code",
   "execution_count": 18,
   "metadata": {},
   "outputs": [],
   "source": [
    "comoving_radius=wcdm.coorddist(z,omega_m,w_dark_energy,omega_k)\n",
    "comoving_radius2=wcdm.coorddist(z,omega_m+0.02,w_dark_energy,omega_k)"
   ]
  },
  {
   "cell_type": "code",
   "execution_count": 21,
   "metadata": {},
   "outputs": [
    {
     "data": {
      "text/plain": [
       "(array([24118., 36469., 52187., 68952., 81069., 93451., 96492., 87842.,\n",
       "        68073., 33398.]),\n",
       " array([0.99088271, 0.99118929, 0.99149588, 0.99180246, 0.99210904,\n",
       "        0.99241563, 0.99272221, 0.99302879, 0.99333538, 0.99364196,\n",
       "        0.99394854]),\n",
       " <a list of 10 Patch objects>)"
      ]
     },
     "execution_count": 21,
     "metadata": {},
     "output_type": "execute_result"
    },
    {
     "data": {
      "image/png": "[encoded data removed]",
      "text/plain": [
       "<Figure size 432x288 with 1 Axes>"
      ]
     },
     "metadata": {
      "needs_background": "light"
     },
     "output_type": "display_data"
    }
   ],
   "source": [
    "plt.hist(comoving_radius2/comoving_radius)"
   ]
  },
  {
   "cell_type": "code",
   "execution_count": null,
   "metadata": {},
   "outputs": [],
   "source": []
  },
  {
   "cell_type": "code",
   "execution_count": null,
   "metadata": {},
   "outputs": [],
   "source": []
  },
  {
   "cell_type": "code",
   "execution_count": null,
   "metadata": {},
   "outputs": [],
   "source": []
  },
  {
   "cell_type": "code",
   "execution_count": null,
   "metadata": {},
   "outputs": [],
   "source": [
    "      \n",
    "from astropy.constants import c as c_light\n",
    "import astropy.units as u\n",
    "\n",
    "print(\"Converting z to comoving distances:\")\n",
    "all_comoving_radius=wcdm.coorddist(all_z,omega_m,w_dark_energy,omega_k)\n",
    "\n",
    "# Convert to Mpc/h\n",
    "H_0_h=100*u.km/u.s/u.Mpc # to ensure we get output in Mpc/h units\n",
    "H_0_SI = H_0_h.to(1./u.s)\n",
    "comoving_radius_Mpc = ((all_comoving_radius/H_0_SI*c_light).to(u.Mpc)).value\n",
    "\n",
    "# Convert to polar coordinates in radians\n",
    "all_phi_rad = all_ra*np.pi/180.\n",
    "all_theta_rad = np.pi/2.-all_dec*np.pi/180.\n",
    "\n",
    "# Now convert to x,y,z coordinates\n",
    "all_z = comoving_radius_Mpc*np.cos(all_theta_rad)\n",
    "all_x = comoving_radius_Mpc*np.sin(all_theta_rad)*np.cos(all_phi_rad)\n",
    "all_y = comoving_radius_Mpc*np.sin(all_theta_rad)*np.sin(all_phi_rad)\n",
    "\n",
    "print(\"Writing to file %s:\"%output_file)\n",
    "# Now write to file:\n",
    "with open(output_file,\"w+\") as outfile:\n",
    "    for p in range(len(all_z)):\n",
    "        outfile.write(\"%.8f %.8f %.8f %.8f\\n\" %(all_x[p],all_y[p],all_z[p],all_w[p]))\n",
    "print(\"Output positions (of length %d) written succesfully!\"%len(all_z))\n"
   ]
  }
 ],
 "metadata": {
  "kernelspec": {
   "display_name": "Python 3",
   "language": "python",
   "name": "python3"
  },
  "language_info": {
   "codemirror_mode": {
    "name": "ipython",
    "version": 3
   },
   "file_extension": ".py",
   "mimetype": "text/x-python",
   "name": "python",
   "nbconvert_exporter": "python",
   "pygments_lexer": "ipython3",
   "version": "3.7.0"
  }
 },
 "nbformat": 4,
 "nbformat_minor": 2
}
