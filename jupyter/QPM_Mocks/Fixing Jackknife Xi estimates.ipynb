{
 "cells": [
  {
   "cell_type": "markdown",
   "metadata": {},
   "source": [
    "## Fix Jackknife Pair Counts"
   ]
  },
  {
   "cell_type": "code",
   "execution_count": 117,
   "metadata": {},
   "outputs": [],
   "source": [
    "randoms = np.loadtxt('/mnt/store1/oliverphilcox/DR12_QPM/qpm_randoms_10x.xyzwj')"
   ]
  },
  {
   "cell_type": "code",
   "execution_count": 118,
   "metadata": {},
   "outputs": [],
   "source": [
    "jackknives = np.asarray(randoms[:,4],dtype=int)"
   ]
  },
  {
   "cell_type": "code",
   "execution_count": 119,
   "metadata": {},
   "outputs": [],
   "source": [
    "jacks = np.unique(jackknives)\n",
    "sum_weights = np.zeros(len(jacks))\n",
    "for j,jack in enumerate(jacks):\n",
    "    filt = np.where(jackknives==jack)\n",
    "    sum_weights[j]=np.sum(randoms[filt,3])\n",
    "tot_weights = np.sum(randoms[:,3])"
   ]
  },
  {
   "cell_type": "code",
   "execution_count": 122,
   "metadata": {},
   "outputs": [],
   "source": [
    "for mock_no in range(1,21):\n",
    "    xi_file = np.loadtxt('/mnt/store1/oliverphilcox/DR12_QPM/xi_jack/mock_%d/xi_jack_n35_m10_j169_11.dat'%mock_no,skiprows=2)\n",
    "\n",
    "    xi_new = np.zeros_like(xi_file)\n",
    "    for j in range(len(xi_new)):\n",
    "        xi_new[j] = (xi_file[j,:]-1.)*tot_weights/sum_weights[j]+1.\n",
    "        \n",
    "    r_file = np.genfromtxt('/mnt/store1/oliverphilcox/DR12_QPM/xi_jack/mock_%d/xi_jack_n35_m10_j169_11.dat'%mock_no,max_rows=1)\n",
    "    mu_file = np.genfromtxt('/mnt/store1/oliverphilcox/DR12_QPM/xi_jack/mock_%d/xi_jack_n35_m10_j169_11.dat'%mock_no,max_rows=1,skip_header=1)\n",
    "\n",
    "    outfile = \"/mnt/store1/oliverphilcox/DR12_QPM/xi_jack/mock_%d/xi_jack_corrected_n35_m10_j169_11.dat\"%mock_no\n",
    "    with open(outfile,\"w+\") as out:\n",
    "        for ri,r in enumerate(r_file):\n",
    "            out.write(\"%.8e\"%r)\n",
    "            if ri<len(r_file)-1:\n",
    "                out.write(\"\\t\")\n",
    "            else:\n",
    "                out.write(\"\\n\")\n",
    "        for mui,mu in enumerate(mu_file):\n",
    "            out.write(\"%.8f\"%mu)\n",
    "            if mui<len(mu_file)-1:\n",
    "                out.write(\"\\t\")\n",
    "            else:\n",
    "                out.write(\"\\n\")\n",
    "        for j in range(len(xi_new)):\n",
    "            for i in range(xi_new.shape[1]):\n",
    "                out.write(\"%.8e\"%xi_new[j,i])\n",
    "                if i<xi_new.shape[1]-1:\n",
    "                    out.write(\"\\t\")\n",
    "                else:\n",
    "                    out.write(\"\\n\")"
   ]
  },
  {
   "cell_type": "code",
   "execution_count": 121,
   "metadata": {},
   "outputs": [
    {
     "ename": "ValueError",
     "evalue": "Wrong number of columns at line 2",
     "output_type": "error",
     "traceback": [
      "\u001b[0;31m---------------------------------------------------------------------------\u001b[0m",
      "\u001b[0;31mValueError\u001b[0m                                Traceback (most recent call last)",
      "\u001b[0;32m<ipython-input-121-f4ae31ce3e43>\u001b[0m in \u001b[0;36m<module>\u001b[0;34m()\u001b[0m\n\u001b[0;32m----> 1\u001b[0;31m \u001b[0mxi_jack\u001b[0m \u001b[0;34m=\u001b[0m \u001b[0mnp\u001b[0m\u001b[0;34m.\u001b[0m\u001b[0mloadtxt\u001b[0m\u001b[0;34m(\u001b[0m\u001b[0;34m\"/mnt/store1/oliverphilcox/DR12_QPM/xi_jack/mock_1/xi_jack_corrected_n35_m10_j169_11.dat\"\u001b[0m\u001b[0;34m)\u001b[0m\u001b[0;34m\u001b[0m\u001b[0m\n\u001b[0m\u001b[1;32m      2\u001b[0m \u001b[0mxi_full\u001b[0m \u001b[0;34m=\u001b[0m \u001b[0mnp\u001b[0m\u001b[0;34m.\u001b[0m\u001b[0mloadtxt\u001b[0m\u001b[0;34m(\u001b[0m\u001b[0;34m\"/mnt/store1/oliverphilcox/DR12_QPM/xi/mock_1/xi_n45_m10_11.dat\"\u001b[0m\u001b[0;34m,\u001b[0m\u001b[0mskiprows\u001b[0m\u001b[0;34m=\u001b[0m\u001b[0;36m2\u001b[0m\u001b[0;34m)\u001b[0m\u001b[0;34m\u001b[0m\u001b[0m\n",
      "\u001b[0;32m~/anaconda3/lib/python3.7/site-packages/numpy/lib/npyio.py\u001b[0m in \u001b[0;36mloadtxt\u001b[0;34m(fname, dtype, comments, delimiter, converters, skiprows, usecols, unpack, ndmin, encoding)\u001b[0m\n\u001b[1;32m   1099\u001b[0m         \u001b[0;31m# converting the data\u001b[0m\u001b[0;34m\u001b[0m\u001b[0;34m\u001b[0m\u001b[0m\n\u001b[1;32m   1100\u001b[0m         \u001b[0mX\u001b[0m \u001b[0;34m=\u001b[0m \u001b[0;32mNone\u001b[0m\u001b[0;34m\u001b[0m\u001b[0m\n\u001b[0;32m-> 1101\u001b[0;31m         \u001b[0;32mfor\u001b[0m \u001b[0mx\u001b[0m \u001b[0;32min\u001b[0m \u001b[0mread_data\u001b[0m\u001b[0;34m(\u001b[0m\u001b[0m_loadtxt_chunksize\u001b[0m\u001b[0;34m)\u001b[0m\u001b[0;34m:\u001b[0m\u001b[0;34m\u001b[0m\u001b[0m\n\u001b[0m\u001b[1;32m   1102\u001b[0m             \u001b[0;32mif\u001b[0m \u001b[0mX\u001b[0m \u001b[0;32mis\u001b[0m \u001b[0;32mNone\u001b[0m\u001b[0;34m:\u001b[0m\u001b[0;34m\u001b[0m\u001b[0m\n\u001b[1;32m   1103\u001b[0m                 \u001b[0mX\u001b[0m \u001b[0;34m=\u001b[0m \u001b[0mnp\u001b[0m\u001b[0;34m.\u001b[0m\u001b[0marray\u001b[0m\u001b[0;34m(\u001b[0m\u001b[0mx\u001b[0m\u001b[0;34m,\u001b[0m \u001b[0mdtype\u001b[0m\u001b[0;34m)\u001b[0m\u001b[0;34m\u001b[0m\u001b[0m\n",
      "\u001b[0;32m~/anaconda3/lib/python3.7/site-packages/numpy/lib/npyio.py\u001b[0m in \u001b[0;36mread_data\u001b[0;34m(chunk_size)\u001b[0m\n\u001b[1;32m   1023\u001b[0m                 \u001b[0mline_num\u001b[0m \u001b[0;34m=\u001b[0m \u001b[0mi\u001b[0m \u001b[0;34m+\u001b[0m \u001b[0mskiprows\u001b[0m \u001b[0;34m+\u001b[0m \u001b[0;36m1\u001b[0m\u001b[0;34m\u001b[0m\u001b[0m\n\u001b[1;32m   1024\u001b[0m                 raise ValueError(\"Wrong number of columns at line %d\"\n\u001b[0;32m-> 1025\u001b[0;31m                                  % line_num)\n\u001b[0m\u001b[1;32m   1026\u001b[0m \u001b[0;34m\u001b[0m\u001b[0m\n\u001b[1;32m   1027\u001b[0m             \u001b[0;31m# Convert each value according to its column and store\u001b[0m\u001b[0;34m\u001b[0m\u001b[0;34m\u001b[0m\u001b[0m\n",
      "\u001b[0;31mValueError\u001b[0m: Wrong number of columns at line 2"
     ]
    }
   ],
   "source": [
    "xi_jack = np.loadtxt(\"/mnt/store1/oliverphilcox/DR12_QPM/xi_jack/mock_1/xi_jack_corrected_n35_m10_j169_11.dat\")\n",
    "xi_full = np.loadtxt(\"/mnt/store1/oliverphilcox/DR12_QPM/xi/mock_1/xi_n45_m10_11.dat\",skiprows=2)"
   ]
  },
  {
   "cell_type": "code",
   "execution_count": null,
   "metadata": {},
   "outputs": [],
   "source": [
    "plt.plot(xi_jack.mean(axis=0))\n",
    "plt.plot(xi_full.reshape(-1,1)[100:])"
   ]
  },
  {
   "cell_type": "code",
   "execution_count": null,
   "metadata": {},
   "outputs": [],
   "source": []
  }
 ],
 "metadata": {
  "kernelspec": {
   "display_name": "Python 3",
   "language": "python",
   "name": "python3"
  },
  "language_info": {
   "codemirror_mode": {
    "name": "ipython",
    "version": 3
   },
   "file_extension": ".py",
   "mimetype": "text/x-python",
   "name": "python",
   "nbconvert_exporter": "python",
   "pygments_lexer": "ipython3",
   "version": "3.7.0"
  }
 },
 "nbformat": 4,
 "nbformat_minor": 2
}
