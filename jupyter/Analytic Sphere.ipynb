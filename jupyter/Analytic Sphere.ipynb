{
 "cells": [
  {
   "cell_type": "code",
   "execution_count": 1,
   "metadata": {},
   "outputs": [
    {
     "name": "stdout",
     "output_type": "stream",
     "text": [
      "Populating the interactive namespace from numpy and matplotlib\n"
     ]
    }
   ],
   "source": [
    "%pylab inline"
   ]
  },
  {
   "cell_type": "markdown",
   "metadata": {},
   "source": [
    "## Compute C2 analytically for a uniform spherical shell"
   ]
  },
  {
   "cell_type": "code",
   "execution_count": 11,
   "metadata": {},
   "outputs": [],
   "source": [
    "R1=500;\n",
    "R2=2000; # sphere inner/outer radii in Mpc\n",
    "nbin = 9; # radial bins\n",
    "mbin = 3; # mu bins\n",
    "xi_0 = 100; # correlation function normalization\n",
    "N_particles = 1e6;"
   ]
  },
  {
   "cell_type": "code",
   "execution_count": 12,
   "metadata": {},
   "outputs": [],
   "source": [
    "Vol = np.pi*4./3.*(R2**3.-R1**3.)\n",
    "n = float(N_particles)/Vol # no. density"
   ]
  },
  {
   "cell_type": "code",
   "execution_count": 13,
   "metadata": {},
   "outputs": [],
   "source": [
    "mu_max = lambda r,s: (-r**2.-s**2.+R2**2.)/(2.*r*s)\n",
    "mu_min = lambda r,s: (R1**2.-r**2.-s**2.)/(2.*r*s)"
   ]
  },
  {
   "cell_type": "code",
   "execution_count": 14,
   "metadata": {},
   "outputs": [],
   "source": [
    "binning=np.loadtxt('../python/binfile_small.csv')"
   ]
  },
  {
   "cell_type": "code",
   "execution_count": 15,
   "metadata": {},
   "outputs": [],
   "source": [
    "s_low = binning[:,0]#20.+(200.-50.)/float(nbin)*(np.arange(nbin)) # lower boundary of radial bins\n",
    "s_high = binning[:,1]#s_low+(200.-50.)/nbin\n",
    "mu_low = np.arange(mbin)/float(mbin)\n",
    "mu_high = mu_low + 1./mbin"
   ]
  },
  {
   "cell_type": "code",
   "execution_count": 16,
   "metadata": {},
   "outputs": [],
   "source": [
    "from scipy.integrate import dblquad\n",
    "def C2_integral(S1,S2,mu1,mu2):\n",
    "    def X1_integrand(r,s,mu1,mu2):\n",
    "        mumin = mu_min(r,s)\n",
    "        muA=max([mu1,mumin])\n",
    "        muB=max([mu2,mumin])\n",
    "        if muA==muB:\n",
    "            return 0.\n",
    "        else:\n",
    "            return r**2.*(muB-muA)*(xi_0+s**2.)\n",
    "    X1_int = dblquad(X1_integrand,S1,S2,R1,lambda s: R1+s,args=(mu1,mu2))[0]\n",
    "    \n",
    "    def X2_integrand(r,s,mu1,mu2):\n",
    "        return r**2.*(mu2-mu1)*(xi_0+s**2.)\n",
    "    X2_int = dblquad(X2_integrand,S1,S2,lambda s: R1+s,lambda s: R2-s,args=(mu1,mu2))[0]\n",
    "    \n",
    "    def X3_integrand(r,s,mu1,mu2):\n",
    "        mumax=mu_max(r,s)\n",
    "        muA = min([mu1,mumax])\n",
    "        muB = min([mu2,mumax])\n",
    "        if muA==muB:\n",
    "            return 0.\n",
    "        else:\n",
    "            return r**2.*(muB-muA)*(xi_0+s**2.)\n",
    "    X3_int = dblquad(X3_integrand,S1,S2,lambda s: R2-s,R2,args=(mu1,mu2))[0]\n",
    "    return 2.*8.*np.pi**2.*n**2.*(X1_int+X2_int+X3_int)"
   ]
  },
  {
   "cell_type": "code",
   "execution_count": 17,
   "metadata": {},
   "outputs": [],
   "source": [
    "from scipy.integrate import dblquad\n",
    "def C2_integral2(S1,S2,mu1,mu2):\n",
    "    def tot_integrand(r,s,mu1,mu2):\n",
    "        mumin = mu_min(r,s)\n",
    "        mumax = mu_max(r,s)\n",
    "        muA=min([mumax,max([mu1,mumin])])\n",
    "        muB=min([mumax,max([mu2,mumin])])\n",
    "        if muA==muB:\n",
    "            return 0.\n",
    "        else:\n",
    "            return r**2.*(muB-muA)*(xi_0+s**2.)\n",
    "    tot_int = dblquad(tot_integrand,S1,S2,lambda s: R1,R2,args=(mu1,mu2))[0]\n",
    "    return 2.*8.*np.pi**2.*n**2.*tot_int"
   ]
  },
  {
   "cell_type": "code",
   "execution_count": 18,
   "metadata": {},
   "outputs": [],
   "source": [
    "rr_true_file = '../weight_files/binned_pair_counts_n9_m3_j48.dat'\n",
    "RR_true = np.loadtxt(rr_true_file)"
   ]
  },
  {
   "cell_type": "code",
   "execution_count": 19,
   "metadata": {},
   "outputs": [],
   "source": [
    "C2_analyt=[];index=0\n",
    "for i in range(len(s_low)):\n",
    "    for j in range(len(mu_low)):\n",
    "        # Keep same indexing as code:\n",
    "        tmp_int=C2_integral2(s_low[i],s_high[i],mu_low[j],mu_high[j])\n",
    "        tmp_int2=C2_integral2(s_low[i],s_high[i],-mu_high[j],-mu_low[j])\n",
    "        C2_analyt.append((tmp_int+tmp_int2)/(RR_true[index]**2.))\n",
    "        index+=1\n",
    "C2_analyt=np.asarray(C2_analyt)"
   ]
  },
  {
   "cell_type": "code",
   "execution_count": 33,
   "metadata": {},
   "outputs": [],
   "source": [
    "c2_est = np.loadtxt('../test_one_l/c2_n9_m3_full.txt')#LallL/c2_n9_m3_full.txt')"
   ]
  },
  {
   "cell_type": "code",
   "execution_count": 34,
   "metadata": {},
   "outputs": [
    {
     "data": {
      "image/png": "[encoded data removed]",
      "text/plain": [
       "<Figure size 432x288 with 1 Axes>"
      ]
     },
     "metadata": {},
     "output_type": "display_data"
    }
   ],
   "source": [
    "plt.plot(C2_analyt*100.,label='Analytic')\n",
    "plt.plot(c2_est,label='Code');FS=16\n",
    "plt.yscale('log');plt.title(r'$C_2$ Integrals',fontsize=FS)\n",
    "plt.legend(fontsize=FS);plt.xlabel('Bin ID',fontsize=FS);plt.ylabel(r'$C_{2,aa}$',fontsize=FS);"
   ]
  },
  {
   "cell_type": "code",
   "execution_count": 35,
   "metadata": {},
   "outputs": [
    {
     "data": {
      "text/plain": [
       "Text(0,0.5,'Ratio')"
      ]
     },
     "execution_count": 35,
     "metadata": {},
     "output_type": "execute_result"
    },
    {
     "data": {
      "image/png": "[encoded data removed]",
      "text/plain": [
       "<Figure size 432x288 with 1 Axes>"
      ]
     },
     "metadata": {},
     "output_type": "display_data"
    }
   ],
   "source": [
    "plt.plot(0.01*c2_est/C2_analyt,label='est');\n",
    "plt.title('Ratio of Code to Analytic $C_2$ integrals',fontsize=FS);\n",
    "plt.xlabel('Bin ID',fontsize=FS);plt.ylabel(r'Ratio',fontsize=FS)"
   ]
  },
  {
   "cell_type": "code",
   "execution_count": null,
   "metadata": {},
   "outputs": [],
   "source": []
  },
  {
   "cell_type": "code",
   "execution_count": null,
   "metadata": {},
   "outputs": [],
   "source": []
  },
  {
   "cell_type": "code",
   "execution_count": 60,
   "metadata": {},
   "outputs": [],
   "source": [
    "x = np.linspace(3,8,50)\n",
    "rs=2.8\n",
    "re=3\n",
    "y = lambda x: x - re + rs/2.*(np.log((x-rs)*(re+rs)/(x+rs)/(re-rs)))"
   ]
  },
  {
   "cell_type": "code",
   "execution_count": 61,
   "metadata": {},
   "outputs": [
    {
     "data": {
      "text/plain": [
       "[<matplotlib.lines.Line2D at 0x7f014c695950>]"
      ]
     },
     "execution_count": 61,
     "metadata": {},
     "output_type": "execute_result"
    },
    {
     "data": {
      "image/png": "[encoded data removed]",
      "text/plain": [
       "<Figure size 432x288 with 1 Axes>"
      ]
     },
     "metadata": {},
     "output_type": "display_data"
    }
   ],
   "source": [
    "plt.plot(x,y(x))\n",
    "plt.plot(x,x-3)\n",
    "plt.plot(x,y(x)-x)"
   ]
  },
  {
   "cell_type": "code",
   "execution_count": null,
   "metadata": {},
   "outputs": [],
   "source": []
  },
  {
   "cell_type": "code",
   "execution_count": null,
   "metadata": {},
   "outputs": [],
   "source": []
  },
  {
   "cell_type": "code",
   "execution_count": null,
   "metadata": {},
   "outputs": [],
   "source": []
  },
  {
   "cell_type": "code",
   "execution_count": null,
   "metadata": {},
   "outputs": [],
   "source": []
  },
  {
   "cell_type": "markdown",
   "metadata": {},
   "source": [
    "## Compute C3 term:"
   ]
  },
  {
   "cell_type": "code",
   "execution_count": 17,
   "metadata": {},
   "outputs": [],
   "source": [
    "from scipy.integrate import nquad"
   ]
  },
  {
   "cell_type": "code",
   "execution_count": 18,
   "metadata": {},
   "outputs": [
    {
     "data": {
      "text/plain": [
       "<function scipy.integrate.quadpack.nquad>"
      ]
     },
     "execution_count": 18,
     "metadata": {},
     "output_type": "execute_result"
    }
   ],
   "source": [
    "nquad()"
   ]
  },
  {
   "cell_type": "code",
   "execution_count": 26,
   "metadata": {},
   "outputs": [],
   "source": [
    "def C3_integrand(mu_t,mu_s,t,s,r):\n",
    "    prefactor = 64.*np.pi**3.\n",
    "    a = (s**2.+t**2.+2.*t*s*mu_s*mu_t)\n",
    "    b = 2.*t*s*np.sqrt(1.-mu_s**2.)*np.sqrt(1.-mu_t**2.)\n",
    "    return prefactor/np.sqrt(a**2.+b**2.)*(r*s*t)**2."
   ]
  },
  {
   "cell_type": "code",
   "execution_count": 20,
   "metadata": {},
   "outputs": [],
   "source": [
    "s_low = 50.+(200.-50.)/float(nbin)*(np.arange(nbin)) # lower boundary of radial bins\n",
    "s_high = s_low+(200.-50.)/nbin\n",
    "mu_s_low = np.arange(mbin)/float(mbin)\n",
    "mu_s_high = mu_low + 1./mbin\n",
    "t_low = s_low; t_high = t_low;\n",
    "mu_t_low = mu_s_low; mu_t_high=mu_s_high"
   ]
  },
  {
   "cell_type": "code",
   "execution_count": 29,
   "metadata": {},
   "outputs": [],
   "source": [
    "i=0;j=0;k=0;l=0\n",
    "def bounds_mu_s(t,s,r,mu1=ms1,mu2=ms2):\n",
    "    if r<R1+s:\n",
    "        mumin = mu_min(r,s)\n",
    "        muA=max([mu1,mumin])\n",
    "        muB=max([mu2,mumin])\n",
    "    if r>R2-s:\n",
    "        mumax=mu_max(r,s)\n",
    "        muA = min([mu1,mumax])\n",
    "        muB = min([mu2,mumax])\n",
    "    else:\n",
    "        muA=mu1;muB=mu2;\n",
    "    return [muA,muB]"
   ]
  },
  {
   "cell_type": "code",
   "execution_count": 30,
   "metadata": {},
   "outputs": [],
   "source": [
    "def bounds_mu_t(mu_s,t,s,r,mu1=mt1,mu2=mt2):\n",
    "    if r<R1+t:\n",
    "        mumin = mu_min(r,t)\n",
    "        muA=max([mu1,mumin])\n",
    "        muB=max([mu2,mumin])\n",
    "    if r>R2-t:\n",
    "        mumax=mu_max(r,t)\n",
    "        muA = min([mu1,mumax])\n",
    "        muB = min([mu2,mumax])\n",
    "    else:\n",
    "        muA=mu1;muB=mu2;\n",
    "    return [muA,muB]"
   ]
  },
  {
   "cell_type": "code",
   "execution_count": 57,
   "metadata": {},
   "outputs": [],
   "source": [
    "mt1=-1./6.;mt2=1./6.;ms1=-1./6.;ms2=1./6.;t1=50;t2=65.;s1=50.;s2=65.;\n",
    "C3_integral=nquad(C3_integrand,[[mt1,mt2],[ms1,ms2],[t1,t2],[s1,s2],[R1,R2]],opts={'epsrel':0.01})\n",
    "                  #[bounds_mu_t,bounds_mu_s,[t1,t2],[s1,s2],[R1,R2]],opts={'epsrel':0.1})"
   ]
  },
  {
   "cell_type": "code",
   "execution_count": 58,
   "metadata": {},
   "outputs": [
    {
     "data": {
      "text/plain": [
       "array([1.52956274e+04, 1.69815578e-10])"
      ]
     },
     "execution_count": 58,
     "metadata": {},
     "output_type": "execute_result"
    }
   ],
   "source": [
    "C3_integral/(RR_true[0]*RR_true[0])"
   ]
  },
  {
   "cell_type": "code",
   "execution_count": 59,
   "metadata": {},
   "outputs": [],
   "source": [
    "c3_est = np.loadtxt('../CovMatricesAll/c3_n10_m6_full.txt')"
   ]
  },
  {
   "cell_type": "code",
   "execution_count": 64,
   "metadata": {},
   "outputs": [
    {
     "data": {
      "text/plain": [
       "7.126028e-07"
      ]
     },
     "execution_count": 64,
     "metadata": {},
     "output_type": "execute_result"
    }
   ],
   "source": [
    "c3_est[0,0]"
   ]
  },
  {
   "cell_type": "markdown",
   "metadata": {},
   "source": [
    "## C3 for flat xi:"
   ]
  },
  {
   "cell_type": "code",
   "execution_count": 58,
   "metadata": {},
   "outputs": [],
   "source": [
    "from scipy.integrate import tplquad\n",
    "def C3_integral(S1,S2,T1,T2,mu1s,mu2s,mu1t,mu2t):\n",
    "    def tot_integrand(t,s,r,mu1s,mu2s,mu1t,mu2t):\n",
    "        mumins = mu_min(r,s)\n",
    "        mumaxs = mu_max(r,s)\n",
    "        mumint = mu_min(r,t)\n",
    "        mumaxt = mu_max(r,t),\n",
    "        muAt=min([mumaxt,max([mu1t,mumint])])\n",
    "        muBt=min([mumaxt,max([mu2t,mumint])])\n",
    "        muAs=min([mumaxs,max([mu1s,mumins])])\n",
    "        muBs=min([mumaxs,max([mu2s,mumins])])\n",
    "        if muAs==muBs:\n",
    "            return 0.\n",
    "        elif muBt==muAt:\n",
    "            return 0.\n",
    "        else:\n",
    "            return s**2.*t**2.*r**2.*(muBs-muAs)*(muBt-muAt)\n",
    "    tot_int = tplquad(tot_integrand,R1,R2,S1,S2,T1,T2,args=(mu1s,mu2s,mu1t,mu2t),epsrel=1e-2)[0]\n",
    "    return 64.*np.pi**3.*n**3.*tot_int"
   ]
  },
  {
   "cell_type": "markdown",
   "metadata": {},
   "source": [
    "#### Compute only diagonal elements here:"
   ]
  },
  {
   "cell_type": "code",
   "execution_count": 60,
   "metadata": {},
   "outputs": [
    {
     "name": "stdout",
     "output_type": "stream",
     "text": [
      "index 1 of 360 done\n",
      "index 2 of 360 done\n",
      "index 3 of 360 done\n",
      "index 4 of 360 done\n",
      "index 5 of 360 done\n",
      "index 6 of 360 done\n",
      "index 7 of 360 done\n",
      "index 8 of 360 done\n",
      "index 9 of 360 done\n",
      "index 10 of 360 done\n",
      "index 11 of 360 done\n",
      "index 12 of 360 done\n",
      "index 13 of 360 done\n",
      "index 14 of 360 done\n",
      "index 15 of 360 done\n",
      "index 16 of 360 done\n",
      "index 17 of 360 done\n",
      "index 18 of 360 done\n",
      "index 19 of 360 done\n",
      "index 20 of 360 done\n",
      "index 21 of 360 done\n",
      "index 22 of 360 done\n",
      "index 23 of 360 done\n",
      "index 24 of 360 done\n",
      "index 25 of 360 done\n",
      "index 26 of 360 done\n",
      "index 27 of 360 done\n",
      "index 28 of 360 done\n",
      "index 29 of 360 done\n",
      "index 30 of 360 done\n",
      "index 31 of 360 done\n",
      "index 32 of 360 done\n",
      "index 33 of 360 done\n",
      "index 34 of 360 done\n",
      "index 35 of 360 done\n",
      "index 36 of 360 done\n",
      "index 37 of 360 done\n",
      "index 38 of 360 done\n",
      "index 39 of 360 done\n",
      "index 40 of 360 done\n",
      "index 41 of 360 done\n",
      "index 42 of 360 done\n",
      "index 43 of 360 done\n",
      "index 44 of 360 done\n",
      "index 45 of 360 done\n",
      "index 46 of 360 done\n",
      "index 47 of 360 done\n",
      "index 48 of 360 done\n",
      "index 49 of 360 done\n",
      "index 50 of 360 done\n"
     ]
    }
   ],
   "source": [
    "C3_diag_analyt=[];index=0\n",
    "for i in range(len(s_low[:5])):\n",
    "    for j in range(len(mu_low)):\n",
    "        # Keep same indexing as code:\n",
    "        tmp_int=C3_integral(s_low[i],s_high[i],s_low[i],s_high[i],mu_low[j],mu_high[j],mu_low[j],mu_high[j])\n",
    "        tmp_int2=C3_integral(s_low[i],s_high[i],s_low[i],s_high[i],-mu_high[j],-mu_low[j],mu_low[j],mu_high[j])\n",
    "        tmp_int3=C3_integral(s_low[i],s_high[i],s_low[i],s_high[i],mu_low[j],mu_high[j],-mu_high[j],-mu_low[j])\n",
    "        tmp_int4=C3_integral(s_low[i],s_high[i],s_low[i],s_high[i],-mu_high[j],-mu_low[j],-mu_high[j],-mu_low[j])\n",
    "        C3_diag_analyt.append((tmp_int+tmp_int2+tmp_int3+tmp_int4)/(RR_true[index]**2.))\n",
    "        index+=1\n",
    "        print(\"index %d of %d done\" %(index,len(s_low)*len(mu_low)))\n",
    "C3_diag_analyt=np.asarray(C3_diag_analyt)"
   ]
  },
  {
   "cell_type": "code",
   "execution_count": 171,
   "metadata": {},
   "outputs": [],
   "source": [
    "from scipy.integrate import dblquad\n",
    "def C2_integral3(S1,S2,mu1,mu2):\n",
    "    def tot_integrand(r,s,mu1,mu2):\n",
    "        mumin = mu_min(r,s)\n",
    "        mumax = mu_max(r,s)\n",
    "        muA=min([mumax,max([mu1,mumin])])\n",
    "        muB=min([mumax,max([mu2,mumin])])\n",
    "        if muA==muB:\n",
    "            return 0.\n",
    "        else:\n",
    "            return r**2.*(muB-muA)*2.*s**2.\n",
    "    tot_int = dblquad(tot_integrand,S1,S2,lambda s: R1,R2,args=(mu1,mu2))[0]\n",
    "    return 2.*8.*np.pi**2.*n**2.*tot_int"
   ]
  },
  {
   "cell_type": "code",
   "execution_count": 172,
   "metadata": {},
   "outputs": [],
   "source": [
    "C2_analyt=[];index=0\n",
    "for i in range(len(s_low)):\n",
    "    for j in range(len(mu_low)):\n",
    "        # Keep same indexing as code:\n",
    "        tmp_int=C2_integral3(s_low[i],s_high[i],mu_low[j],mu_high[j])\n",
    "        tmp_int2=C2_integral3(s_low[i],s_high[i],-mu_high[j],-mu_low[j])\n",
    "        C2_analyt.append((tmp_int+tmp_int2)/(RR_true[index]**2.))\n",
    "        index+=1\n",
    "C2_analyt=np.asarray(C2_analyt)"
   ]
  },
  {
   "cell_type": "code",
   "execution_count": 62,
   "metadata": {},
   "outputs": [],
   "source": [
    "c2_est = np.loadtxt('../CovMatricesAll/c2_n36_m10_full.txt')\n",
    "c3_est = np.loadtxt('../CovMatricesAll/c3_n36_m10_full.txt')"
   ]
  },
  {
   "cell_type": "code",
   "execution_count": 63,
   "metadata": {},
   "outputs": [
    {
     "data": {
      "text/plain": [
       "<matplotlib.legend.Legend at 0x7f73e20ad750>"
      ]
     },
     "execution_count": 63,
     "metadata": {},
     "output_type": "execute_result"
    },
    {
     "data": {
      "image/png": "[encoded data removed]",
      "text/plain": [
       "<Figure size 432x288 with 1 Axes>"
      ]
     },
     "metadata": {},
     "output_type": "display_data"
    }
   ],
   "source": [
    "#plt.plot(C2_analyt,label='C2_analyt')\n",
    "plt.plot(C3_diag_analyt*1e3,label='C3_analyt')\n",
    "#plt.plot(c2_est,label='C2_code')\n",
    "plt.plot(np.diag(c3_est)[:50],label='C3_code')\n",
    "plt.legend()"
   ]
  },
  {
   "cell_type": "code",
   "execution_count": null,
   "metadata": {},
   "outputs": [],
   "source": []
  },
  {
   "cell_type": "code",
   "execution_count": null,
   "metadata": {},
   "outputs": [],
   "source": []
  }
 ],
 "metadata": {
  "kernelspec": {
   "display_name": "Python 2",
   "language": "python",
   "name": "python2"
  },
  "language_info": {
   "codemirror_mode": {
    "name": "ipython",
    "version": 2
   },
   "file_extension": ".py",
   "mimetype": "text/x-python",
   "name": "python",
   "nbconvert_exporter": "python",
   "pygments_lexer": "ipython2",
   "version": "2.7.15"
  }
 },
 "nbformat": 4,
 "nbformat_minor": 2
}
