{
 "cells": [
  {
   "cell_type": "code",
   "execution_count": 1,
   "metadata": {},
   "outputs": [
    {
     "name": "stdout",
     "output_type": "stream",
     "text": [
      "Populating the interactive namespace from numpy and matplotlib\n"
     ]
    }
   ],
   "source": [
    "%pylab inline"
   ]
  },
  {
   "cell_type": "markdown",
   "metadata": {},
   "source": [
    "## Compute C2 analytically for a uniform spherical shell"
   ]
  },
  {
   "cell_type": "markdown",
   "metadata": {},
   "source": [
    "### NB: Why does mu run from -1 to 1 here and only 0,1 in my code??"
   ]
  },
  {
   "cell_type": "code",
   "execution_count": 39,
   "metadata": {},
   "outputs": [],
   "source": [
    "R1=500;\n",
    "R2=2000; # sphere inner/outer radii in Mpc\n",
    "nbin = 10; # radial bins\n",
    "mbin = 6; # mu bins\n",
    "xi_0 = 100; # correlation function normalization\n",
    "N_particles = 1e6;"
   ]
  },
  {
   "cell_type": "code",
   "execution_count": 41,
   "metadata": {},
   "outputs": [],
   "source": [
    "Vol = np.pi*4./3.*(R2**3.-R1**3.)\n",
    "n = float(N_particles)/Vol # no. density"
   ]
  },
  {
   "cell_type": "code",
   "execution_count": 42,
   "metadata": {},
   "outputs": [],
   "source": [
    "mu_max = lambda r,s: (r**2.+s**2.-R2**2.)/(2.*r*s)\n",
    "mu_min = lambda r,s: (R1**2.-r**2.-s**2.)/(2.*r*s)"
   ]
  },
  {
   "cell_type": "code",
   "execution_count": 44,
   "metadata": {},
   "outputs": [],
   "source": [
    "s_low = 50.+(200.-50.)/float(nbin)*(np.arange(nbin)) # lower boundary of radial bins\n",
    "s_high = s_low+(200.-50.)/nbin\n",
    "mu_low = np.arange(mbin)/float(mbin)\n",
    "mu_high = mu_low + 1./mbin"
   ]
  },
  {
   "cell_type": "code",
   "execution_count": 57,
   "metadata": {},
   "outputs": [],
   "source": [
    "from scipy.integrate import dblquad\n",
    "def C2_integral(S1,S2,mu1,mu2):\n",
    "    def X1_integrand(r,s,mu1,mu2):\n",
    "        mumin = mu_min(r,s)\n",
    "        muA=max([mu1,mumin])\n",
    "        muB=max([mu2,mumin])\n",
    "        return r**2.*(muB-muA)*(xi_0+s**2.)\n",
    "    X1_int = dblquad(X1_integrand,S1,S2,R1,lambda s: R1+s,args=(mu1,mu2))[0]\n",
    "    \n",
    "    def X2_integrand(r,s,mu1,mu2):\n",
    "        return r**2.*(mu2-mu1)*(xi_0+s**2.)\n",
    "    X2_int = dblquad(X2_integrand,S1,S2,lambda s: R1+s,lambda s: R2-s,args=(mu1,mu2))[0]\n",
    "    \n",
    "    def X3_integrand(r,s,mu1,mu2):\n",
    "        mumax=mu_max(r,s)\n",
    "        muA = min([mu1,mumax])\n",
    "        muB = min([mu2,mumax])\n",
    "        return r**2.*(muB-muA)*(xi_0+s**2.)\n",
    "    X3_int = dblquad(X3_integrand,S1,S2,lambda s: R2-s,R2,args=(mu1,mu2))[0]\n",
    "    \n",
    "    return 8.*np.pi**2.*n**2.*(X1_int+X2_int+X3_int)"
   ]
  },
  {
   "cell_type": "code",
   "execution_count": 74,
   "metadata": {},
   "outputs": [],
   "source": [
    "C2_analyt=[];index=0\n",
    "for i in range(len(s_low)):\n",
    "    for j in range(len(mu_low)):\n",
    "        # Keep same indexing as code:\n",
    "        tmp_int=C2_integral(s_low[i],s_high[i],mu_low[j],mu_high[j])\n",
    "        C2_analyt.append(2.*tmp_int/(RR_true[index]**2.))\n",
    "        index+=1"
   ]
  },
  {
   "cell_type": "code",
   "execution_count": 81,
   "metadata": {},
   "outputs": [
    {
     "data": {
      "image/png": "[encoded data removed]",
      "text/plain": [
       "<Figure size 432x288 with 1 Axes>"
      ]
     },
     "metadata": {},
     "output_type": "display_data"
    }
   ],
   "source": [
    "plt.plot(C2_analyt)\n",
    "plt.plot(c2_est*1e17)\n",
    "plt.yscale('log')"
   ]
  },
  {
   "cell_type": "code",
   "execution_count": 76,
   "metadata": {},
   "outputs": [],
   "source": [
    "c2_est = np.loadtxt('../CovMatricesAll_untrunc/c2_n10_m6_full.txt')"
   ]
  },
  {
   "cell_type": "code",
   "execution_count": 70,
   "metadata": {},
   "outputs": [],
   "source": [
    "rr_true_file = '../weight_files/binned_pair_counts_n10_m6_j48.dat'\n",
    "RR_true = np.loadtxt(rr_true_file)"
   ]
  },
  {
   "cell_type": "code",
   "execution_count": null,
   "metadata": {},
   "outputs": [],
   "source": []
  }
 ],
 "metadata": {
  "kernelspec": {
   "display_name": "Python 2",
   "language": "python",
   "name": "python2"
  },
  "language_info": {
   "codemirror_mode": {
    "name": "ipython",
    "version": 2
   },
   "file_extension": ".py",
   "mimetype": "text/x-python",
   "name": "python",
   "nbconvert_exporter": "python",
   "pygments_lexer": "ipython2",
   "version": "2.7.15"
  }
 },
 "nbformat": 4,
 "nbformat_minor": 2
}
