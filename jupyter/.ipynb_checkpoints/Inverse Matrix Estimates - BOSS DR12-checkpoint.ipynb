{
 "cells": [
  {
   "cell_type": "code",
   "execution_count": 3,
   "metadata": {},
   "outputs": [
    {
     "name": "stdout",
     "output_type": "stream",
     "text": [
      "Populating the interactive namespace from numpy and matplotlib\n"
     ]
    }
   ],
   "source": [
    "%pylab inline\n",
    "n=36;m=10;a=1.05\n",
    "J=169\n",
    "import numpy as np\n",
    "import csv\n",
    "\n",
    "corr_factor = 1198006/1e7\n",
    "data_root='../../BOSS_DR12_Data/v4/'#'../../BOSS DR12 Data/'\n",
    "file_root_jack=data_root+'CovMatricesJack/'#'../GoslingSphere/Jack/'#CovMatricesJack/'#_good/'\n",
    "file_root_all=data_root+'CovMatricesAll/'#_good/'../GoslingSphere/All/'\n",
    "rr_true_file =data_root+'weight_files/binned_pair_counts_n%d_m%d_j%d.dat'%(n,m,J)\n",
    "weights_file = data_root+'weight_files/jackknife_weights_n%d_m%d_j%d.dat'%(n,m,J)\n",
    "counts_file = data_root+'CovMatricesAll/total_counts_n%d_m%d.txt'%(n,m)\n",
    "\n",
    "weights=np.loadtxt(weights_file)[:,1:]\n",
    "total_counts = np.loadtxt(counts_file)"
   ]
  },
  {
   "cell_type": "code",
   "execution_count": 21,
   "metadata": {},
   "outputs": [],
   "source": [
    "def read_RR_all(n,m,file_root,string='full'):\n",
    "    rrfile=file_root+'RR_n%d_m%d_%s.txt' %(n,m,string)\n",
    "    rr_est = np.loadtxt(rrfile)*corr_factor**2.\n",
    "    rr_true = np.loadtxt(rr_true_file)\n",
    "    return rr_est, rr_true\n",
    "\n",
    "def read_cj_all(n,m,file_root,a,string='full'):\n",
    "    c2file=file_root+'c2j_n%d_m%d_%s.txt' %(n,m,string)\n",
    "    c3file=file_root+'c3j_n%d_m%d_%s.txt' %(n,m,string)\n",
    "    c4file=file_root+'c4j_n%d_m%d_%s.txt' %(n,m,string)\n",
    "    cxfile=file_root+'cxj_n%d_m%d_%s.txt' %(n,m,string)\n",
    "    errc4file=file_root+'c4errj_n%d_m%d_%s.txt' %(n,m,string)\n",
    "    errc3file=file_root+'c3errj_n%d_m%d_%s.txt' %(n,m,string)\n",
    "    errcxfile=file_root+'cxerrj_n%d_m%d_%s.txt' %(n,m,string)\n",
    "    c2=np.diag(np.loadtxt(c2file))*corr_factor**2.\n",
    "    c3=np.loadtxt(c3file)*corr_factor**3.\n",
    "    c4=np.loadtxt(c4file)*corr_factor**4.\n",
    "    cx=np.loadtxt(cxfile)*corr_factor**4.\n",
    "    errc4=np.loadtxt(errc4file)*corr_factor**8.\n",
    "    errc3=np.loadtxt(errc3file)*corr_factor**6.\n",
    "    c_tot=c4+a**2.*c2+a*c3+cx\n",
    "    return c2,c3,c4,cx,errc3,errc4,c_tot\n",
    "\n",
    "def read_c_all(n,m,file_root,a,string='full'):\n",
    "    c2file=file_root+'c2_n%d_m%d_%s.txt' %(n,m,string)\n",
    "    c3file=file_root+'c3_n%d_m%d_%s.txt' %(n,m,string)\n",
    "    c4file=file_root+'c4_n%d_m%d_%s.txt' %(n,m,string)\n",
    "    errc4file=file_root+'c4err_n%d_m%d_%s.txt' %(n,m,string)\n",
    "    errc3file=file_root+'c3err_n%d_m%d_%s.txt' %(n,m,string)\n",
    "    c2=np.diag(np.loadtxt(c2file))*corr_factor**2.\n",
    "    c3=np.loadtxt(c3file)*corr_factor**3.\n",
    "    c4=np.loadtxt(c4file)*corr_factor**4.\n",
    "    errc4=np.loadtxt(errc4file)*corr_factor**8.\n",
    "    errc3=np.loadtxt(errc3file)*corr_factor**6.\n",
    "    c_tot=c4+a**2.*c2+a*c3\n",
    "    return c2,c3,c4,errc3,errc4,c_tot"
   ]
  },
  {
   "cell_type": "markdown",
   "metadata": {},
   "source": [
    " First read in RR counts:\n"
   ]
  },
  {
   "cell_type": "code",
   "execution_count": 22,
   "metadata": {},
   "outputs": [],
   "source": [
    "RR_a = read_RR_all(n,m,file_root_all)[1]"
   ]
  },
  {
   "cell_type": "code",
   "execution_count": 23,
   "metadata": {},
   "outputs": [],
   "source": [
    "RR_norm_matrix = np.matmul(np.matrix(RR_a).T,np.matrix(RR_a))"
   ]
  },
  {
   "cell_type": "code",
   "execution_count": 24,
   "metadata": {},
   "outputs": [],
   "source": [
    "c_tot_mats=[]\n",
    "for i in range(30):\n",
    "    c2i,c3i,c4i,errc3i,errc4i,c_toti=read_c_all(n,m,file_root_all,1.,string='%s'%i)\n",
    "    c_tot_mats.append(np.divide(c_toti,RR_norm_matrix))"
   ]
  },
  {
   "cell_type": "code",
   "execution_count": 25,
   "metadata": {},
   "outputs": [],
   "source": [
    "c2,c3,c4,errc3,errc4,c_tot=read_c_all(n,m,file_root_all,1.,string='full')"
   ]
  },
  {
   "cell_type": "markdown",
   "metadata": {},
   "source": [
    "## Estimate $\\tilde{D}$\n",
    "(ignoring multiplicative factors but including RR counts)"
   ]
  },
  {
   "cell_type": "markdown",
   "metadata": {},
   "source": [
    "## Estimate Precision Matrix"
   ]
  },
  {
   "cell_type": "code",
   "execution_count": 26,
   "metadata": {},
   "outputs": [],
   "source": [
    "prec = np.matmul((np.identity(len(D_est))-D_est),np.linalg.inv(c_tot))"
   ]
  },
  {
   "cell_type": "code",
   "execution_count": 28,
   "metadata": {},
   "outputs": [
    {
     "data": {
      "text/plain": [
       "<matplotlib.colorbar.Colorbar at 0x7f0141fc6190>"
      ]
     },
     "execution_count": 28,
     "metadata": {},
     "output_type": "execute_result"
    },
    {
     "data": {
      "image/png": "[encoded data removed]",
      "text/plain": [
       "<Figure size 288x288 with 2 Axes>"
      ]
     },
     "metadata": {},
     "output_type": "display_data"
    }
   ],
   "source": [
    "plt.matshow(prec,vmax=np.percentile(prec,100.),vmin=np.percentile(prec,0.5))\n",
    "plt.colorbar()"
   ]
  },
  {
   "cell_type": "code",
   "execution_count": null,
   "metadata": {},
   "outputs": [],
   "source": []
  }
 ],
 "metadata": {
  "kernelspec": {
   "display_name": "Python 2",
   "language": "python",
   "name": "python2"
  },
  "language_info": {
   "codemirror_mode": {
    "name": "ipython",
    "version": 2
   },
   "file_extension": ".py",
   "mimetype": "text/x-python",
   "name": "python",
   "nbconvert_exporter": "python",
   "pygments_lexer": "ipython2",
   "version": "2.7.15"
  }
 },
 "nbformat": 4,
 "nbformat_minor": 2
}
