{
 "cells": [
  {
   "cell_type": "markdown",
   "metadata": {},
   "source": [
    "### Loading the Mocks"
   ]
  },
  {
   "cell_type": "code",
   "execution_count": 16,
   "metadata": {},
   "outputs": [],
   "source": [
    "fulldir = '/Users/rcoconne/Dropbox/Jackknife/QPM_Full2/'"
   ]
  },
  {
   "cell_type": "code",
   "execution_count": 17,
   "metadata": {},
   "outputs": [],
   "source": [
    "full_minmock = 1\n",
    "full_maxmock = 1000\n",
    "N_full = full_maxmock - full_minmock + 1"
   ]
  },
  {
   "cell_type": "markdown",
   "metadata": {},
   "source": [
    "Load the randoms"
   ]
  },
  {
   "cell_type": "code",
   "execution_count": 18,
   "metadata": {},
   "outputs": [],
   "source": [
    "t = loadtxt(fulldir+'0001_corr.dat')\n",
    "rr = t[:,-1]\n",
    "N_bins = len(rr)"
   ]
  },
  {
   "cell_type": "markdown",
   "metadata": {},
   "source": [
    "Load the \"full\" mocks. I'm not sure what the \"a\" and \"b\" referred to -- this looks like a discrepancy in the R/D ratio."
   ]
  },
  {
   "cell_type": "code",
   "execution_count": 19,
   "metadata": {},
   "outputs": [],
   "source": [
    "full_xi_a = zeros((N_full,len(rr)))\n",
    "full_xi_b = zeros(shape(full_xi_a))\n",
    "\n",
    "for i in range(full_minmock,full_maxmock+1):\n",
    "\tmocknum = str(i).zfill(4)\n",
    "\tt = loadtxt(fulldir+mocknum+'_corr.dat')\n",
    "\tdd = t[:,-3]\n",
    "\tdr = t[:,-2]\n",
    "\t\n",
    "\tj = i - full_minmock\n",
    "\tfull_xi_a[j] = (50**2) * dd/rr - (50) * dr/rr + 1\n",
    "#\tfull_xi_b[j] = (49.5**2) * dd/rr - (49.5) * dr/rr + 1"
   ]
  },
  {
   "cell_type": "markdown",
   "metadata": {},
   "source": [
    "Compute the empirical covariance and precision matrices:"
   ]
  },
  {
   "cell_type": "code",
   "execution_count": 274,
   "metadata": {},
   "outputs": [],
   "source": [
    "c_mock = cov(full_xi_a,rowvar=False)\n",
    "p_mock = inv(c_mock) * (1- (N_bins+1.)/(N_full-1.) )"
   ]
  }
 ],
 "metadata": {
  "kernelspec": {
   "display_name": "Python 3",
   "language": "python",
   "name": "python3"
  },
  "language_info": {
   "codemirror_mode": {
    "name": "ipython",
    "version": 3
   },
   "file_extension": ".py",
   "mimetype": "text/x-python",
   "name": "python",
   "nbconvert_exporter": "python",
   "pygments_lexer": "ipython3",
   "version": "3.7.0"
  }
 },
 "nbformat": 4,
 "nbformat_minor": 2
}
