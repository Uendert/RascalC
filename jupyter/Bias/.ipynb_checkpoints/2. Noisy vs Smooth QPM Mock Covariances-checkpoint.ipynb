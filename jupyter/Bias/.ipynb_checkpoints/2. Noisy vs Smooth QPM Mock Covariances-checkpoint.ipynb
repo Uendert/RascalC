{
 "cells": [
  {
   "cell_type": "code",
   "execution_count": 1,
   "metadata": {},
   "outputs": [
    {
     "name": "stdout",
     "output_type": "stream",
     "text": [
      "Populating the interactive namespace from numpy and matplotlib\n"
     ]
    }
   ],
   "source": [
    "%pylab inline\n",
    "import sys,os\n",
    "sys.path.insert(1,'../../python/')\n",
    "from utils import * # COMAJE utilities\n",
    "file_root='/mnt/store1/oliverphilcox/QPMCovariance/'"
   ]
  },
  {
   "cell_type": "markdown",
   "metadata": {},
   "source": [
    "#### Define QPM mock parameter class for matrix read-in"
   ]
  },
  {
   "cell_type": "code",
   "execution_count": 2,
   "metadata": {},
   "outputs": [],
   "source": [
    "class QPM_Parameters:\n",
    "    \"\"\"Holds covariance matrix parameters for the QPM matrices. These are initially set to default values\"\"\"\n",
    "    def __init__(self,mock_no,mean=False):\n",
    "        self.n=39\n",
    "        self.m=24\n",
    "        self.a=1\n",
    "        self.n_indiv=10\n",
    "        if mean:\n",
    "            self.infile_root=file_root+'Mean/'\n",
    "        else:\n",
    "            self.infile_root=file_root+'Mock_%d/'%mock_no\n",
    "        self.weights_file='/mnt/store1/oliverphilcox/QPM_weights/jackknife_weights_n39_m24_j169.dat'\n",
    "        self.RR_file = '/mnt/store1/oliverphilcox/QPM_weights/binned_pair_counts_n39_m24_j169.dat'\n",
    "        self.r_bins = np.loadtxt('../../python/hybrid_binfile_cut.csv')         "
   ]
  },
  {
   "cell_type": "markdown",
   "metadata": {},
   "source": [
    "## Load covariance with smooth $\\xi$"
   ]
  },
  {
   "cell_type": "code",
   "execution_count": 3,
   "metadata": {},
   "outputs": [],
   "source": [
    "p=QPM_Parameters(0,mean=True)\n",
    "qpm_mean=CovarianceMatrix(p)"
   ]
  },
  {
   "cell_type": "code",
   "execution_count": 4,
   "metadata": {},
   "outputs": [
    {
     "name": "stdout",
     "output_type": "stream",
     "text": [
      "Total N_eff Estimate: 1.950927e+05\n"
     ]
    }
   ],
   "source": [
    "# Compute N_eff and precision matrix:\n",
    "qpm_mean.compute_N_eff();\n",
    "qpm_mean.compute_precision();"
   ]
  },
  {
   "cell_type": "markdown",
   "metadata": {},
   "source": [
    "## Load noisy covariance matrices"
   ]
  },
  {
   "cell_type": "code",
   "execution_count": null,
   "metadata": {},
   "outputs": [],
   "source": [
    "noisy_cov=[]\n",
    "for i in range(30):\n",
    "    if os.path.exists(file_root+'Mock_%d'%i):\n",
    "        p=QPM_Parameters(i)\n",
    "        try:\n",
    "            noisy_cov.append(CovarianceMatrix(p))            \n",
    "        except OSError:\n",
    "            continue\n",
    "print(\"Read in %d noisy covariance matrices\"%len(noisy_cov))"
   ]
  },
  {
   "cell_type": "markdown",
   "metadata": {},
   "source": [
    "## Compare mean determinant per mode"
   ]
  },
  {
   "cell_type": "code",
   "execution_count": null,
   "metadata": {},
   "outputs": [],
   "source": [
    "def mean_det(cov_matrix):\n",
    "    v=np.linalg.slogdet(cov_matrix.c_tot)[1]/(cov_matrix.n*cov_matrix.m)\n",
    "    return np.exp(v)\n",
    "\n",
    "smooth_mean_det=mean_det(qpm_mean)\n",
    "noisy_mean_dets=[]\n",
    "for i in range(len(noisy_cov)):\n",
    "    noisy_mean_dets.append(mean_det(noisy_cov[i]))"
   ]
  },
  {
   "cell_type": "code",
   "execution_count": null,
   "metadata": {},
   "outputs": [],
   "source": [
    "x,y,z=plt.hist(noisy_mean_dets,density=True,alpha=0.5,label=r'Noisy $\\xi$')\n",
    "plt.vlines(smooth_mean_det,0,max(x)*1.1,label=r'Smooth $\\xi$');\n",
    "mean,err=np.mean(noisy_mean_dets),np.std(noisy_mean_dets)/np.sqrt(len(noisy_mean_dets))\n",
    "plt.vlines(np.mean(mean),0,max(x)*1.1,linestyles='dotted')\n",
    "yvals=np.linspace(0,max(x)*1.1,100);FS=16\n",
    "plt.ylim(0,max(x)*1.1)\n",
    "plt.fill_betweenx(yvals,np.ones(100)*(mean-err),np.ones(100)*(mean+err),alpha=0.1,color='k')\n",
    "plt.legend(fontsize=FS-2)\n",
    "plt.title('Fine Binning Mean Determininant Per Mode',fontsize=FS-2)\n",
    "plt.ylabel('PDF',fontsize=FS);plt.xlabel(r'$|C_{ab}|^{1/n_\\mathrm{bins}}$',fontsize=FS+3);"
   ]
  },
  {
   "cell_type": "markdown",
   "metadata": {},
   "source": [
    "## Compare Diagonals"
   ]
  },
  {
   "cell_type": "code",
   "execution_count": null,
   "metadata": {},
   "outputs": [],
   "source": [
    "plt.plot(np.diag(qpm_mean.c_tot))\n"
   ]
  },
  {
   "cell_type": "code",
   "execution_count": null,
   "metadata": {},
   "outputs": [],
   "source": [
    "def diag_plot(fig=None,use_jackknife=False,legend=False,name=False):\n",
    "    if fig==None:\n",
    "        fig=plt.figure()\n",
    "    ax=fig.gca()\n",
    "    if use_jackknife:\n",
    "        mat=qpm_mean.c_jack_tot\n",
    "        ax.set_ylabel(r'$\\mathrm{diag}(\\hat{C}^J_{ab})$',fontsize=FS)\n",
    "        if not name: \n",
    "            name='Jackknife Matrix'\n",
    "    else:\n",
    "        mat=qpm_mean.c_tot\n",
    "        ax.set_ylabel(r'$\\mathrm{diag}(\\hat{C}_{ab})$',fontsize=FS)\n",
    "        if not name:\n",
    "            name='Full Matrix'\n",
    "    ax.plot(np.diag(mat),label=name)\n",
    "    ax.set_yscale('log')\n",
    "    ax.set_xlabel('Bin ID',fontsize=FS)\n",
    "    ax.set_xlim([0,len(mat)])\n",
    "    if legend:\n",
    "        ax.legend(fontsize=FS-2)\n",
    "    return fig"
   ]
  },
  {
   "cell_type": "code",
   "execution_count": null,
   "metadata": {},
   "outputs": [],
   "source": [
    "fig=diag_plot();\n",
    "diag_plot(fig=fig,use_jackknife=True,name=2,legend=True);"
   ]
  },
  {
   "cell_type": "code",
   "execution_count": null,
   "metadata": {},
   "outputs": [],
   "source": []
  }
 ],
 "metadata": {
  "kernelspec": {
   "display_name": "Python 3",
   "language": "python",
   "name": "python3"
  },
  "language_info": {
   "codemirror_mode": {
    "name": "ipython",
    "version": 3
   },
   "file_extension": ".py",
   "mimetype": "text/x-python",
   "name": "python",
   "nbconvert_exporter": "python",
   "pygments_lexer": "ipython3",
   "version": "3.7.0"
  }
 },
 "nbformat": 4,
 "nbformat_minor": 2
}
