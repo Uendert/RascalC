{
 "cells": [
  {
   "cell_type": "code",
   "execution_count": 3,
   "metadata": {},
   "outputs": [
    {
     "name": "stdout",
     "output_type": "stream",
     "text": [
      "Populating the interactive namespace from numpy and matplotlib\n"
     ]
    }
   ],
   "source": [
    "%pylab inline"
   ]
  },
  {
   "cell_type": "markdown",
   "metadata": {},
   "source": [
    "**Modules**"
   ]
  },
  {
   "cell_type": "code",
   "execution_count": 58,
   "metadata": {},
   "outputs": [],
   "source": [
    "import numpy as np\n",
    "from scipy.special import spherical_jn"
   ]
  },
  {
   "cell_type": "markdown",
   "metadata": {},
   "source": [
    "#### Parameters"
   ]
  },
  {
   "cell_type": "code",
   "execution_count": 65,
   "metadata": {},
   "outputs": [],
   "source": [
    "gal_name = '/mnt/store1/oliverphilcox/Legendre2PCF/qpm_galaxy_1.xyzwj'\n",
    "R0=200 # max radius in Mpc/h\n",
    "Rcut=100 # transition radius for window function\n",
    "k_cen = np.arange(0.1,1.1,0.1)"
   ]
  },
  {
   "cell_type": "markdown",
   "metadata": {},
   "source": [
    "**Code**"
   ]
  },
  {
   "cell_type": "code",
   "execution_count": 37,
   "metadata": {},
   "outputs": [],
   "source": [
    "gal_file=np.loadtxt(gal_name)"
   ]
  },
  {
   "cell_type": "code",
   "execution_count": 66,
   "metadata": {},
   "outputs": [],
   "source": [
    "gal_x=gal_file[:,0]\n",
    "gal_y=gal_file[:,1]\n",
    "gal_z=gal_file[:,2]\n",
    "gal_w=gal_file[:,3]\n",
    "R02=np.power(R0,2.)\n",
    "k_vec = np.reshape(k_cen,(1,-1))\n",
    "b=Rcut/R0\n",
    "a=(R0-Rcut)/(2.*R0)"
   ]
  },
  {
   "cell_type": "code",
   "execution_count": 68,
   "metadata": {},
   "outputs": [],
   "source": [
    "## Define window function\n",
    "def windower(r):\n",
    "    x = r/R0\n",
    "    output = np.zeros_like(r)\n",
    "    filt1 = np.where(x<b)\n",
    "    filt2 = np.where((x>b)&(x<b+a))\n",
    "    filt3 = np.where((x>b+a)&(x<1))\n",
    "    output[filt1] = 1.\n",
    "    output[filt2] = 1.-((x[filt2]-b)/a)**3.+0.5*((x[filt2]-b)/a)**4.\n",
    "    output[filt3] = -((x[filt3]-b-2*a)/a)**3.-0.5*((x[filt3]-b-2*a)/a)**4.\n",
    "    return output"
   ]
  },
  {
   "cell_type": "code",
   "execution_count": 62,
   "metadata": {},
   "outputs": [],
   "source": [
    "this_x=gal_x[0]\n",
    "this_y=gal_y[0]\n",
    "this_z=gal_z[0]\n",
    "this_w=gal_w[0]\n",
    "filt1=np.where((np.abs(gal_x-this_x)<R0)&(np.abs(gal_y-this_y)<R0)&(np.abs(gal_z-this_z)<R0))\n",
    "rel_dis2 = np.power(gal_x[filt1]-this_x,2.)+np.power(gal_y[filt1]-this_y,2.)+np.power(gal_z[filt1]-this_z,2.)\n",
    "filt2=np.where(rel_dis2<R02)\n",
    "# Select good galaxies\n",
    "good_x=gal_x[filt1][filt2]\n",
    "good_y=gal_y[filt1][filt2]\n",
    "good_z=gal_z[filt1][filt2]\n",
    "rel_dis = np.sqrt(rel_dis2)\n",
    "k_dis = np.matmul(np.reshape(rel_dis,(-1,1)),k_vec)\n",
    "bessels = spherical_jn(0,k_dis)*gal_w*this_w*windower(rel_dis)"
   ]
  },
  {
   "cell_type": "code",
   "execution_count": 63,
   "metadata": {},
   "outputs": [
    {
     "data": {
      "text/plain": [
       "(18659, 10)"
      ]
     },
     "execution_count": 63,
     "metadata": {},
     "output_type": "execute_result"
    }
   ],
   "source": [
    "bessels.shape"
   ]
  },
  {
   "cell_type": "code",
   "execution_count": null,
   "metadata": {},
   "outputs": [],
   "source": []
  },
  {
   "cell_type": "code",
   "execution_count": 56,
   "metadata": {},
   "outputs": [
    {
     "data": {
      "text/plain": [
       "array([[0.00000000e+00, 0.00000000e+00, 0.00000000e+00, ...,\n",
       "        0.00000000e+00, 0.00000000e+00, 0.00000000e+00],\n",
       "       [1.09087629e-01, 2.18175258e-01, 3.27262887e-01, ...,\n",
       "        8.72701032e-01, 9.81788661e-01, 1.09087629e+00],\n",
       "       [3.25679736e-01, 6.51359472e-01, 9.77039208e-01, ...,\n",
       "        2.60543789e+00, 2.93111762e+00, 3.25679736e+00],\n",
       "       ...,\n",
       "       [1.68673374e+01, 3.37346749e+01, 5.06020123e+01, ...,\n",
       "        1.34938699e+02, 1.51806037e+02, 1.68673374e+02],\n",
       "       [3.18655444e+01, 6.37310888e+01, 9.55966332e+01, ...,\n",
       "        2.54924355e+02, 2.86789900e+02, 3.18655444e+02],\n",
       "       [1.70883040e+01, 3.41766079e+01, 5.12649119e+01, ...,\n",
       "        1.36706432e+02, 1.53794736e+02, 1.70883040e+02]])"
      ]
     },
     "execution_count": 56,
     "metadata": {},
     "output_type": "execute_result"
    }
   ],
   "source": [
    "k_dis"
   ]
  },
  {
   "cell_type": "code",
   "execution_count": 50,
   "metadata": {},
   "outputs": [
    {
     "data": {
      "text/plain": [
       "array([[  0.        ],\n",
       "       [  1.09087629],\n",
       "       [  3.25679736],\n",
       "       ...,\n",
       "       [168.67337434],\n",
       "       [318.65544398],\n",
       "       [170.8830397 ]])"
      ]
     },
     "execution_count": 50,
     "metadata": {},
     "output_type": "execute_result"
    }
   ],
   "source": [
    "np.reshape(rel_dis,(-1,1))"
   ]
  },
  {
   "cell_type": "code",
   "execution_count": 49,
   "metadata": {},
   "outputs": [
    {
     "data": {
      "text/plain": [
       "(18659, 10)"
      ]
     },
     "execution_count": 49,
     "metadata": {},
     "output_type": "execute_result"
    }
   ],
   "source": [
    "np.matmul(rel_dis.reshape(-1,1),k_cen.reshape(1,-1)).shape"
   ]
  },
  {
   "cell_type": "code",
   "execution_count": null,
   "metadata": {},
   "outputs": [],
   "source": []
  }
 ],
 "metadata": {
  "kernelspec": {
   "display_name": "Python 3",
   "language": "python",
   "name": "python3"
  },
  "language_info": {
   "codemirror_mode": {
    "name": "ipython",
    "version": 3
   },
   "file_extension": ".py",
   "mimetype": "text/x-python",
   "name": "python",
   "nbconvert_exporter": "python",
   "pygments_lexer": "ipython3",
   "version": "3.7.0"
  }
 },
 "nbformat": 4,
 "nbformat_minor": 2
}
