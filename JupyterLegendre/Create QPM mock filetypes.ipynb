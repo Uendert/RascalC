{
 "cells": [
  {
   "cell_type": "code",
   "execution_count": 2,
   "metadata": {},
   "outputs": [],
   "source": [
    "import os,sys"
   ]
  },
  {
   "cell_type": "code",
   "execution_count": 3,
   "metadata": {},
   "outputs": [
    {
     "name": "stdout",
     "output_type": "stream",
     "text": [
      "Populating the interactive namespace from numpy and matplotlib\n"
     ]
    }
   ],
   "source": [
    "%pylab inline"
   ]
  },
  {
   "cell_type": "code",
   "execution_count": 24,
   "metadata": {},
   "outputs": [],
   "source": [
    "out_dir = '/mnt/store1/oliverphilcox/3PCF_QPM_v3/'\n",
    "qpm_proc_root = '/mnt/store1/oliverphilcox/QPM_proc/'\n",
    "i=0\n",
    "for j in range(1,301):\n",
    "    gal_path = qpm_proc_root+'qpm_galaxy_'+str(j).zfill(4)+'.xyzw'\n",
    "    if os.path.exists(gal_path):\n",
    "        os.system('cp %s %s'%(gal_path,out_dir+'mock_'+str(i)))\n",
    "        i+=1"
   ]
  },
  {
   "cell_type": "markdown",
   "metadata": {},
   "source": [
    "## Compute mean weights"
   ]
  },
  {
   "cell_type": "code",
   "execution_count": 105,
   "metadata": {},
   "outputs": [],
   "source": [
    "all_N_gal=[]\n",
    "all_weights=[]\n",
    "for i in range(290):\n",
    "    infile = out_dir+'mock_%d'%i\n",
    "    with open(infile) as inn:\n",
    "        for l,line in enumerate(inn):\n",
    "            pass\n",
    "    this_N_gal=l+1\n",
    "    all_N_gal.append(this_N_gal)\n",
    "    this_weights=np.zeros(l+1,dtype=float)\n",
    "    with open(infile) as inn:\n",
    "        for l,line in enumerate(inn):\n",
    "            w=float(line.split()[-1])\n",
    "            this_weights[l] = w\n",
    "    all_weights.append(this_weights)"
   ]
  },
  {
   "cell_type": "code",
   "execution_count": 109,
   "metadata": {},
   "outputs": [],
   "source": [
    "np.save('/mnt/store1/oliverphilcox/3PCF_QPM_v3/all_N_gal.npy',all_N_gal)"
   ]
  },
  {
   "cell_type": "code",
   "execution_count": 110,
   "metadata": {},
   "outputs": [
    {
     "name": "stdout",
     "output_type": "stream",
     "text": [
      "Sum-weighted: 108863.47\n",
      "N_gal: 651506\n"
     ]
    }
   ],
   "source": [
    "sum_w = [w.sum() for w in all_weights]\n",
    "mean_N_gal = np.mean(all_N_gal)\n",
    "mean_sum_w = np.mean(sum_w)\n",
    "print(\"Sum-weighted: %.2f\"%mean_sum_w)\n",
    "print(\"N_gal: %.0f\"%mean_N_gal)"
   ]
  },
  {
   "cell_type": "markdown",
   "metadata": {},
   "source": [
    "### Create random files"
   ]
  },
  {
   "cell_type": "code",
   "execution_count": 58,
   "metadata": {},
   "outputs": [],
   "source": [
    "N_ran_single = int(1.5*mean_N_gal)"
   ]
  },
  {
   "cell_type": "code",
   "execution_count": 61,
   "metadata": {},
   "outputs": [
    {
     "name": "stdout",
     "output_type": "stream",
     "text": [
      "0 percent complete\n",
      "3 percent complete\n",
      "6 percent complete\n",
      "9 percent complete\n",
      "12 percent complete\n",
      "15 percent complete\n",
      "18 percent complete\n",
      "21 percent complete\n",
      "24 percent complete\n",
      "27 percent complete\n",
      "30 percent complete\n",
      "33 percent complete\n",
      "36 percent complete\n",
      "39 percent complete\n",
      "42 percent complete\n",
      "45 percent complete\n",
      "48 percent complete\n",
      "51 percent complete\n",
      "54 percent complete\n",
      "57 percent complete\n",
      "60 percent complete\n",
      "63 percent complete\n",
      "66 percent complete\n",
      "69 percent complete\n",
      "72 percent complete\n",
      "75 percent complete\n",
      "78 percent complete\n",
      "81 percent complete\n",
      "84 percent complete\n",
      "87 percent complete\n",
      "90 percent complete\n",
      "93 percent complete\n",
      "96 percent complete\n",
      "99 percent complete\n"
     ]
    }
   ],
   "source": [
    "full_ran = '/mnt/store1/oliverphilcox/PowerSpectra/qpm_randoms_50x.xyzwj'\n",
    "with open(full_ran) as ran_in:\n",
    "    for l,line in enumerate(ran_in):\n",
    "        pass\n",
    "N_ran = l+1\n",
    "\n",
    "ran_x,ran_y,ran_z,ran_w = [np.zeros(N_ran) for _ in range(4)]\n",
    "with open(full_ran) as ran_in:\n",
    "    for l,line in enumerate(ran_in):\n",
    "        if l%N_ran_single==0:\n",
    "            print(\"%d percent complete\"%(l/N_ran*100))\n",
    "        split = line.split()\n",
    "        ran_x[l] = float(split[0])\n",
    "        ran_y[l] = float(split[1])\n",
    "        ran_z[l] = float(split[2])\n",
    "        ran_w[l] = float(split[3])"
   ]
  },
  {
   "cell_type": "code",
   "execution_count": 73,
   "metadata": {},
   "outputs": [],
   "source": [
    "sum_w = np.sum(ran_w)"
   ]
  },
  {
   "cell_type": "code",
   "execution_count": 69,
   "metadata": {},
   "outputs": [],
   "source": [
    "all_ind = np.arange(0,N_ran,1)\n",
    "shuffle(all_ind)"
   ]
  },
  {
   "cell_type": "code",
   "execution_count": 80,
   "metadata": {},
   "outputs": [
    {
     "name": "stdout",
     "output_type": "stream",
     "text": [
      "Creating random file 1\n",
      "Creating random file 2\n",
      "Creating random file 3\n",
      "Creating random file 4\n",
      "Creating random file 5\n",
      "Creating random file 6\n",
      "Creating random file 7\n",
      "Creating random file 8\n",
      "Creating random file 9\n",
      "Creating random file 10\n",
      "Creating random file 11\n",
      "Creating random file 12\n",
      "Creating random file 13\n",
      "Creating random file 14\n",
      "Creating random file 15\n",
      "Creating random file 16\n",
      "Creating random file 17\n",
      "Creating random file 18\n",
      "Creating random file 19\n",
      "Creating random file 20\n",
      "Creating random file 21\n",
      "Creating random file 22\n",
      "Creating random file 23\n",
      "Creating random file 24\n",
      "Creating random file 25\n",
      "Creating random file 26\n",
      "Creating random file 27\n",
      "Creating random file 28\n",
      "Creating random file 29\n",
      "Creating random file 30\n",
      "Creating random file 31\n",
      "Creating random file 32\n"
     ]
    }
   ],
   "source": [
    "for i in range(32):\n",
    "    \n",
    "    print(\"Creating random file %d\"%(i+1))\n",
    "    \n",
    "    these_ind = all_ind[N_ran_single*i:N_ran_single*(i+1)]\n",
    "    \n",
    "    this_x = ran_x[these_ind]\n",
    "    this_y = ran_y[these_ind]\n",
    "    this_z = ran_z[these_ind]\n",
    "    this_w = ran_w[these_ind]\n",
    "    ## ensure weights have correct sum and sign\n",
    "    this_w*=mean_sum_w/np.sum(this_w)*-1.\n",
    "    \n",
    "    outfile = '/mnt/store1/oliverphilcox/3PCF_QPM_v3/ran_%d'%i\n",
    "    \n",
    "    with open(outfile,\"w\") as out:\n",
    "        for j in range(len(this_x)):\n",
    "            out.write(\"%.8f %.8f %.8f %.8f\\n\"%(this_x[j],this_y[j],this_z[j],this_w[j]))"
   ]
  },
  {
   "cell_type": "code",
   "execution_count": null,
   "metadata": {},
   "outputs": [],
   "source": []
  },
  {
   "cell_type": "markdown",
   "metadata": {},
   "source": [
    "### Define mean nw"
   ]
  },
  {
   "cell_type": "code",
   "execution_count": 93,
   "metadata": {},
   "outputs": [
    {
     "name": "stdout",
     "output_type": "stream",
     "text": [
      "volume inside points is:  4098297811.0807405\n"
     ]
    }
   ],
   "source": [
    "## First define volume\n",
    "\n",
    "import scipy.spatial as ss\n",
    "hull = ss.ConvexHull(np.vstack([ran_x,ran_y,ran_z]).T)\n",
    "print('volume inside points is: ',hull.volume)\n",
    "V=hull.volume # in (Mpc/h)^3"
   ]
  },
  {
   "cell_type": "code",
   "execution_count": 95,
   "metadata": {},
   "outputs": [],
   "source": [
    "this_fac=[]\n",
    "for i in range(len(all_weights)):\n",
    "    w = all_weights[i]\n",
    "    n = (1./w-1.)/20000\n",
    "    this_fac.append(np.mean(w**3*n**3)*V)"
   ]
  },
  {
   "cell_type": "code",
   "execution_count": 96,
   "metadata": {},
   "outputs": [
    {
     "data": {
      "text/plain": [
       "(0.00030429669778437283, 3.2028705997329453e-07)"
      ]
     },
     "execution_count": 96,
     "metadata": {},
     "output_type": "execute_result"
    }
   ],
   "source": [
    "np.mean(this_fac),np.std(this_fac)"
   ]
  },
  {
   "cell_type": "code",
   "execution_count": 98,
   "metadata": {},
   "outputs": [],
   "source": [
    "np.save('/mnt/store1/oliverphilcox/3PCF_QPM_v3/nw3V',np.mean(this_fac))"
   ]
  },
  {
   "cell_type": "code",
   "execution_count": null,
   "metadata": {},
   "outputs": [],
   "source": []
  }
 ],
 "metadata": {
  "kernelspec": {
   "display_name": "Python 3",
   "language": "python",
   "name": "python3"
  },
  "language_info": {
   "codemirror_mode": {
    "name": "ipython",
    "version": 3
   },
   "file_extension": ".py",
   "mimetype": "text/x-python",
   "name": "python",
   "nbconvert_exporter": "python",
   "pygments_lexer": "ipython3",
   "version": "3.7.0"
  }
 },
 "nbformat": 4,
 "nbformat_minor": 2
}
