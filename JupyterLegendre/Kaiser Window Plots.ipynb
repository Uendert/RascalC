{
 "cells": [
  {
   "cell_type": "code",
   "execution_count": 1,
   "metadata": {},
   "outputs": [
    {
     "name": "stdout",
     "output_type": "stream",
     "text": [
      "Populating the interactive namespace from numpy and matplotlib\n"
     ]
    }
   ],
   "source": [
    "%pylab inline"
   ]
  },
  {
   "cell_type": "markdown",
   "metadata": {},
   "source": [
    "### Real-Space + FT Window Plots"
   ]
  },
  {
   "cell_type": "code",
   "execution_count": 2,
   "metadata": {},
   "outputs": [],
   "source": [
    "def kaiser(x,alpha_kaiser=3):\n",
    "    return i0(alpha_kaiser*np.pi*np.sqrt(1.-x**2.))/i0(alpha_kaiser*np.pi)\n",
    "top_hat = lambda x: 1\n",
    "def windower(r,R_max,f):\n",
    "    \"\"\"General window function operator for function f with support on [0,R]\"\"\"\n",
    "    if type(r)==float:\n",
    "        if r<R_max:\n",
    "            return f(r/R_max)\n",
    "        else:\n",
    "            return 0.\n",
    "    else:\n",
    "        output = np.zeros_like(r)\n",
    "        output[r<R_max]=f(r[r<R_max]/R_max)/norm\n",
    "        return output"
   ]
  },
  {
   "cell_type": "code",
   "execution_count": null,
   "metadata": {},
   "outputs": [],
   "source": [
    "R_max = 400\n",
    "all_r = np.linspace(0,R_max,500)\n",
    "for i,window in enumerate(windows):\n",
    "    if names[i] in good_window:\n",
    "        norm = norm_fn(window,R_max)\n",
    "        plt.plot(all_r,windower(all_r,R_max,window,norm),label=names[i])\n",
    "plt.legend();\n",
    "plt.ylabel(r'$W(x)$',fontsize=16);plt.xlabel(r'$r$',fontsize=16);"
   ]
  }
 ],
 "metadata": {
  "kernelspec": {
   "display_name": "Python 3",
   "language": "python",
   "name": "python3"
  },
  "language_info": {
   "codemirror_mode": {
    "name": "ipython",
    "version": 3
   },
   "file_extension": ".py",
   "mimetype": "text/x-python",
   "name": "python",
   "nbconvert_exporter": "python",
   "pygments_lexer": "ipython3",
   "version": "3.7.0"
  }
 },
 "nbformat": 4,
 "nbformat_minor": 2
}
