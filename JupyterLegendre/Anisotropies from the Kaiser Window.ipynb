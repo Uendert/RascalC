{
 "cells": [
  {
   "cell_type": "markdown",
   "metadata": {},
   "source": [
    "#### Consider the anisotropies introduced by the Kaiser window function convolution"
   ]
  },
  {
   "cell_type": "code",
   "execution_count": 6,
   "metadata": {},
   "outputs": [
    {
     "name": "stdout",
     "output_type": "stream",
     "text": [
      "Populating the interactive namespace from numpy and matplotlib\n"
     ]
    },
    {
     "name": "stderr",
     "output_type": "stream",
     "text": [
      "/home/oliverphilcox/anaconda3/lib/python3.7/site-packages/IPython/core/magics/pylab.py:160: UserWarning: pylab import has clobbered these variables: ['kaiser']\n",
      "`%matplotlib` prevents importing * from pylab and numpy\n",
      "  \"\\n`%matplotlib` prevents importing * from pylab and numpy\"\n"
     ]
    }
   ],
   "source": [
    "%pylab inline"
   ]
  },
  {
   "cell_type": "code",
   "execution_count": 24,
   "metadata": {},
   "outputs": [],
   "source": [
    "R_max = 400"
   ]
  },
  {
   "cell_type": "code",
   "execution_count": 63,
   "metadata": {},
   "outputs": [],
   "source": [
    "from scipy.special import i0,spherical_jn\n",
    "from scipy.integrate import quad\n",
    "def kaiser(x,alpha_kaiser=3):\n",
    "    return i0(alpha_kaiser*np.pi*np.sqrt(1.-x**2.))/i0(alpha_kaiser*np.pi)\n",
    "def window(r,R_max):\n",
    "    if type(r)==float:\n",
    "        if r<R_max:\n",
    "            return kaiser(r/R_max)\n",
    "        else:\n",
    "            return 0.\n",
    "    else:\n",
    "        out = np.zeros_like(r)\n",
    "        filt = np.where(r<R_max)\n",
    "        out[filt]=kaiser(r[filt]/R_max)\n",
    "        return out\n",
    "def spherical_FT(k,R_max):\n",
    "    out=quad(lambda r: spherical_jn(0,k*r)*r**2.*window(r,R_max),0,R_max)\n",
    "    return out[0]*np.pi*4."
   ]
  },
  {
   "cell_type": "code",
   "execution_count": 64,
   "metadata": {},
   "outputs": [
    {
     "name": "stderr",
     "output_type": "stream",
     "text": [
      "/home/oliverphilcox/anaconda3/lib/python3.7/site-packages/scipy/integrate/quadpack.py:385: IntegrationWarning: The maximum number of subdivisions (50) has been achieved.\n",
      "  If increasing the limit yields no improvement it is advised to analyze \n",
      "  the integrand in order to determine the difficulties.  If the position of a \n",
      "  local difficulty can be determined (singularity, discontinuity) one will \n",
      "  probably gain from splitting up the interval and calling the integrator \n",
      "  on the subranges.  Perhaps a special-purpose integrator should be used.\n",
      "  warnings.warn(msg, IntegrationWarning)\n"
     ]
    },
    {
     "data": {
      "image/png": "[encoded data removed]",
      "text/plain": [
       "<Figure size 432x288 with 1 Axes>"
      ]
     },
     "metadata": {
      "needs_background": "light"
     },
     "output_type": "display_data"
    }
   ],
   "source": [
    "k_all = np.logspace(-3,0,100)\n",
    "fts = [spherical_FT(kk,R_max) for kk in k_all]\n",
    "plt.plot(k_all,fts)\n",
    "plt.xscale('log');"
   ]
  },
  {
   "cell_type": "markdown",
   "metadata": {},
   "source": [
    "#### Create 3D window function"
   ]
  },
  {
   "cell_type": "code",
   "execution_count": 65,
   "metadata": {},
   "outputs": [],
   "source": [
    "def window_3d(x,y,z):\n",
    "    r = np.sqrt(x**2.+y**2.+z**2.)\n",
    "    return window(r,R_max)"
   ]
  },
  {
   "cell_type": "code",
   "execution_count": 127,
   "metadata": {},
   "outputs": [],
   "source": [
    "## Load in power\n",
    "power_in = np.load('true_k_iso_model.npz')\n",
    "k_in = power_in['k'];power_model = power_in['power']"
   ]
  },
  {
   "cell_type": "code",
   "execution_count": 175,
   "metadata": {},
   "outputs": [],
   "source": [
    "from scipy.interpolate import UnivariateSpline\n",
    "spl = UnivariateSpline(k_in,power_model)\n",
    "def power_1d(k):\n",
    "    return spl(k)"
   ]
  },
  {
   "cell_type": "code",
   "execution_count": 176,
   "metadata": {},
   "outputs": [],
   "source": [
    "def power_3d(kx,ky,kz):\n",
    "    k = np.sqrt(kx**2.+ky**2.+kz**2.)\n",
    "    mu = np.sqrt(kx**2.+ky**2.)/k\n",
    "    f=0.3\n",
    "    return power_1d(k)*(1.+0.3*mu**2.)**2."
   ]
  },
  {
   "cell_type": "code",
   "execution_count": 196,
   "metadata": {},
   "outputs": [],
   "source": [
    "k_all = np.linspace(-0.5,0.5,500)\n",
    "power_grid = np.zeros([len(k_all),len(k_all),len(k_all)])\n",
    "for i in range(len(k_all)):\n",
    "    for j in range(len(k_all)):\n",
    "        power_grid[i,j,:]=power_3d(k_all[i],k_all[j],k_all)"
   ]
  },
  {
   "cell_type": "code",
   "execution_count": 197,
   "metadata": {},
   "outputs": [],
   "source": [
    "ifft_power_grid=np.fft.fftshift(np.fft.ifftn(power_grid))\n",
    "r_all=np.fft.fftshift(np.fft.fftfreq(len(k_all),d=k_all[1]-k_all[0]))"
   ]
  },
  {
   "cell_type": "code",
   "execution_count": 198,
   "metadata": {},
   "outputs": [],
   "source": [
    "window_grid = np.zeros([len(r_all),len(r_all),len(r_all)])\n",
    "for i in range(len(r_all)):\n",
    "    for j in range(len(r_all)):\n",
    "        window_grid[i,j,:]=window_3d(r_all[i],r_all[j],r_all)"
   ]
  },
  {
   "cell_type": "code",
   "execution_count": 199,
   "metadata": {},
   "outputs": [],
   "source": [
    "prod_ifft = ifft_power_grid*window_grid\n",
    "convolved_power = np.fft.fftshift(np.fft.fftn(prod_ifft))"
   ]
  },
  {
   "cell_type": "code",
   "execution_count": 212,
   "metadata": {},
   "outputs": [],
   "source": [
    "k_grid = np.meshgrid(k_all,k_all,k_all)[0]"
   ]
  },
  {
   "cell_type": "code",
   "execution_count": 217,
   "metadata": {},
   "outputs": [],
   "source": [
    "from scipy.interpolate import RegularGridInterpolator\n",
    "convolved_model = RegularGridInterpolator([k_all,k_all,k_all],convolved_power)"
   ]
  },
  {
   "cell_type": "code",
   "execution_count": 226,
   "metadata": {},
   "outputs": [
    {
     "name": "stderr",
     "output_type": "stream",
     "text": [
      "/home/oliverphilcox/anaconda3/lib/python3.7/site-packages/numpy/core/numeric.py:501: ComplexWarning: Casting complex values to real discards the imaginary part\n",
      "  return array(a, dtype, copy=False, order=order)\n"
     ]
    },
    {
     "data": {
      "text/plain": [
       "[<matplotlib.lines.Line2D at 0x7f79a460dcc0>]"
      ]
     },
     "execution_count": 226,
     "metadata": {},
     "output_type": "execute_result"
    },
    {
     "data": {
      "image/png": "[encoded data removed]",
      "text/plain": [
       "<Figure size 432x288 with 1 Axes>"
      ]
     },
     "metadata": {
      "needs_background": "light"
     },
     "output_type": "display_data"
    }
   ],
   "source": [
    "cc=[convolved_model([0.,0.,kk]) for kk in k_all]\n",
    "plt.plot(k_all,cc)"
   ]
  },
  {
   "cell_type": "code",
   "execution_count": null,
   "metadata": {},
   "outputs": [],
   "source": []
  },
  {
   "cell_type": "code",
   "execution_count": null,
   "metadata": {},
   "outputs": [],
   "source": [
    "binned_power = np.zeros([3,len(k_all)-1])\n",
    "for i in range(len(k_all)):\n",
    "    for j in range(len(k_all)):\n",
    "        kij = np.sqrt(k_all[i]**2.+k_all[j]**2.)\n",
    "        for k in range(len(k_all)):\n",
    "            this_k = np.sqrt(k_all[i]**2.+k_all[j]**2.+k_all[k]**2.)\n",
    "            mu_k = kij/this_k\n",
    "            for l_i,ell in enumerate([0,2,4]):\n",
    "                k_bin = np.where((this_k<k_all[1:])&(this_k>k_all[:-1]))\n",
    "                binned_power[l_i,k_bin]+=(2.*ell+1.)*"
   ]
  },
  {
   "cell_type": "code",
   "execution_count": null,
   "metadata": {},
   "outputs": [],
   "source": []
  },
  {
   "cell_type": "code",
   "execution_count": 195,
   "metadata": {},
   "outputs": [
    {
     "name": "stderr",
     "output_type": "stream",
     "text": [
      "/home/oliverphilcox/anaconda3/lib/python3.7/site-packages/numpy/core/numeric.py:501: ComplexWarning: Casting complex values to real discards the imaginary part\n",
      "  return array(a, dtype, copy=False, order=order)\n"
     ]
    },
    {
     "data": {
      "text/plain": [
       "[<matplotlib.lines.Line2D at 0x7f79a4053be0>,\n",
       " <matplotlib.lines.Line2D at 0x7f79a4053d30>,\n",
       " <matplotlib.lines.Line2D at 0x7f79a4053e80>,\n",
       " <matplotlib.lines.Line2D at 0x7f79a4053fd0>,\n",
       " <matplotlib.lines.Line2D at 0x7f79a405c160>,\n",
       " <matplotlib.lines.Line2D at 0x7f79a405c2b0>,\n",
       " <matplotlib.lines.Line2D at 0x7f79a405c400>,\n",
       " <matplotlib.lines.Line2D at 0x7f79a405c550>,\n",
       " <matplotlib.lines.Line2D at 0x7f79a405c6a0>,\n",
       " <matplotlib.lines.Line2D at 0x7f79a405c7f0>,\n",
       " <matplotlib.lines.Line2D at 0x7f79a40ba7f0>,\n",
       " <matplotlib.lines.Line2D at 0x7f79a405ca58>,\n",
       " <matplotlib.lines.Line2D at 0x7f79a405cba8>,\n",
       " <matplotlib.lines.Line2D at 0x7f79a405ccf8>,\n",
       " <matplotlib.lines.Line2D at 0x7f79a405ce48>,\n",
       " <matplotlib.lines.Line2D at 0x7f79a405cf98>,\n",
       " <matplotlib.lines.Line2D at 0x7f79a4062128>,\n",
       " <matplotlib.lines.Line2D at 0x7f79a4062278>,\n",
       " <matplotlib.lines.Line2D at 0x7f79a40623c8>,\n",
       " <matplotlib.lines.Line2D at 0x7f79a4062518>,\n",
       " <matplotlib.lines.Line2D at 0x7f79a4062668>,\n",
       " <matplotlib.lines.Line2D at 0x7f79a40627b8>,\n",
       " <matplotlib.lines.Line2D at 0x7f79a4062908>,\n",
       " <matplotlib.lines.Line2D at 0x7f79a4062a58>,\n",
       " <matplotlib.lines.Line2D at 0x7f79a4062ba8>,\n",
       " <matplotlib.lines.Line2D at 0x7f79a4062cf8>,\n",
       " <matplotlib.lines.Line2D at 0x7f79a4062e48>,\n",
       " <matplotlib.lines.Line2D at 0x7f79a4062f98>,\n",
       " <matplotlib.lines.Line2D at 0x7f79a4067128>,\n",
       " <matplotlib.lines.Line2D at 0x7f79a4067278>,\n",
       " <matplotlib.lines.Line2D at 0x7f79a40673c8>,\n",
       " <matplotlib.lines.Line2D at 0x7f79a4067518>,\n",
       " <matplotlib.lines.Line2D at 0x7f79a4067668>,\n",
       " <matplotlib.lines.Line2D at 0x7f79a40677b8>,\n",
       " <matplotlib.lines.Line2D at 0x7f79a4067908>,\n",
       " <matplotlib.lines.Line2D at 0x7f79a4067a58>,\n",
       " <matplotlib.lines.Line2D at 0x7f79a4067ba8>,\n",
       " <matplotlib.lines.Line2D at 0x7f79a4067cf8>,\n",
       " <matplotlib.lines.Line2D at 0x7f79a4067e48>,\n",
       " <matplotlib.lines.Line2D at 0x7f79a4067f98>,\n",
       " <matplotlib.lines.Line2D at 0x7f79a406c128>,\n",
       " <matplotlib.lines.Line2D at 0x7f79a406c278>,\n",
       " <matplotlib.lines.Line2D at 0x7f79a406c3c8>,\n",
       " <matplotlib.lines.Line2D at 0x7f79a406c518>,\n",
       " <matplotlib.lines.Line2D at 0x7f79a406c668>,\n",
       " <matplotlib.lines.Line2D at 0x7f79a406c7b8>,\n",
       " <matplotlib.lines.Line2D at 0x7f79a406c908>,\n",
       " <matplotlib.lines.Line2D at 0x7f79a406ca58>,\n",
       " <matplotlib.lines.Line2D at 0x7f79a406cba8>,\n",
       " <matplotlib.lines.Line2D at 0x7f79a406ccf8>,\n",
       " <matplotlib.lines.Line2D at 0x7f79a406ce48>,\n",
       " <matplotlib.lines.Line2D at 0x7f79a406cf98>,\n",
       " <matplotlib.lines.Line2D at 0x7f79a4070128>,\n",
       " <matplotlib.lines.Line2D at 0x7f79a4070278>,\n",
       " <matplotlib.lines.Line2D at 0x7f79a40703c8>,\n",
       " <matplotlib.lines.Line2D at 0x7f79a4070518>,\n",
       " <matplotlib.lines.Line2D at 0x7f79a4070668>,\n",
       " <matplotlib.lines.Line2D at 0x7f79a40707b8>,\n",
       " <matplotlib.lines.Line2D at 0x7f79a4070908>,\n",
       " <matplotlib.lines.Line2D at 0x7f79a4070a58>,\n",
       " <matplotlib.lines.Line2D at 0x7f79a4070ba8>,\n",
       " <matplotlib.lines.Line2D at 0x7f79a4070cf8>,\n",
       " <matplotlib.lines.Line2D at 0x7f79a4070e48>,\n",
       " <matplotlib.lines.Line2D at 0x7f79a4070f98>,\n",
       " <matplotlib.lines.Line2D at 0x7f79a4076128>,\n",
       " <matplotlib.lines.Line2D at 0x7f79a4076278>,\n",
       " <matplotlib.lines.Line2D at 0x7f79a40763c8>,\n",
       " <matplotlib.lines.Line2D at 0x7f79a4076518>,\n",
       " <matplotlib.lines.Line2D at 0x7f79a4076668>,\n",
       " <matplotlib.lines.Line2D at 0x7f79a40767b8>,\n",
       " <matplotlib.lines.Line2D at 0x7f79a4076908>,\n",
       " <matplotlib.lines.Line2D at 0x7f79a4076a58>,\n",
       " <matplotlib.lines.Line2D at 0x7f79a4076ba8>,\n",
       " <matplotlib.lines.Line2D at 0x7f79a4076cf8>,\n",
       " <matplotlib.lines.Line2D at 0x7f79a4076e48>,\n",
       " <matplotlib.lines.Line2D at 0x7f79a4076f98>,\n",
       " <matplotlib.lines.Line2D at 0x7f79a407c128>,\n",
       " <matplotlib.lines.Line2D at 0x7f79a407c278>,\n",
       " <matplotlib.lines.Line2D at 0x7f79a407c3c8>,\n",
       " <matplotlib.lines.Line2D at 0x7f79a407c518>,\n",
       " <matplotlib.lines.Line2D at 0x7f79a407c668>,\n",
       " <matplotlib.lines.Line2D at 0x7f79a407c7b8>,\n",
       " <matplotlib.lines.Line2D at 0x7f79a407c908>,\n",
       " <matplotlib.lines.Line2D at 0x7f79a407ca58>,\n",
       " <matplotlib.lines.Line2D at 0x7f79a407cba8>,\n",
       " <matplotlib.lines.Line2D at 0x7f79a407ccf8>,\n",
       " <matplotlib.lines.Line2D at 0x7f79a407ce48>,\n",
       " <matplotlib.lines.Line2D at 0x7f79a407cf98>,\n",
       " <matplotlib.lines.Line2D at 0x7f79a4081128>,\n",
       " <matplotlib.lines.Line2D at 0x7f79a4081278>,\n",
       " <matplotlib.lines.Line2D at 0x7f79a40813c8>,\n",
       " <matplotlib.lines.Line2D at 0x7f79a4081518>,\n",
       " <matplotlib.lines.Line2D at 0x7f79a4081668>,\n",
       " <matplotlib.lines.Line2D at 0x7f79a40817b8>,\n",
       " <matplotlib.lines.Line2D at 0x7f79a4081908>,\n",
       " <matplotlib.lines.Line2D at 0x7f79a4081a58>,\n",
       " <matplotlib.lines.Line2D at 0x7f79a4081ba8>,\n",
       " <matplotlib.lines.Line2D at 0x7f79a4081cf8>,\n",
       " <matplotlib.lines.Line2D at 0x7f79a4081e48>,\n",
       " <matplotlib.lines.Line2D at 0x7f79a4081f98>,\n",
       " <matplotlib.lines.Line2D at 0x7f79a4005128>,\n",
       " <matplotlib.lines.Line2D at 0x7f79a4005278>,\n",
       " <matplotlib.lines.Line2D at 0x7f79a40053c8>,\n",
       " <matplotlib.lines.Line2D at 0x7f79a4005518>,\n",
       " <matplotlib.lines.Line2D at 0x7f79a4005668>,\n",
       " <matplotlib.lines.Line2D at 0x7f79a40057b8>,\n",
       " <matplotlib.lines.Line2D at 0x7f79a4005908>,\n",
       " <matplotlib.lines.Line2D at 0x7f79a4005a58>,\n",
       " <matplotlib.lines.Line2D at 0x7f79a4005ba8>,\n",
       " <matplotlib.lines.Line2D at 0x7f79a4005cf8>,\n",
       " <matplotlib.lines.Line2D at 0x7f79a4005e48>,\n",
       " <matplotlib.lines.Line2D at 0x7f79a4005f98>,\n",
       " <matplotlib.lines.Line2D at 0x7f79a400b128>,\n",
       " <matplotlib.lines.Line2D at 0x7f79a400b278>,\n",
       " <matplotlib.lines.Line2D at 0x7f79a400b3c8>,\n",
       " <matplotlib.lines.Line2D at 0x7f79a400b518>,\n",
       " <matplotlib.lines.Line2D at 0x7f79a400b668>,\n",
       " <matplotlib.lines.Line2D at 0x7f79a400b7b8>,\n",
       " <matplotlib.lines.Line2D at 0x7f79a400b908>,\n",
       " <matplotlib.lines.Line2D at 0x7f79a400ba58>,\n",
       " <matplotlib.lines.Line2D at 0x7f79a400bba8>,\n",
       " <matplotlib.lines.Line2D at 0x7f79a400bcf8>,\n",
       " <matplotlib.lines.Line2D at 0x7f79a400be48>,\n",
       " <matplotlib.lines.Line2D at 0x7f79a400bf98>,\n",
       " <matplotlib.lines.Line2D at 0x7f79a4010128>,\n",
       " <matplotlib.lines.Line2D at 0x7f79a4010278>,\n",
       " <matplotlib.lines.Line2D at 0x7f79a40103c8>,\n",
       " <matplotlib.lines.Line2D at 0x7f79a4010518>,\n",
       " <matplotlib.lines.Line2D at 0x7f79a4010668>,\n",
       " <matplotlib.lines.Line2D at 0x7f79a40107b8>,\n",
       " <matplotlib.lines.Line2D at 0x7f79a4010908>,\n",
       " <matplotlib.lines.Line2D at 0x7f79a4010a58>,\n",
       " <matplotlib.lines.Line2D at 0x7f79a4010ba8>,\n",
       " <matplotlib.lines.Line2D at 0x7f79a4010cf8>,\n",
       " <matplotlib.lines.Line2D at 0x7f79a4010e48>,\n",
       " <matplotlib.lines.Line2D at 0x7f79a4010f98>,\n",
       " <matplotlib.lines.Line2D at 0x7f79a4015128>,\n",
       " <matplotlib.lines.Line2D at 0x7f79a4015278>,\n",
       " <matplotlib.lines.Line2D at 0x7f79a40153c8>,\n",
       " <matplotlib.lines.Line2D at 0x7f79a4015518>,\n",
       " <matplotlib.lines.Line2D at 0x7f79a4015668>,\n",
       " <matplotlib.lines.Line2D at 0x7f79a40157b8>,\n",
       " <matplotlib.lines.Line2D at 0x7f79a4015908>,\n",
       " <matplotlib.lines.Line2D at 0x7f79a4015a58>,\n",
       " <matplotlib.lines.Line2D at 0x7f79a4015ba8>,\n",
       " <matplotlib.lines.Line2D at 0x7f79a4015cf8>,\n",
       " <matplotlib.lines.Line2D at 0x7f79a4015e48>,\n",
       " <matplotlib.lines.Line2D at 0x7f79a4015f98>,\n",
       " <matplotlib.lines.Line2D at 0x7f79a401a128>,\n",
       " <matplotlib.lines.Line2D at 0x7f79a401a278>,\n",
       " <matplotlib.lines.Line2D at 0x7f79a401a3c8>,\n",
       " <matplotlib.lines.Line2D at 0x7f79a401a518>,\n",
       " <matplotlib.lines.Line2D at 0x7f79a401a668>,\n",
       " <matplotlib.lines.Line2D at 0x7f79a401a7b8>,\n",
       " <matplotlib.lines.Line2D at 0x7f79a401a908>,\n",
       " <matplotlib.lines.Line2D at 0x7f79a401aa58>,\n",
       " <matplotlib.lines.Line2D at 0x7f79a401aba8>,\n",
       " <matplotlib.lines.Line2D at 0x7f79a401acf8>,\n",
       " <matplotlib.lines.Line2D at 0x7f79a401ae48>,\n",
       " <matplotlib.lines.Line2D at 0x7f79a401af98>,\n",
       " <matplotlib.lines.Line2D at 0x7f79a401f128>,\n",
       " <matplotlib.lines.Line2D at 0x7f79a401f278>,\n",
       " <matplotlib.lines.Line2D at 0x7f79a401f3c8>,\n",
       " <matplotlib.lines.Line2D at 0x7f79a401f518>,\n",
       " <matplotlib.lines.Line2D at 0x7f79a401f668>,\n",
       " <matplotlib.lines.Line2D at 0x7f79a401f7b8>,\n",
       " <matplotlib.lines.Line2D at 0x7f79a401f908>,\n",
       " <matplotlib.lines.Line2D at 0x7f79a401fa58>,\n",
       " <matplotlib.lines.Line2D at 0x7f79a401fba8>,\n",
       " <matplotlib.lines.Line2D at 0x7f79a401fcf8>,\n",
       " <matplotlib.lines.Line2D at 0x7f79a401fe48>,\n",
       " <matplotlib.lines.Line2D at 0x7f79a401ff98>,\n",
       " <matplotlib.lines.Line2D at 0x7f79a4024128>,\n",
       " <matplotlib.lines.Line2D at 0x7f79a4024278>,\n",
       " <matplotlib.lines.Line2D at 0x7f79a40243c8>,\n",
       " <matplotlib.lines.Line2D at 0x7f79a4024518>,\n",
       " <matplotlib.lines.Line2D at 0x7f79a4024668>,\n",
       " <matplotlib.lines.Line2D at 0x7f79a40247b8>,\n",
       " <matplotlib.lines.Line2D at 0x7f79a4024908>,\n",
       " <matplotlib.lines.Line2D at 0x7f79a4024a58>,\n",
       " <matplotlib.lines.Line2D at 0x7f79a4024ba8>,\n",
       " <matplotlib.lines.Line2D at 0x7f79a4024cf8>,\n",
       " <matplotlib.lines.Line2D at 0x7f79a4024e48>,\n",
       " <matplotlib.lines.Line2D at 0x7f79a4024f98>,\n",
       " <matplotlib.lines.Line2D at 0x7f79a402a128>,\n",
       " <matplotlib.lines.Line2D at 0x7f79a402a278>,\n",
       " <matplotlib.lines.Line2D at 0x7f79a402a3c8>,\n",
       " <matplotlib.lines.Line2D at 0x7f79a402a518>,\n",
       " <matplotlib.lines.Line2D at 0x7f79a402a668>,\n",
       " <matplotlib.lines.Line2D at 0x7f79a402a7b8>,\n",
       " <matplotlib.lines.Line2D at 0x7f79a402a908>,\n",
       " <matplotlib.lines.Line2D at 0x7f79a402aa58>,\n",
       " <matplotlib.lines.Line2D at 0x7f79a402aba8>,\n",
       " <matplotlib.lines.Line2D at 0x7f79a402acf8>,\n",
       " <matplotlib.lines.Line2D at 0x7f79a402ae48>,\n",
       " <matplotlib.lines.Line2D at 0x7f79a402af98>,\n",
       " <matplotlib.lines.Line2D at 0x7f79a4030128>,\n",
       " <matplotlib.lines.Line2D at 0x7f79a4030278>,\n",
       " <matplotlib.lines.Line2D at 0x7f79a40303c8>,\n",
       " <matplotlib.lines.Line2D at 0x7f79a4030518>]"
      ]
     },
     "execution_count": 195,
     "metadata": {},
     "output_type": "execute_result"
    },
    {
     "data": {
      "image/png": "[encoded data removed]",
      "text/plain": [
       "<Figure size 432x288 with 1 Axes>"
      ]
     },
     "metadata": {
      "needs_background": "light"
     },
     "output_type": "display_data"
    }
   ],
   "source": [
    "plt.plot(k_all,convolved_power[0,:,:])"
   ]
  },
  {
   "cell_type": "code",
   "execution_count": null,
   "metadata": {},
   "outputs": [],
   "source": []
  },
  {
   "cell_type": "code",
   "execution_count": 79,
   "metadata": {},
   "outputs": [],
   "source": [
    "r_all = np.linspace(-400,400,201)\n",
    "window_grid = np.zeros([len(r_all),len(r_all),len(r_all)])"
   ]
  },
  {
   "cell_type": "code",
   "execution_count": 80,
   "metadata": {},
   "outputs": [],
   "source": [
    "for i in range(len(r_all)):\n",
    "    for j in range(len(r_all)):\n",
    "        window_grid[i,j,:]=window_3d(r_all[i],r_all[j],r_all)"
   ]
  },
  {
   "cell_type": "code",
   "execution_count": 82,
   "metadata": {},
   "outputs": [],
   "source": [
    "fft_window_grid=np.fft.fftn(window_grid)\n",
    "k_grid=np.fft.fftfreq(len(r_all),d=r_all[1]-r_all[0])"
   ]
  },
  {
   "cell_type": "code",
   "execution_count": null,
   "metadata": {},
   "outputs": [],
   "source": []
  },
  {
   "cell_type": "code",
   "execution_count": null,
   "metadata": {},
   "outputs": [],
   "source": []
  },
  {
   "cell_type": "code",
   "execution_count": 39,
   "metadata": {},
   "outputs": [],
   "source": [
    "k_all = np.linspace(0.0,0.5,101)\n",
    "k_grid=np.meshgrid(k_all,k_all,k_all)"
   ]
  },
  {
   "cell_type": "code",
   "execution_count": null,
   "metadata": {},
   "outputs": [],
   "source": []
  },
  {
   "cell_type": "code",
   "execution_count": 40,
   "metadata": {},
   "outputs": [
    {
     "data": {
      "text/plain": [
       "[array([[[0.   , 0.   , 0.   , ..., 0.   , 0.   , 0.   ],\n",
       "         [0.005, 0.005, 0.005, ..., 0.005, 0.005, 0.005],\n",
       "         [0.01 , 0.01 , 0.01 , ..., 0.01 , 0.01 , 0.01 ],\n",
       "         ...,\n",
       "         [0.49 , 0.49 , 0.49 , ..., 0.49 , 0.49 , 0.49 ],\n",
       "         [0.495, 0.495, 0.495, ..., 0.495, 0.495, 0.495],\n",
       "         [0.5  , 0.5  , 0.5  , ..., 0.5  , 0.5  , 0.5  ]],\n",
       " \n",
       "        [[0.   , 0.   , 0.   , ..., 0.   , 0.   , 0.   ],\n",
       "         [0.005, 0.005, 0.005, ..., 0.005, 0.005, 0.005],\n",
       "         [0.01 , 0.01 , 0.01 , ..., 0.01 , 0.01 , 0.01 ],\n",
       "         ...,\n",
       "         [0.49 , 0.49 , 0.49 , ..., 0.49 , 0.49 , 0.49 ],\n",
       "         [0.495, 0.495, 0.495, ..., 0.495, 0.495, 0.495],\n",
       "         [0.5  , 0.5  , 0.5  , ..., 0.5  , 0.5  , 0.5  ]],\n",
       " \n",
       "        [[0.   , 0.   , 0.   , ..., 0.   , 0.   , 0.   ],\n",
       "         [0.005, 0.005, 0.005, ..., 0.005, 0.005, 0.005],\n",
       "         [0.01 , 0.01 , 0.01 , ..., 0.01 , 0.01 , 0.01 ],\n",
       "         ...,\n",
       "         [0.49 , 0.49 , 0.49 , ..., 0.49 , 0.49 , 0.49 ],\n",
       "         [0.495, 0.495, 0.495, ..., 0.495, 0.495, 0.495],\n",
       "         [0.5  , 0.5  , 0.5  , ..., 0.5  , 0.5  , 0.5  ]],\n",
       " \n",
       "        ...,\n",
       " \n",
       "        [[0.   , 0.   , 0.   , ..., 0.   , 0.   , 0.   ],\n",
       "         [0.005, 0.005, 0.005, ..., 0.005, 0.005, 0.005],\n",
       "         [0.01 , 0.01 , 0.01 , ..., 0.01 , 0.01 , 0.01 ],\n",
       "         ...,\n",
       "         [0.49 , 0.49 , 0.49 , ..., 0.49 , 0.49 , 0.49 ],\n",
       "         [0.495, 0.495, 0.495, ..., 0.495, 0.495, 0.495],\n",
       "         [0.5  , 0.5  , 0.5  , ..., 0.5  , 0.5  , 0.5  ]],\n",
       " \n",
       "        [[0.   , 0.   , 0.   , ..., 0.   , 0.   , 0.   ],\n",
       "         [0.005, 0.005, 0.005, ..., 0.005, 0.005, 0.005],\n",
       "         [0.01 , 0.01 , 0.01 , ..., 0.01 , 0.01 , 0.01 ],\n",
       "         ...,\n",
       "         [0.49 , 0.49 , 0.49 , ..., 0.49 , 0.49 , 0.49 ],\n",
       "         [0.495, 0.495, 0.495, ..., 0.495, 0.495, 0.495],\n",
       "         [0.5  , 0.5  , 0.5  , ..., 0.5  , 0.5  , 0.5  ]],\n",
       " \n",
       "        [[0.   , 0.   , 0.   , ..., 0.   , 0.   , 0.   ],\n",
       "         [0.005, 0.005, 0.005, ..., 0.005, 0.005, 0.005],\n",
       "         [0.01 , 0.01 , 0.01 , ..., 0.01 , 0.01 , 0.01 ],\n",
       "         ...,\n",
       "         [0.49 , 0.49 , 0.49 , ..., 0.49 , 0.49 , 0.49 ],\n",
       "         [0.495, 0.495, 0.495, ..., 0.495, 0.495, 0.495],\n",
       "         [0.5  , 0.5  , 0.5  , ..., 0.5  , 0.5  , 0.5  ]]]),\n",
       " array([[[0.   , 0.   , 0.   , ..., 0.   , 0.   , 0.   ],\n",
       "         [0.   , 0.   , 0.   , ..., 0.   , 0.   , 0.   ],\n",
       "         [0.   , 0.   , 0.   , ..., 0.   , 0.   , 0.   ],\n",
       "         ...,\n",
       "         [0.   , 0.   , 0.   , ..., 0.   , 0.   , 0.   ],\n",
       "         [0.   , 0.   , 0.   , ..., 0.   , 0.   , 0.   ],\n",
       "         [0.   , 0.   , 0.   , ..., 0.   , 0.   , 0.   ]],\n",
       " \n",
       "        [[0.005, 0.005, 0.005, ..., 0.005, 0.005, 0.005],\n",
       "         [0.005, 0.005, 0.005, ..., 0.005, 0.005, 0.005],\n",
       "         [0.005, 0.005, 0.005, ..., 0.005, 0.005, 0.005],\n",
       "         ...,\n",
       "         [0.005, 0.005, 0.005, ..., 0.005, 0.005, 0.005],\n",
       "         [0.005, 0.005, 0.005, ..., 0.005, 0.005, 0.005],\n",
       "         [0.005, 0.005, 0.005, ..., 0.005, 0.005, 0.005]],\n",
       " \n",
       "        [[0.01 , 0.01 , 0.01 , ..., 0.01 , 0.01 , 0.01 ],\n",
       "         [0.01 , 0.01 , 0.01 , ..., 0.01 , 0.01 , 0.01 ],\n",
       "         [0.01 , 0.01 , 0.01 , ..., 0.01 , 0.01 , 0.01 ],\n",
       "         ...,\n",
       "         [0.01 , 0.01 , 0.01 , ..., 0.01 , 0.01 , 0.01 ],\n",
       "         [0.01 , 0.01 , 0.01 , ..., 0.01 , 0.01 , 0.01 ],\n",
       "         [0.01 , 0.01 , 0.01 , ..., 0.01 , 0.01 , 0.01 ]],\n",
       " \n",
       "        ...,\n",
       " \n",
       "        [[0.49 , 0.49 , 0.49 , ..., 0.49 , 0.49 , 0.49 ],\n",
       "         [0.49 , 0.49 , 0.49 , ..., 0.49 , 0.49 , 0.49 ],\n",
       "         [0.49 , 0.49 , 0.49 , ..., 0.49 , 0.49 , 0.49 ],\n",
       "         ...,\n",
       "         [0.49 , 0.49 , 0.49 , ..., 0.49 , 0.49 , 0.49 ],\n",
       "         [0.49 , 0.49 , 0.49 , ..., 0.49 , 0.49 , 0.49 ],\n",
       "         [0.49 , 0.49 , 0.49 , ..., 0.49 , 0.49 , 0.49 ]],\n",
       " \n",
       "        [[0.495, 0.495, 0.495, ..., 0.495, 0.495, 0.495],\n",
       "         [0.495, 0.495, 0.495, ..., 0.495, 0.495, 0.495],\n",
       "         [0.495, 0.495, 0.495, ..., 0.495, 0.495, 0.495],\n",
       "         ...,\n",
       "         [0.495, 0.495, 0.495, ..., 0.495, 0.495, 0.495],\n",
       "         [0.495, 0.495, 0.495, ..., 0.495, 0.495, 0.495],\n",
       "         [0.495, 0.495, 0.495, ..., 0.495, 0.495, 0.495]],\n",
       " \n",
       "        [[0.5  , 0.5  , 0.5  , ..., 0.5  , 0.5  , 0.5  ],\n",
       "         [0.5  , 0.5  , 0.5  , ..., 0.5  , 0.5  , 0.5  ],\n",
       "         [0.5  , 0.5  , 0.5  , ..., 0.5  , 0.5  , 0.5  ],\n",
       "         ...,\n",
       "         [0.5  , 0.5  , 0.5  , ..., 0.5  , 0.5  , 0.5  ],\n",
       "         [0.5  , 0.5  , 0.5  , ..., 0.5  , 0.5  , 0.5  ],\n",
       "         [0.5  , 0.5  , 0.5  , ..., 0.5  , 0.5  , 0.5  ]]]),\n",
       " array([[[0.   , 0.005, 0.01 , ..., 0.49 , 0.495, 0.5  ],\n",
       "         [0.   , 0.005, 0.01 , ..., 0.49 , 0.495, 0.5  ],\n",
       "         [0.   , 0.005, 0.01 , ..., 0.49 , 0.495, 0.5  ],\n",
       "         ...,\n",
       "         [0.   , 0.005, 0.01 , ..., 0.49 , 0.495, 0.5  ],\n",
       "         [0.   , 0.005, 0.01 , ..., 0.49 , 0.495, 0.5  ],\n",
       "         [0.   , 0.005, 0.01 , ..., 0.49 , 0.495, 0.5  ]],\n",
       " \n",
       "        [[0.   , 0.005, 0.01 , ..., 0.49 , 0.495, 0.5  ],\n",
       "         [0.   , 0.005, 0.01 , ..., 0.49 , 0.495, 0.5  ],\n",
       "         [0.   , 0.005, 0.01 , ..., 0.49 , 0.495, 0.5  ],\n",
       "         ...,\n",
       "         [0.   , 0.005, 0.01 , ..., 0.49 , 0.495, 0.5  ],\n",
       "         [0.   , 0.005, 0.01 , ..., 0.49 , 0.495, 0.5  ],\n",
       "         [0.   , 0.005, 0.01 , ..., 0.49 , 0.495, 0.5  ]],\n",
       " \n",
       "        [[0.   , 0.005, 0.01 , ..., 0.49 , 0.495, 0.5  ],\n",
       "         [0.   , 0.005, 0.01 , ..., 0.49 , 0.495, 0.5  ],\n",
       "         [0.   , 0.005, 0.01 , ..., 0.49 , 0.495, 0.5  ],\n",
       "         ...,\n",
       "         [0.   , 0.005, 0.01 , ..., 0.49 , 0.495, 0.5  ],\n",
       "         [0.   , 0.005, 0.01 , ..., 0.49 , 0.495, 0.5  ],\n",
       "         [0.   , 0.005, 0.01 , ..., 0.49 , 0.495, 0.5  ]],\n",
       " \n",
       "        ...,\n",
       " \n",
       "        [[0.   , 0.005, 0.01 , ..., 0.49 , 0.495, 0.5  ],\n",
       "         [0.   , 0.005, 0.01 , ..., 0.49 , 0.495, 0.5  ],\n",
       "         [0.   , 0.005, 0.01 , ..., 0.49 , 0.495, 0.5  ],\n",
       "         ...,\n",
       "         [0.   , 0.005, 0.01 , ..., 0.49 , 0.495, 0.5  ],\n",
       "         [0.   , 0.005, 0.01 , ..., 0.49 , 0.495, 0.5  ],\n",
       "         [0.   , 0.005, 0.01 , ..., 0.49 , 0.495, 0.5  ]],\n",
       " \n",
       "        [[0.   , 0.005, 0.01 , ..., 0.49 , 0.495, 0.5  ],\n",
       "         [0.   , 0.005, 0.01 , ..., 0.49 , 0.495, 0.5  ],\n",
       "         [0.   , 0.005, 0.01 , ..., 0.49 , 0.495, 0.5  ],\n",
       "         ...,\n",
       "         [0.   , 0.005, 0.01 , ..., 0.49 , 0.495, 0.5  ],\n",
       "         [0.   , 0.005, 0.01 , ..., 0.49 , 0.495, 0.5  ],\n",
       "         [0.   , 0.005, 0.01 , ..., 0.49 , 0.495, 0.5  ]],\n",
       " \n",
       "        [[0.   , 0.005, 0.01 , ..., 0.49 , 0.495, 0.5  ],\n",
       "         [0.   , 0.005, 0.01 , ..., 0.49 , 0.495, 0.5  ],\n",
       "         [0.   , 0.005, 0.01 , ..., 0.49 , 0.495, 0.5  ],\n",
       "         ...,\n",
       "         [0.   , 0.005, 0.01 , ..., 0.49 , 0.495, 0.5  ],\n",
       "         [0.   , 0.005, 0.01 , ..., 0.49 , 0.495, 0.5  ],\n",
       "         [0.   , 0.005, 0.01 , ..., 0.49 , 0.495, 0.5  ]]])]"
      ]
     },
     "execution_count": 40,
     "metadata": {},
     "output_type": "execute_result"
    }
   ],
   "source": [
    "k_grid"
   ]
  },
  {
   "cell_type": "code",
   "execution_count": null,
   "metadata": {},
   "outputs": [],
   "source": []
  }
 ],
 "metadata": {
  "kernelspec": {
   "display_name": "Python 3",
   "language": "python",
   "name": "python3"
  },
  "language_info": {
   "codemirror_mode": {
    "name": "ipython",
    "version": 3
   },
   "file_extension": ".py",
   "mimetype": "text/x-python",
   "name": "python",
   "nbconvert_exporter": "python",
   "pygments_lexer": "ipython3",
   "version": "3.7.0"
  }
 },
 "nbformat": 4,
 "nbformat_minor": 2
}
