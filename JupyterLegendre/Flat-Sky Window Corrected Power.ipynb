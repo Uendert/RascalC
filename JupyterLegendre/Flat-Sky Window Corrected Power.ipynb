{
 "cells": [
  {
   "cell_type": "markdown",
   "metadata": {},
   "source": [
    "**Load in Phi model**"
   ]
  },
  {
   "cell_type": "code",
   "execution_count": 9,
   "metadata": {},
   "outputs": [
    {
     "name": "stdout",
     "output_type": "stream",
     "text": [
      "Populating the interactive namespace from numpy and matplotlib\n"
     ]
    }
   ],
   "source": [
    "%pylab inline \n",
    "phi_dat = np.load('/mnt/store1/oliverphilcox/PowerSpectra/Phi_Correction_Multipoles.npz')\n",
    "phi_coeff = phi_dat.f.multipole_coeff\n",
    "def phi_model(ell,r):\n",
    "    l_i = ell//2\n",
    "    co = phi_coeff[l_i]\n",
    "    return co[0]+co[1]*r+co[2]*r**2.+co[3]*r**3.+co[4]*r**4."
   ]
  },
  {
   "cell_type": "code",
   "execution_count": 11,
   "metadata": {},
   "outputs": [
    {
     "data": {
      "image/png": "[encoded data removed]",
      "text/plain": [
       "<Figure size 432x288 with 1 Axes>"
      ]
     },
     "metadata": {
      "needs_background": "light"
     },
     "output_type": "display_data"
    }
   ],
   "source": [
    "r_all = np.linspace(5,300)\n",
    "for ell in [0,2,4,6,8]:\n",
    "    plt.plot(r_all,phi_model(ell,r_all))"
   ]
  },
  {
   "cell_type": "markdown",
   "metadata": {},
   "source": [
    "**Compute Window Function**"
   ]
  },
  {
   "cell_type": "code",
   "execution_count": 117,
   "metadata": {},
   "outputs": [],
   "source": [
    "def windower(r,R_cut,R_max):\n",
    "    b = R_cut/R_max\n",
    "    a = (R_max-R_cut)/(2.*R_max)\n",
    "    x = r/R_max\n",
    "    if type(r)==float or type(r)==np.float64:\n",
    "        if x<b:\n",
    "            return 1.\n",
    "        elif x<b+a:\n",
    "            return 1.-1.25*((x-b)/a)**4.+0.75*((x-b)/a)**5.\n",
    "        elif x<1:\n",
    "            return 1.25*((x-b-2*a)/a)**4.+0.75*((x-b-2*a)/a)**5.\n",
    "        else:\n",
    "            return 0.\n",
    "    else:\n",
    "        output = np.zeros_like(r)\n",
    "        x = r/R_max\n",
    "        filt1 = np.where(x<b)\n",
    "        filt2 = np.where((x>b)&(x<b+a))\n",
    "        filt3 = np.where((x>b+a)&(x<1))\n",
    "        output[filt1] = 1.\n",
    "        output[filt2] = 1.-1.25*((x[filt2]-b)/a)**4.+0.75*((x[filt2]-b)/a)**5.\n",
    "        output[filt3] = 1.25*((x[filt3]-b-2*a)/a)**4.+0.75*((x[filt3]-b-2*a)/a)**5.\n",
    "        return output"
   ]
  },
  {
   "cell_type": "markdown",
   "metadata": {},
   "source": [
    "**Load Correlation Function Model**"
   ]
  },
  {
   "cell_type": "code",
   "execution_count": 118,
   "metadata": {},
   "outputs": [],
   "source": [
    "xi_file = '/mnt/store1/oliverphilcox/DR12_QPM/RascalXi.xi'\n",
    "xi_r = np.genfromtxt(xi_file,max_rows=1)\n",
    "xi_mu = np.genfromtxt(xi_file,max_rows=1,skip_header=1)\n",
    "xi_dat = np.loadtxt(xi_file,skiprows=2)\n",
    "radial_xi_dat = xi_dat.mean(axis=1)\n",
    "extra_r = np.arange(max(xi_r)+xi_r[1]-xi_r[0],1000,xi_r[1]-xi_r[0])\n",
    "xi_r_all=np.concatenate([[0],xi_r,extra_r])\n",
    "xi_model_all = np.concatenate([[0],radial_xi_dat,radial_xi_dat[-1]/extra_r**4.*xi_r[-1]**4.])"
   ]
  },
  {
   "cell_type": "code",
   "execution_count": 15,
   "metadata": {},
   "outputs": [],
   "source": [
    "xi_ell = np.zeros([len(xi_dat),3])\n",
    "from scipy.special import legendre\n",
    "for l_i,ell in enumerate([0,2,4]):\n",
    "    xi_ell[:,l_i] = (2.*ell+1.)*(xi_mu[1]-xi_mu[0])*np.sum(xi_dat*legendre(ell)(xi_mu),axis=1)"
   ]
  },
  {
   "cell_type": "code",
   "execution_count": 17,
   "metadata": {},
   "outputs": [],
   "source": [
    "class xi_spline():\n",
    "    def __init__(self,ell):\n",
    "        l_i=ell//2\n",
    "        extra_r = np.arange(max(xi_r)+xi_r[1]-xi_r[0],1000,xi_r[1]-xi_r[0])\n",
    "        xi_r_all=np.concatenate([[0],xi_r,extra_r])\n",
    "        self.xi_ell_all = np.concatenate([[0],xi_ell[:,l_i],xi_ell[-1,l_i]/extra_r**4.*xi_r[-1]**4.])\n",
    "        self.xi_fit = UnivariateSpline(xi_r_all,xi_r_all**2.*self.xi_ell_all,s=10)\n",
    "    def r2xi_spline(self,r):\n",
    "        if type(r)==float:\n",
    "            if r>max(xi_r_all):\n",
    "                return 0.\n",
    "            else:\n",
    "                return self.xi_fit(r)\n",
    "        else:\n",
    "            xi_out = np.zeros_like(r)\n",
    "            filt = np.where(r<max(xi_r_all))\n",
    "            xi_out[filt]=self.xi_fit(r[filt])\n",
    "            return xi_out"
   ]
  },
  {
   "cell_type": "code",
   "execution_count": 19,
   "metadata": {},
   "outputs": [],
   "source": [
    "spl0=xi_spline(0)\n",
    "spl2=xi_spline(2)\n",
    "spl4=xi_spline(4)\n",
    "\n",
    "def all_spl(ell):\n",
    "    if ell==0:\n",
    "        return spl0\n",
    "    elif ell==2:\n",
    "        return spl2\n",
    "    else:\n",
    "        return spl4"
   ]
  },
  {
   "cell_type": "code",
   "execution_count": 121,
   "metadata": {},
   "outputs": [],
   "source": [
    "from sympy.physics.wigner import wigner_3j\n",
    "from scipy.integrate import quad\n",
    "from scipy.special import spherical_jn\n",
    "def aniso_pow(k_all,ell,R0):\n",
    "    out=np.zeros_like(k_all)\n",
    "    for l1 in [0,2,4]:\n",
    "        for l2 in [0,2,4]:\n",
    "            wig = wigner_3j(ell,l1,l2,0,0,0)\n",
    "            if wig!=0:\n",
    "                k_int = lambda kk: quad(lambda r: spherical_jn(ell,kk*r)*all_spl(l1).r2xi_spline(r)*windower(r,R0/2,R0)*phi_model(l2,r),0,R0,epsrel=1e-4)\n",
    "                tmp_int = np.asarray([k_int(kk)[0] for kk in k_all])\n",
    "                out+=tmp_int*float(wig.n())\n",
    "    return out*4.*np.pi*(-1.)**(ell/2.)"
   ]
  },
  {
   "cell_type": "code",
   "execution_count": 126,
   "metadata": {},
   "outputs": [],
   "source": [
    "def true_pow(k_all,ell):\n",
    "    k_int = lambda kk: quad(lambda r: spherical_jn(ell,kk*r)*all_spl(ell).r2xi_spline(r),0,np.inf)\n",
    "    tmp_int = np.asarray([k_int(kk)[0] for kk in k_all])\n",
    "    return tmp_int*4.*np.pi*(-1.)**(ell/2.)"
   ]
  },
  {
   "cell_type": "code",
   "execution_count": 127,
   "metadata": {},
   "outputs": [
    {
     "name": "stderr",
     "output_type": "stream",
     "text": [
      "/home/oliverphilcox/anaconda3/lib/python3.7/site-packages/scipy/integrate/quadpack.py:385: IntegrationWarning: The maximum number of subdivisions (50) has been achieved.\n",
      "  If increasing the limit yields no improvement it is advised to analyze \n",
      "  the integrand in order to determine the difficulties.  If the position of a \n",
      "  local difficulty can be determined (singularity, discontinuity) one will \n",
      "  probably gain from splitting up the interval and calling the integrator \n",
      "  on the subranges.  Perhaps a special-purpose integrator should be used.\n",
      "  warnings.warn(msg, IntegrationWarning)\n"
     ]
    }
   ],
   "source": [
    "k_all = np.linspace(0.05,1.,20)\n",
    "pows=aniso_pow(k_all,0,200)\n",
    "true=true_pow(k_all,0)"
   ]
  },
  {
   "cell_type": "code",
   "execution_count": 128,
   "metadata": {},
   "outputs": [
    {
     "data": {
      "text/plain": [
       "[<matplotlib.lines.Line2D at 0x7fc49f87d9b0>]"
      ]
     },
     "execution_count": 128,
     "metadata": {},
     "output_type": "execute_result"
    },
    {
     "data": {
      "image/png": "[encoded data removed]",
      "text/plain": [
       "<Figure size 432x288 with 1 Axes>"
      ]
     },
     "metadata": {
      "needs_background": "light"
     },
     "output_type": "display_data"
    }
   ],
   "source": [
    "plt.plot(k_all,pows/true)"
   ]
  },
  {
   "cell_type": "code",
   "execution_count": null,
   "metadata": {},
   "outputs": [],
   "source": []
  },
  {
   "cell_type": "code",
   "execution_count": 104,
   "metadata": {},
   "outputs": [
    {
     "data": {
      "text/plain": [
       "array([980.520215687567, 62.8247936355778, 11.5369241507840], dtype=object)"
      ]
     },
     "execution_count": 104,
     "metadata": {},
     "output_type": "execute_result"
    }
   ],
   "source": [
    "np.zeros_like(np.asarray(k_all))+x"
   ]
  },
  {
   "cell_type": "code",
   "execution_count": null,
   "metadata": {},
   "outputs": [],
   "source": [
    "def true_power_aniso(k,ell):\n",
    "    li=ell//2\n",
    "    this_spl = all_spl(ell)\n",
    "    tmp_int=quad(lambda r: (-1.)**(ell/2.)*this_spl.r2xi_spline(r)*spherical_jn(ell,k*r)*4.*np.pi,0,np.inf,epsrel=1e-6,limit=200)\n",
    "    return tmp_int[0]"
   ]
  }
 ],
 "metadata": {
  "kernelspec": {
   "display_name": "Python 3",
   "language": "python",
   "name": "python3"
  },
  "language_info": {
   "codemirror_mode": {
    "name": "ipython",
    "version": 3
   },
   "file_extension": ".py",
   "mimetype": "text/x-python",
   "name": "python",
   "nbconvert_exporter": "python",
   "pygments_lexer": "ipython3",
   "version": "3.7.0"
  }
 },
 "nbformat": 4,
 "nbformat_minor": 2
}
