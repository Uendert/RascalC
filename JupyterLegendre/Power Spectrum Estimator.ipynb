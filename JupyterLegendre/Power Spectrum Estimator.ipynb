{
 "cells": [
  {
   "cell_type": "code",
   "execution_count": 1,
   "metadata": {},
   "outputs": [
    {
     "name": "stdout",
     "output_type": "stream",
     "text": [
      "Populating the interactive namespace from numpy and matplotlib\n"
     ]
    }
   ],
   "source": [
    "%pylab inline"
   ]
  },
  {
   "cell_type": "markdown",
   "metadata": {},
   "source": [
    "**Modules**"
   ]
  },
  {
   "cell_type": "code",
   "execution_count": 58,
   "metadata": {},
   "outputs": [],
   "source": [
    "import numpy as np\n",
    "from scipy.special import spherical_jn"
   ]
  },
  {
   "cell_type": "markdown",
   "metadata": {},
   "source": [
    "#### Parameters"
   ]
  },
  {
   "cell_type": "code",
   "execution_count": 65,
   "metadata": {},
   "outputs": [],
   "source": [
    "gal_name = '/mnt/store1/oliverphilcox/Legendre2PCF/qpm_galaxy_1.xyzwj'\n",
    "R0=200 # max radius in Mpc/h\n",
    "Rcut=100 # transition radius for window function\n",
    "k_cen = np.arange(0.1,1.1,0.1)"
   ]
  },
  {
   "cell_type": "markdown",
   "metadata": {},
   "source": [
    "**Code**"
   ]
  },
  {
   "cell_type": "code",
   "execution_count": 37,
   "metadata": {},
   "outputs": [],
   "source": [
    "gal_file=np.loadtxt(gal_name)"
   ]
  },
  {
   "cell_type": "code",
   "execution_count": 90,
   "metadata": {},
   "outputs": [],
   "source": [
    "gal_x=gal_file[:,0]\n",
    "gal_y=gal_file[:,1]\n",
    "gal_z=gal_file[:,2]\n",
    "gal_w=gal_file[:,3]\n",
    "N_gal=len(gal_x)\n",
    "R02=np.power(R0,2.)\n",
    "k_vec = np.reshape(k_cen,(1,-1))\n",
    "b=Rcut/R0\n",
    "a=(R0-Rcut)/(2.*R0)\n",
    "pair_counts = np.zeros(len(k_cen))"
   ]
  },
  {
   "cell_type": "code",
   "execution_count": 69,
   "metadata": {},
   "outputs": [],
   "source": [
    "## Define window function\n",
    "def windower(r):\n",
    "    x = r/R0\n",
    "    output = np.zeros_like(r)\n",
    "    filt1 = np.where(x<b)\n",
    "    filt2 = np.where((x>b)&(x<b+a))\n",
    "    filt3 = np.where((x>b+a)&(x<1))\n",
    "    output[filt1] = 1.\n",
    "    output[filt2] = 1.-((x[filt2]-b)/a)**3.+0.5*((x[filt2]-b)/a)**4.\n",
    "    output[filt3] = -((x[filt3]-b-2*a)/a)**3.-0.5*((x[filt3]-b-2*a)/a)**4.\n",
    "    return output"
   ]
  },
  {
   "cell_type": "code",
   "execution_count": 94,
   "metadata": {},
   "outputs": [],
   "source": [
    "def run_1000(args):\n",
    "    start,stop=args\n",
    "    pair_counts=np.zeros(len(k_cen))\n",
    "    for i in range(start,stop):\n",
    "        this_x=gal_x[i]\n",
    "        this_y=gal_y[i]\n",
    "        this_z=gal_z[i]\n",
    "        this_w=gal_w[i]\n",
    "        filt1=np.where((np.abs(gal_x-this_x)<R0)&(np.abs(gal_y-this_y)<R0)&(np.abs(gal_z-this_z)<R0))\n",
    "        rel_dis2 = np.power(gal_x[filt1]-this_x,2.)+np.power(gal_y[filt1]-this_y,2.)+np.power(gal_z[filt1]-this_z,2.)\n",
    "        filt2=np.where(rel_dis2<R02)\n",
    "        # Select good galaxies\n",
    "        good_x=gal_x[filt1][filt2]\n",
    "        good_y=gal_y[filt1][filt2]\n",
    "        good_z=gal_z[filt1][filt2]\n",
    "        rel_dis = np.sqrt(rel_dis2[filt2])\n",
    "        k_dis = np.matmul(np.reshape(rel_dis,(-1,1)),k_vec)\n",
    "        weight_prod = np.reshape(gal_w[filt1][filt2]*windower(rel_dis),(-1,1))\n",
    "        conts = np.multiply(spherical_jn(0,k_dis),weight_prod)\n",
    "        pair_counts+=np.sum(conts,axis=0)\n",
    "    return pair_counts"
   ]
  },
  {
   "cell_type": "code",
   "execution_count": 96,
   "metadata": {},
   "outputs": [],
   "source": [
    "import multiprocessing as mp\n",
    "p=mp.Pool()\n",
    "import tqdm"
   ]
  },
  {
   "cell_type": "code",
   "execution_count": 101,
   "metadata": {},
   "outputs": [],
   "source": [
    "thousand_list=[]\n",
    "for i in range(N_gal):\n",
    "    if i%1000==0:\n",
    "        thousand_list.append([i,min(i+1000,N_gal)])"
   ]
  },
  {
   "cell_type": "code",
   "execution_count": null,
   "metadata": {},
   "outputs": [],
   "source": [
    "list=tqdm.tqdm(p.imap_unordered(run_1000,thousand_list),total=l)"
   ]
  }
 ],
 "metadata": {
  "kernelspec": {
   "display_name": "Python 3",
   "language": "python",
   "name": "python3"
  },
  "language_info": {
   "codemirror_mode": {
    "name": "ipython",
    "version": 3
   },
   "file_extension": ".py",
   "mimetype": "text/x-python",
   "name": "python",
   "nbconvert_exporter": "python",
   "pygments_lexer": "ipython3",
   "version": "3.7.0"
  }
 },
 "nbformat": 4,
 "nbformat_minor": 2
}
