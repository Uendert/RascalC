{
 "cells": [
  {
   "cell_type": "code",
   "execution_count": 500,
   "metadata": {},
   "outputs": [
    {
     "name": "stdout",
     "output_type": "stream",
     "text": [
      "Populating the interactive namespace from numpy and matplotlib\n"
     ]
    },
    {
     "name": "stderr",
     "output_type": "stream",
     "text": [
      "/home/oliverphilcox/anaconda3/lib/python3.7/site-packages/IPython/core/magics/pylab.py:160: UserWarning: pylab import has clobbered these variables: ['mat']\n",
      "`%matplotlib` prevents importing * from pylab and numpy\n",
      "  \"\\n`%matplotlib` prevents importing * from pylab and numpy\"\n"
     ]
    }
   ],
   "source": [
    "%pylab inline\n",
    "indir = '/mnt/store1/oliverphilcox/3PCF/'\n",
    "n=10\n",
    "m=3"
   ]
  },
  {
   "cell_type": "markdown",
   "metadata": {},
   "source": [
    "#### Load first integral part"
   ]
  },
  {
   "cell_type": "code",
   "execution_count": 501,
   "metadata": {},
   "outputs": [],
   "source": [
    "def symmetrize(mat):\n",
    "    \"\"\" Add in symmetries to matrices \"\"\"\n",
    "    out_mat = np.zeros_like(mat)\n",
    "    for i in range(len(mat)//m):\n",
    "        a = i//n\n",
    "        b = i%n\n",
    "        for j in range(len(mat)//m):\n",
    "            c = j//n\n",
    "            d = j%n\n",
    "            # Add to all relevant bins\n",
    "            these_mat = mat[i*m:(i+1)*m,j*m:(j+1)*m]*0.25\n",
    "            out_mat[(a*n+b)*m:(a*n+b)*m+m,(c*n+d)*m:(c*n+d)*m+m]+=these_mat\n",
    "            out_mat[(b*n+a)*m:(b*n+a)*m+m,(c*n+d)*m:(c*n+d)*m+m]+=these_mat\n",
    "            out_mat[(b*n+a)*m:(b*n+a)*m+m,(d*n+c)*m:(d*n+c)*m+m]+=these_mat\n",
    "            out_mat[(a*n+b)*m:(a*n+b)*m+m,(d*n+c)*m:(d*n+c)*m+m]+=these_mat\n",
    "    return 0.5*(out_mat+out_mat.T)"
   ]
  },
  {
   "cell_type": "code",
   "execution_count": 502,
   "metadata": {},
   "outputs": [],
   "source": [
    "bins_r = np.loadtxt('/mnt/store1/oliverphilcox/3PCF/3pcf_binfile_cov.csv')"
   ]
  },
  {
   "cell_type": "code",
   "execution_count": 503,
   "metadata": {},
   "outputs": [],
   "source": [
    "c3=np.loadtxt(indir+'c3_n10_l4_0_full.txt')\n",
    "c4=np.loadtxt(indir+'c4_n10_l4_0_full.txt')\n",
    "c5=np.loadtxt(indir+'c5_n10_l4_0_full.txt')\n",
    "c6=np.loadtxt(indir+'c6_n10_l4_0_full.txt')"
   ]
  },
  {
   "cell_type": "code",
   "execution_count": 504,
   "metadata": {},
   "outputs": [],
   "source": [
    "tot_mat = symmetrize(c3+c4+c5+c6)"
   ]
  },
  {
   "cell_type": "code",
   "execution_count": 505,
   "metadata": {},
   "outputs": [],
   "source": [
    "b3=np.loadtxt(indir+'binct_c3_n10_l4_0_full.txt')\n",
    "b4=np.loadtxt(indir+'binct_c4_n10_l4_0_full.txt')\n",
    "b5=np.loadtxt(indir+'binct_c5_n10_l4_0_full.txt')\n",
    "b6=np.loadtxt(indir+'binct_c6_n10_l4_0_full.txt')"
   ]
  },
  {
   "cell_type": "code",
   "execution_count": 506,
   "metadata": {},
   "outputs": [
    {
     "data": {
      "image/png": "[encoded data removed]",
      "text/plain": [
       "<Figure size 288x288 with 2 Axes>"
      ]
     },
     "metadata": {
      "needs_background": "light"
     },
     "output_type": "display_data"
    }
   ],
   "source": [
    "mat=rebinner(symmetrize(b4))#symmetrize(b6))\n",
    "vmax=np.percentile(mat,99.)\n",
    "plt.matshow(mat,vmax=vmax,vmin=-vmax,cmap=cm.RdBu_r);plt.colorbar();\n",
    "#plt.ylim([100,0]);plt.xlim([0,100])"
   ]
  },
  {
   "cell_type": "code",
   "execution_count": 507,
   "metadata": {},
   "outputs": [
    {
     "data": {
      "text/plain": [
       "(-100, 1000000)"
      ]
     },
     "execution_count": 507,
     "metadata": {},
     "output_type": "execute_result"
    },
    {
     "data": {
      "image/png": "[encoded data removed]",
      "text/plain": [
       "<Figure size 432x288 with 1 Axes>"
      ]
     },
     "metadata": {
      "needs_background": "light"
     },
     "output_type": "display_data"
    }
   ],
   "source": [
    "plt.plot(np.diag(mat))\n",
    "plt.ylim([-100,1000000])"
   ]
  },
  {
   "cell_type": "code",
   "execution_count": null,
   "metadata": {},
   "outputs": [],
   "source": []
  },
  {
   "cell_type": "code",
   "execution_count": 463,
   "metadata": {},
   "outputs": [],
   "source": [
    "def collapse_axes(mat,c_bin,d_bin):\n",
    "    new_mat = np.zeros([m,m,n,n])\n",
    "    for i in range(len(mat)):\n",
    "        p_bin = i%m\n",
    "        a_bin = (i//m)//n\n",
    "        b_bin = (i//m)%n\n",
    "        for q_bin in range(m):\n",
    "            new_mat[p_bin,q_bin,a_bin,b_bin] = mat[i,c_bin*n+d_bin*m+q_bin]\n",
    "    return new_mat"
   ]
  },
  {
   "cell_type": "code",
   "execution_count": 464,
   "metadata": {},
   "outputs": [],
   "source": [
    "def rebinner(mat):\n",
    "    out_mat = np.zeros_like(mat)\n",
    "    for i in range(m):\n",
    "        for j in range(m):\n",
    "            out_mat[i*n*n:(i+1)*n*n,j*n*n:(j+1)*n*n]=mat[i::m,j::m]\n",
    "    return out_mat"
   ]
  },
  {
   "cell_type": "code",
   "execution_count": 467,
   "metadata": {},
   "outputs": [
    {
     "name": "stderr",
     "output_type": "stream",
     "text": [
      "/home/oliverphilcox/anaconda3/lib/python3.7/site-packages/numpy/lib/function_base.py:3652: RuntimeWarning: Invalid value encountered in percentile\n",
      "  interpolation=interpolation)\n"
     ]
    },
    {
     "data": {
      "text/plain": [
       "(0, 100)"
      ]
     },
     "execution_count": 467,
     "metadata": {},
     "output_type": "execute_result"
    },
    {
     "data": {
      "image/png": "[encoded data removed]",
      "text/plain": [
       "<Figure size 288x288 with 2 Axes>"
      ]
     },
     "metadata": {
      "needs_background": "light"
     },
     "output_type": "display_data"
    }
   ],
   "source": [
    "mat=rebinner(tot_mat)#symmetrize(b6))\n",
    "vmax=np.percentile(mat,40.)\n",
    "plt.matshow(mat,vmax=vmax,vmin=-vmax,cmap=cm.RdBu_r);plt.colorbar();\n",
    "plt.ylim([100,0]);plt.xlim([0,100])"
   ]
  },
  {
   "cell_type": "code",
   "execution_count": 428,
   "metadata": {},
   "outputs": [],
   "source": [
    "def variance(mat):\n",
    "    out_mat = np.zeros([m,n,n])\n",
    "    for p in range(m):\n",
    "        for i in range(n):\n",
    "            for j in range(n):\n",
    "                out_mat[p,i,j]=mat[(i*n+j)*m+p,(i*n+j)*m+p]\n",
    "    return out_mat"
   ]
  },
  {
   "cell_type": "code",
   "execution_count": 466,
   "metadata": {},
   "outputs": [
    {
     "name": "stderr",
     "output_type": "stream",
     "text": [
      "/home/oliverphilcox/anaconda3/lib/python3.7/site-packages/numpy/lib/function_base.py:3652: RuntimeWarning: Invalid value encountered in percentile\n",
      "  interpolation=interpolation)\n"
     ]
    },
    {
     "data": {
      "image/png": "[encoded data removed]",
      "text/plain": [
       "<Figure size 288x288 with 2 Axes>"
      ]
     },
     "metadata": {
      "needs_background": "light"
     },
     "output_type": "display_data"
    },
    {
     "data": {
      "image/png": "[encoded data removed]",
      "text/plain": [
       "<Figure size 288x288 with 2 Axes>"
      ]
     },
     "metadata": {
      "needs_background": "light"
     },
     "output_type": "display_data"
    },
    {
     "data": {
      "image/png": "[encoded data removed]",
      "text/plain": [
       "<Figure size 288x288 with 2 Axes>"
      ]
     },
     "metadata": {
      "needs_background": "light"
     },
     "output_type": "display_data"
    }
   ],
   "source": [
    "collapsed_mat = collapse_axes(tot_mat,5,7)\n",
    "for i in range(3):\n",
    "    vmax=np.percentile(collapsed_mat[i,i],99.9)\n",
    "    plt.matshow(collapsed_mat[i,i],vmax=vmax,vmin=-vmax,cmap=cm.RdBu_r);\n",
    "    plt.title(r'$C_{%d%d}$'%(2*i,2*i))\n",
    "    plt.colorbar();"
   ]
  },
  {
   "cell_type": "code",
   "execution_count": null,
   "metadata": {},
   "outputs": [],
   "source": []
  }
 ],
 "metadata": {
  "kernelspec": {
   "display_name": "Python 3",
   "language": "python",
   "name": "python3"
  },
  "language_info": {
   "codemirror_mode": {
    "name": "ipython",
    "version": 3
   },
   "file_extension": ".py",
   "mimetype": "text/x-python",
   "name": "python",
   "nbconvert_exporter": "python",
   "pygments_lexer": "ipython3",
   "version": "3.7.0"
  }
 },
 "nbformat": 4,
 "nbformat_minor": 2
}
