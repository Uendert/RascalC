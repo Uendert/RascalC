{
 "cells": [
  {
   "cell_type": "code",
   "execution_count": 27,
   "metadata": {},
   "outputs": [
    {
     "name": "stdout",
     "output_type": "stream",
     "text": [
      "Populating the interactive namespace from numpy and matplotlib\n"
     ]
    },
    {
     "name": "stderr",
     "output_type": "stream",
     "text": [
      "/home/oliverphilcox/anaconda3/lib/python3.7/site-packages/IPython/core/magics/pylab.py:160: UserWarning: pylab import has clobbered these variables: ['f']\n",
      "`%matplotlib` prevents importing * from pylab and numpy\n",
      "  \"\\n`%matplotlib` prevents importing * from pylab and numpy\"\n"
     ]
    }
   ],
   "source": [
    "%pylab inline\n",
    "import re\n",
    "n=18\n",
    "max_l=10\n",
    "in_root = '/mnt/store1/oliverphilcox/3PCF_QPM/full_run.v02/qpm.0014'"
   ]
  },
  {
   "cell_type": "code",
   "execution_count": 192,
   "metadata": {},
   "outputs": [],
   "source": [
    "def reader(in_str):\n",
    "    file_name = in_root+'.'+in_str+'.out'\n",
    "\n",
    "    dat = np.zeros([n,n,max_l+1])\n",
    "\n",
    "    with open(file_name) as f:\n",
    "        start=False\n",
    "        for line in f:\n",
    "            if not start:\n",
    "                if re.match(\"# Multipole\",line):\n",
    "                    start=True\n",
    "                continue\n",
    "            if re.match(\"Multipole\",line):\n",
    "                continue\n",
    "            if len(line.split())==0:\n",
    "                start=False\n",
    "                continue\n",
    "            if re.match('# Saving',line):\n",
    "                start=False\n",
    "                continue\n",
    "            x=line.split()\n",
    "            b1=int(x[0])\n",
    "            b2=int(x[1])\n",
    "            dat[b1,b2,0]=float(x[2])/2.\n",
    "            if b1!=b2:\n",
    "                dat[b2,b1,0]=float(x[2])/2.\n",
    "            for ell in range(1,max_l+1):\n",
    "                dat[b1,b2,ell]=float(x[ell+2])*float(x[2])*(2.*ell+1.)/2.\n",
    "                if b1!=b2:\n",
    "                    dat[b2,b1,ell]=float(x[ell+2])*float(x[2])*(2.*ell+1.)/2.\n",
    "    return dat;"
   ]
  },
  {
   "cell_type": "code",
   "execution_count": 195,
   "metadata": {},
   "outputs": [],
   "source": [
    "RRR = reader('rrr')\n",
    "all_NNN = []\n",
    "for i in range(33):\n",
    "    tmp=reader('r%s'%(str(i).zfill(2)))\n",
    "    all_NNN.append(tmp)\n",
    "#    if np.isfinite(tmp.sum()):\n",
    "#        if(tmp.sum()!=0.):\n",
    "#            all_NNN.append(tmp)\n",
    "DDD = reader('ddd')\n",
    "NNN = np.mean(all_NNN,axis=0)\n",
    "\n",
    "zeta_uncorr = NNN/(RRR[:,:,0].reshape(n,n,1))"
   ]
  },
  {
   "cell_type": "markdown",
   "metadata": {},
   "source": [
    "## Load output values"
   ]
  },
  {
   "cell_type": "code",
   "execution_count": 196,
   "metadata": {},
   "outputs": [
    {
     "data": {
      "text/plain": [
       "array([11355.58      ,  5499.8912126 , 49177.33209429, 34208.9118616 ,\n",
       "       28675.29684751, 19493.13284387, 14801.7577917 , 12172.54016973,\n",
       "        9691.90985783,  5540.8691857 ,  5806.87376076])"
      ]
     },
     "execution_count": 196,
     "metadata": {},
     "output_type": "execute_result"
    }
   ],
   "source": [
    "all_NNN[0][4,2]"
   ]
  },
  {
   "cell_type": "code",
   "execution_count": null,
   "metadata": {},
   "outputs": [],
   "source": []
  },
  {
   "cell_type": "code",
   "execution_count": null,
   "metadata": {},
   "outputs": [],
   "source": []
  },
  {
   "cell_type": "code",
   "execution_count": 201,
   "metadata": {},
   "outputs": [],
   "source": [
    "d=np.load('/mnt/store1/oliverphilcox/3PCF_QPM/full_run.v02/tmp_3pcf_output_0014.npz')\n",
    "zeta_npz=d.f.powerD\n",
    "zeta_npz[:,:,1:]*=zeta_npz[:,:,0].reshape(n,n,1)"
   ]
  },
  {
   "cell_type": "code",
   "execution_count": 202,
   "metadata": {},
   "outputs": [
    {
     "data": {
      "text/plain": [
       "(18, 18, 11)"
      ]
     },
     "execution_count": 202,
     "metadata": {},
     "output_type": "execute_result"
    }
   ],
   "source": [
    "zeta_npz.shape"
   ]
  },
  {
   "cell_type": "code",
   "execution_count": 203,
   "metadata": {},
   "outputs": [
    {
     "data": {
      "image/png": "[encoded data removed]",
      "text/plain": [
       "<Figure size 288x288 with 2 Axes>"
      ]
     },
     "metadata": {
      "needs_background": "light"
     },
     "output_type": "display_data"
    }
   ],
   "source": [
    "plt.matshow(zeta_uncorr[:,:,1]);plt.colorbar();"
   ]
  },
  {
   "cell_type": "code",
   "execution_count": 204,
   "metadata": {},
   "outputs": [
    {
     "data": {
      "image/png": "[encoded data removed]",
      "text/plain": [
       "<Figure size 288x288 with 2 Axes>"
      ]
     },
     "metadata": {
      "needs_background": "light"
     },
     "output_type": "display_data"
    }
   ],
   "source": [
    "plt.matshow(zeta_npz[:,:,1]);plt.colorbar();"
   ]
  },
  {
   "cell_type": "code",
   "execution_count": null,
   "metadata": {},
   "outputs": [],
   "source": []
  }
 ],
 "metadata": {
  "kernelspec": {
   "display_name": "Python 3",
   "language": "python",
   "name": "python3"
  },
  "language_info": {
   "codemirror_mode": {
    "name": "ipython",
    "version": 3
   },
   "file_extension": ".py",
   "mimetype": "text/x-python",
   "name": "python",
   "nbconvert_exporter": "python",
   "pygments_lexer": "ipython3",
   "version": "3.7.0"
  }
 },
 "nbformat": 4,
 "nbformat_minor": 2
}
