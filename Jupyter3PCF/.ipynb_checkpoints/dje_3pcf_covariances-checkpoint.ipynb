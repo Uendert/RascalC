{
 "cells": [
  {
   "cell_type": "code",
   "execution_count": 4,
   "metadata": {},
   "outputs": [
    {
     "name": "stdout",
     "output_type": "stream",
     "text": [
      "Populating the interactive namespace from numpy and matplotlib\n"
     ]
    }
   ],
   "source": [
    "%pylab inline\n",
    "import os"
   ]
  },
  {
   "cell_type": "code",
   "execution_count": 36,
   "metadata": {},
   "outputs": [],
   "source": [
    "file_root = '/mnt/store1/oliverphilcox/3PCF_QPM/full_run.v01/'"
   ]
  },
  {
   "cell_type": "code",
   "execution_count": 37,
   "metadata": {},
   "outputs": [],
   "source": [
    "good_mocks=[]\n",
    "all_zeta = []\n",
    "all_xi = []\n",
    "for i in range(1,300):\n",
    "    in_dat = file_root+'3pcf_output_%s.npz'%str(i).zfill(4)\n",
    "    if os.path.exists(in_dat):\n",
    "        this_zeta = np.load(in_dat)['zeta']\n",
    "        if not np.isnan(np.sum(this_zeta)):\n",
    "            good_mocks.append(i)\n",
    "            \n",
    "            # normalize correctly\n",
    "            for b1 in range(len(this_zeta)):\n",
    "                for b2 in range(b1):\n",
    "                    this_zeta[b1,b2,1:]*=this_zeta[b1,b2,0]\n",
    "\n",
    "            all_zeta.append(this_zeta)\n",
    "            all_xi.append(dat.f.xi)"
   ]
  },
  {
   "cell_type": "code",
   "execution_count": 38,
   "metadata": {},
   "outputs": [],
   "source": [
    "r_bins = np.linspace(5,175,dat.f.bins)\n",
    "ells = np.arange(dat.f.order+1)"
   ]
  },
  {
   "cell_type": "code",
   "execution_count": 39,
   "metadata": {},
   "outputs": [
    {
     "data": {
      "text/plain": [
       "array([ 0,  1,  2,  3,  4,  5,  6,  7,  8,  9, 10])"
      ]
     },
     "execution_count": 39,
     "metadata": {},
     "output_type": "execute_result"
    }
   ],
   "source": [
    "ells"
   ]
  },
  {
   "cell_type": "code",
   "execution_count": null,
   "metadata": {},
   "outputs": [],
   "source": [
    "\n",
    "zeta=dat.f.zeta ## 3pcf estimate\n",
    "powerD = dat.f.powerD ## N_l/R_0\n",
    "powerDsig = dat.f.powerDsig ## N_l/R_0 stdev\n",
    "for b1 in range(len(zeta)):\n",
    "    for b2 in range(b1):\n",
    "        zeta[b1,b2,1:]*=zeta[b1,b2,0]\n",
    "        #zeta[b1,b2,:]=zeta[b2,b1,:]\n",
    "        powerD[b1,b2,1:]*=powerD[b1,b2,0]\n",
    "        #powerD[b1,b2,:]=powerD[b2,b1,:]\n",
    "        powerDsig[b1,b2,:]*=powerD[b1,b2,0]\n",
    "        #powerDsig[b1,b2,:]=powerDsig[b2,b1,:]\n",
    "        \n",
    "xi = dat.f.xi # 2pcf\n",
    "xisig = dat.f.xisig # 2pcf stdev"
   ]
  }
 ],
 "metadata": {
  "kernelspec": {
   "display_name": "Python 3",
   "language": "python",
   "name": "python3"
  },
  "language_info": {
   "codemirror_mode": {
    "name": "ipython",
    "version": 3
   },
   "file_extension": ".py",
   "mimetype": "text/x-python",
   "name": "python",
   "nbconvert_exporter": "python",
   "pygments_lexer": "ipython3",
   "version": "3.7.0"
  }
 },
 "nbformat": 4,
 "nbformat_minor": 2
}
