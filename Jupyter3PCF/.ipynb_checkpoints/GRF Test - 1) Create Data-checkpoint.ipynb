{
 "cells": [
  {
   "cell_type": "code",
   "execution_count": 186,
   "metadata": {},
   "outputs": [
    {
     "name": "stdout",
     "output_type": "stream",
     "text": [
      "Populating the interactive namespace from numpy and matplotlib\n"
     ]
    },
    {
     "name": "stderr",
     "output_type": "stream",
     "text": [
      "/home/oliverphilcox/anaconda3/lib/python3.7/site-packages/IPython/core/magics/pylab.py:160: UserWarning: pylab import has clobbered these variables: ['style']\n",
      "`%matplotlib` prevents importing * from pylab and numpy\n",
      "  \"\\n`%matplotlib` prevents importing * from pylab and numpy\"\n"
     ]
    }
   ],
   "source": [
    "%pylab inline"
   ]
  },
  {
   "cell_type": "markdown",
   "metadata": {},
   "source": [
    "### Try with nbodykit"
   ]
  },
  {
   "cell_type": "code",
   "execution_count": 288,
   "metadata": {},
   "outputs": [],
   "source": [
    "from nbodykit.lab import *\n",
    "from nbodykit import style,setup_logging"
   ]
  },
  {
   "cell_type": "code",
   "execution_count": 289,
   "metadata": {},
   "outputs": [],
   "source": [
    "qpm_cosmo = cosmology.Cosmology(h=0.7,Omega0_b=0.0458,Omega0_cdm=0.29-0.0458,n_s=0.97,sigma8=0.7,nonlinear=False)\n",
    "Plin = cosmology.LinearPower(qpm_cosmo,0.55,transfer='CLASS')"
   ]
  },
  {
   "cell_type": "code",
   "execution_count": 290,
   "metadata": {},
   "outputs": [],
   "source": [
    "two_pcf = cosmology.CorrelationFunction(Plin)"
   ]
  },
  {
   "cell_type": "code",
   "execution_count": 295,
   "metadata": {},
   "outputs": [
    {
     "data": {
      "text/plain": [
       "[<matplotlib.lines.Line2D at 0x7f05299252b0>]"
      ]
     },
     "execution_count": 295,
     "metadata": {},
     "output_type": "execute_result"
    },
    {
     "data": {
      "image/png": "[encoded data removed]",
      "text/plain": [
       "<Figure size 432x288 with 1 Axes>"
      ]
     },
     "metadata": {
      "needs_background": "light"
     },
     "output_type": "display_data"
    }
   ],
   "source": [
    "plt.plot(r_all,two_pcf(r_all)*r_all**2)"
   ]
  },
  {
   "cell_type": "code",
   "execution_count": 294,
   "metadata": {},
   "outputs": [
    {
     "data": {
      "image/png": "[encoded data removed]",
      "text/plain": [
       "<Figure size 432x288 with 1 Axes>"
      ]
     },
     "metadata": {
      "needs_background": "light"
     },
     "output_type": "display_data"
    }
   ],
   "source": [
    "plt.plot(np.arange(0.001,1,.001),Plin(np.arange(0.001,1,.001)))\n",
    "plt.yscale('log')\n",
    "plt.xscale('log')"
   ]
  },
  {
   "cell_type": "markdown",
   "metadata": {},
   "source": [
    "### Save 2PCFs to file"
   ]
  },
  {
   "cell_type": "code",
   "execution_count": 296,
   "metadata": {},
   "outputs": [],
   "source": [
    "r_all = np.linspace(0.001,400,200)\n",
    "mu_all = np.arange(0.,1.05,0.05)\n",
    "xi_all = two_pcf(r_all)"
   ]
  },
  {
   "cell_type": "code",
   "execution_count": 297,
   "metadata": {},
   "outputs": [],
   "source": [
    "with open('/mnt/store1/oliverphilcox/GRFs/lin_xi.xi',\"w\") as out:\n",
    "    for r in r_all:\n",
    "        out.write(\"%.8e \"%r)\n",
    "    out.write(\"\\n\")\n",
    "    for mu in mu_all:\n",
    "        out.write(\"%.8e \"%mu)\n",
    "    out.write(\"\\n\")\n",
    "    for i in range(len(r_all)):\n",
    "        for j in range(len(mu_all)):\n",
    "            out.write(\"%.8e \"%xi_all[i])\n",
    "        out.write(\"\\n\")"
   ]
  },
  {
   "cell_type": "markdown",
   "metadata": {},
   "source": [
    "### Generate GRFs"
   ]
  },
  {
   "cell_type": "code",
   "execution_count": 306,
   "metadata": {
    "scrolled": true
   },
   "outputs": [
    {
     "name": "stdout",
     "output_type": "stream",
     "text": [
      "Computing catalog 1 of 300\n",
      "Computing catalog 2 of 300\n",
      "Computing catalog 3 of 300\n",
      "Computing catalog 4 of 300\n",
      "Computing catalog 5 of 300\n",
      "Computing catalog 6 of 300\n",
      "Computing catalog 7 of 300\n",
      "Computing catalog 8 of 300\n",
      "Computing catalog 9 of 300\n",
      "Computing catalog 10 of 300\n",
      "Computing catalog 11 of 300\n",
      "Computing catalog 12 of 300\n",
      "Computing catalog 13 of 300\n",
      "Computing catalog 14 of 300\n",
      "Computing catalog 15 of 300\n",
      "Computing catalog 16 of 300\n",
      "Computing catalog 17 of 300\n",
      "Computing catalog 18 of 300\n",
      "Computing catalog 19 of 300\n",
      "Computing catalog 20 of 300\n",
      "Computing catalog 21 of 300\n",
      "Computing catalog 22 of 300\n",
      "Computing catalog 23 of 300\n",
      "Computing catalog 24 of 300\n",
      "Computing catalog 25 of 300\n",
      "Computing catalog 26 of 300\n",
      "Computing catalog 27 of 300\n",
      "Computing catalog 28 of 300\n",
      "Computing catalog 29 of 300\n",
      "Computing catalog 30 of 300\n",
      "Computing catalog 31 of 300\n",
      "Computing catalog 32 of 300\n",
      "Computing catalog 33 of 300\n",
      "Computing catalog 34 of 300\n",
      "Computing catalog 35 of 300\n",
      "Computing catalog 36 of 300\n",
      "Computing catalog 37 of 300\n",
      "Computing catalog 38 of 300\n",
      "Computing catalog 39 of 300\n",
      "Computing catalog 40 of 300\n",
      "Computing catalog 41 of 300\n",
      "Computing catalog 42 of 300\n",
      "Computing catalog 43 of 300\n",
      "Computing catalog 44 of 300\n",
      "Computing catalog 45 of 300\n",
      "Computing catalog 46 of 300\n",
      "Computing catalog 47 of 300\n",
      "Computing catalog 48 of 300\n",
      "Computing catalog 49 of 300\n",
      "Computing catalog 50 of 300\n",
      "Computing catalog 51 of 300\n",
      "Computing catalog 52 of 300\n",
      "Computing catalog 53 of 300\n",
      "Computing catalog 54 of 300\n",
      "Computing catalog 55 of 300\n",
      "Computing catalog 56 of 300\n",
      "Computing catalog 57 of 300\n",
      "Computing catalog 58 of 300\n",
      "Computing catalog 59 of 300\n",
      "Computing catalog 60 of 300\n",
      "Computing catalog 61 of 300\n",
      "Computing catalog 62 of 300\n",
      "Computing catalog 63 of 300\n",
      "Computing catalog 64 of 300\n",
      "Computing catalog 65 of 300\n",
      "Computing catalog 66 of 300\n",
      "Computing catalog 67 of 300\n",
      "Computing catalog 68 of 300\n",
      "Computing catalog 69 of 300\n",
      "Computing catalog 70 of 300\n",
      "Computing catalog 71 of 300\n",
      "Computing catalog 72 of 300\n",
      "Computing catalog 73 of 300\n",
      "Computing catalog 74 of 300\n",
      "Computing catalog 75 of 300\n",
      "Computing catalog 76 of 300\n",
      "Computing catalog 77 of 300\n",
      "Computing catalog 78 of 300\n",
      "Computing catalog 79 of 300\n",
      "Computing catalog 80 of 300\n",
      "Computing catalog 81 of 300\n",
      "Computing catalog 82 of 300\n",
      "Computing catalog 83 of 300\n",
      "Computing catalog 84 of 300\n",
      "Computing catalog 85 of 300\n",
      "Computing catalog 86 of 300\n",
      "Computing catalog 87 of 300\n",
      "Computing catalog 88 of 300\n",
      "Computing catalog 89 of 300\n",
      "Computing catalog 90 of 300\n",
      "Computing catalog 91 of 300\n",
      "Computing catalog 92 of 300\n",
      "Computing catalog 93 of 300\n",
      "Computing catalog 94 of 300\n",
      "Computing catalog 95 of 300\n",
      "Computing catalog 96 of 300\n",
      "Computing catalog 97 of 300\n",
      "Computing catalog 98 of 300\n",
      "Computing catalog 99 of 300\n",
      "Computing catalog 100 of 300\n",
      "Computing catalog 101 of 300\n",
      "Computing catalog 102 of 300\n",
      "Computing catalog 103 of 300\n",
      "Computing catalog 104 of 300\n",
      "Computing catalog 105 of 300\n",
      "Computing catalog 106 of 300\n",
      "Computing catalog 107 of 300\n",
      "Computing catalog 108 of 300\n",
      "Computing catalog 109 of 300\n",
      "Computing catalog 110 of 300\n",
      "Computing catalog 111 of 300\n",
      "Computing catalog 112 of 300\n",
      "Computing catalog 113 of 300\n",
      "Computing catalog 114 of 300\n",
      "Computing catalog 115 of 300\n",
      "Computing catalog 116 of 300\n",
      "Computing catalog 117 of 300\n",
      "Computing catalog 118 of 300\n",
      "Computing catalog 119 of 300\n",
      "Computing catalog 120 of 300\n",
      "Computing catalog 121 of 300\n",
      "Computing catalog 122 of 300\n",
      "Computing catalog 123 of 300\n",
      "Computing catalog 124 of 300\n",
      "Computing catalog 125 of 300\n",
      "Computing catalog 126 of 300\n",
      "Computing catalog 127 of 300\n",
      "Computing catalog 128 of 300\n",
      "Computing catalog 129 of 300\n",
      "Computing catalog 130 of 300\n",
      "Computing catalog 131 of 300\n",
      "Computing catalog 132 of 300\n",
      "Computing catalog 133 of 300\n",
      "Computing catalog 134 of 300\n",
      "Computing catalog 135 of 300\n",
      "Computing catalog 136 of 300\n",
      "Computing catalog 137 of 300\n",
      "Computing catalog 138 of 300\n",
      "Computing catalog 139 of 300\n",
      "Computing catalog 140 of 300\n",
      "Computing catalog 141 of 300\n",
      "Computing catalog 142 of 300\n",
      "Computing catalog 143 of 300\n",
      "Computing catalog 144 of 300\n",
      "Computing catalog 145 of 300\n",
      "Computing catalog 146 of 300\n",
      "Computing catalog 147 of 300\n",
      "Computing catalog 148 of 300\n",
      "Computing catalog 149 of 300\n",
      "Computing catalog 150 of 300\n",
      "Computing catalog 151 of 300\n",
      "Computing catalog 152 of 300\n",
      "Computing catalog 153 of 300\n",
      "Computing catalog 154 of 300\n",
      "Computing catalog 155 of 300\n",
      "Computing catalog 156 of 300\n",
      "Computing catalog 157 of 300\n",
      "Computing catalog 158 of 300\n",
      "Computing catalog 159 of 300\n",
      "Computing catalog 160 of 300\n",
      "Computing catalog 161 of 300\n",
      "Computing catalog 162 of 300\n",
      "Computing catalog 163 of 300\n",
      "Computing catalog 164 of 300\n",
      "Computing catalog 165 of 300\n",
      "Computing catalog 166 of 300\n",
      "Computing catalog 167 of 300\n",
      "Computing catalog 168 of 300\n",
      "Computing catalog 169 of 300\n",
      "Computing catalog 170 of 300\n",
      "Computing catalog 171 of 300\n",
      "Computing catalog 172 of 300\n",
      "Computing catalog 173 of 300\n",
      "Computing catalog 174 of 300\n",
      "Computing catalog 175 of 300\n",
      "Computing catalog 176 of 300\n",
      "Computing catalog 177 of 300\n",
      "Computing catalog 178 of 300\n",
      "Computing catalog 179 of 300\n",
      "Computing catalog 180 of 300\n",
      "Computing catalog 181 of 300\n",
      "Computing catalog 182 of 300\n",
      "Computing catalog 183 of 300\n",
      "Computing catalog 184 of 300\n",
      "Computing catalog 185 of 300\n",
      "Computing catalog 186 of 300\n",
      "Computing catalog 187 of 300\n",
      "Computing catalog 188 of 300\n",
      "Computing catalog 189 of 300\n",
      "Computing catalog 190 of 300\n",
      "Computing catalog 191 of 300\n",
      "Computing catalog 192 of 300\n",
      "Computing catalog 193 of 300\n",
      "Computing catalog 194 of 300\n",
      "Computing catalog 195 of 300\n",
      "Computing catalog 196 of 300\n",
      "Computing catalog 197 of 300\n",
      "Computing catalog 198 of 300\n",
      "Computing catalog 199 of 300\n",
      "Computing catalog 200 of 300\n",
      "Computing catalog 201 of 300\n",
      "Computing catalog 202 of 300\n",
      "Computing catalog 203 of 300\n",
      "Computing catalog 204 of 300\n",
      "Computing catalog 205 of 300\n",
      "Computing catalog 206 of 300\n",
      "Computing catalog 207 of 300\n",
      "Computing catalog 208 of 300\n",
      "Computing catalog 209 of 300\n",
      "Computing catalog 210 of 300\n",
      "Computing catalog 211 of 300\n",
      "Computing catalog 212 of 300\n",
      "Computing catalog 213 of 300\n",
      "Computing catalog 214 of 300\n",
      "Computing catalog 215 of 300\n",
      "Computing catalog 216 of 300\n",
      "Computing catalog 217 of 300\n",
      "Computing catalog 218 of 300\n",
      "Computing catalog 219 of 300\n",
      "Computing catalog 220 of 300\n",
      "Computing catalog 221 of 300\n",
      "Computing catalog 222 of 300\n",
      "Computing catalog 223 of 300\n",
      "Computing catalog 224 of 300\n",
      "Computing catalog 225 of 300\n",
      "Computing catalog 226 of 300\n",
      "Computing catalog 227 of 300\n",
      "Computing catalog 228 of 300\n",
      "Computing catalog 229 of 300\n",
      "Computing catalog 230 of 300\n",
      "Computing catalog 231 of 300\n",
      "Computing catalog 232 of 300\n",
      "Computing catalog 233 of 300\n",
      "Computing catalog 234 of 300\n",
      "Computing catalog 235 of 300\n",
      "Computing catalog 236 of 300\n",
      "Computing catalog 237 of 300\n",
      "Computing catalog 238 of 300\n",
      "Computing catalog 239 of 300\n",
      "Computing catalog 240 of 300\n",
      "Computing catalog 241 of 300\n",
      "Computing catalog 242 of 300\n",
      "Computing catalog 243 of 300\n",
      "Computing catalog 244 of 300\n",
      "Computing catalog 245 of 300\n",
      "Computing catalog 246 of 300\n",
      "Computing catalog 247 of 300\n",
      "Computing catalog 248 of 300\n",
      "Computing catalog 249 of 300\n",
      "Computing catalog 250 of 300\n",
      "Computing catalog 251 of 300\n",
      "Computing catalog 252 of 300\n",
      "Computing catalog 253 of 300\n",
      "Computing catalog 254 of 300\n",
      "Computing catalog 255 of 300\n",
      "Computing catalog 256 of 300\n",
      "Computing catalog 257 of 300\n",
      "Computing catalog 258 of 300\n",
      "Computing catalog 259 of 300\n",
      "Computing catalog 260 of 300\n",
      "Computing catalog 261 of 300\n",
      "Computing catalog 262 of 300\n",
      "Computing catalog 263 of 300\n",
      "Computing catalog 264 of 300\n",
      "Computing catalog 265 of 300\n",
      "Computing catalog 266 of 300\n",
      "Computing catalog 267 of 300\n",
      "Computing catalog 268 of 300\n",
      "Computing catalog 269 of 300\n",
      "Computing catalog 270 of 300\n",
      "Computing catalog 271 of 300\n",
      "Computing catalog 272 of 300\n",
      "Computing catalog 273 of 300\n",
      "Computing catalog 274 of 300\n",
      "Computing catalog 275 of 300\n",
      "Computing catalog 276 of 300\n",
      "Computing catalog 277 of 300\n",
      "Computing catalog 278 of 300\n",
      "Computing catalog 279 of 300\n",
      "Computing catalog 280 of 300\n",
      "Computing catalog 281 of 300\n",
      "Computing catalog 282 of 300\n",
      "Computing catalog 283 of 300\n",
      "Computing catalog 284 of 300\n",
      "Computing catalog 285 of 300\n",
      "Computing catalog 286 of 300\n",
      "Computing catalog 287 of 300\n"
     ]
    },
    {
     "name": "stdout",
     "output_type": "stream",
     "text": [
      "Computing catalog 288 of 300\n",
      "Computing catalog 289 of 300\n",
      "Computing catalog 290 of 300\n",
      "Computing catalog 291 of 300\n",
      "Computing catalog 292 of 300\n",
      "Computing catalog 293 of 300\n",
      "Computing catalog 294 of 300\n",
      "Computing catalog 295 of 300\n",
      "Computing catalog 296 of 300\n",
      "Computing catalog 297 of 300\n",
      "Computing catalog 298 of 300\n",
      "Computing catalog 299 of 300\n",
      "Computing catalog 300 of 300\n"
     ]
    }
   ],
   "source": [
    "all_cat=[]\n",
    "boxsize=500\n",
    "nbar = 3e-4\n",
    "for i in range(300):\n",
    "    print(\"Computing catalog %d of %d\"%(i+1,300))\n",
    "    cat = LogNormalCatalog(Plin=Plin, cosmo=qpm_cosmo, nbar=nbar, BoxSize=boxsize, Nmesh=128, bias=2.0, seed=i)\n",
    "    cat_pos=cat.Position().compute()\n",
    "    cat_w = cat.Weight().compute().reshape(-1,1)\n",
    "    out_dat = np.hstack([cat_pos,cat_w])\n",
    "    all_cat.append(out_dat)\n",
    "    \n",
    "    out_dir = '/mnt/store1/oliverphilcox/GRFs/'\n",
    "    with open(out_dir+'mock_%d'%i,'w') as outfile:\n",
    "        for g in range(len(out_dat)):\n",
    "            l=out_dat[g]\n",
    "            outfile.write(\"%.8e %.8e %.8e %.8e\\n\"%(l[0],l[1],l[2],l[3]))"
   ]
  },
  {
   "cell_type": "markdown",
   "metadata": {},
   "source": [
    "### Create Random Catalog"
   ]
  },
  {
   "cell_type": "code",
   "execution_count": 304,
   "metadata": {},
   "outputs": [],
   "source": [
    "n_rand = int(1.5*len(all_cat[0]))\n",
    "for i in range(32):\n",
    "    this_rand = np.random.random(size=(n_rand,4))*boxsize\n",
    "    this_rand[:,-1]=-1. # weights\n",
    "    with open(out_dir+'ran_%d'%i,'w') as outfile:\n",
    "        for g in range(n_rand):\n",
    "            l=this_rand[g]\n",
    "            outfile.write(\"%.8e %.8e %.8e %.8e\\n\"%(l[0],l[1],l[2],l[3]))"
   ]
  },
  {
   "cell_type": "markdown",
   "metadata": {},
   "source": [
    "### Define Inverse Phi"
   ]
  },
  {
   "cell_type": "code",
   "execution_count": 305,
   "metadata": {},
   "outputs": [],
   "source": [
    "phi_inv_norm = 6.*nbar**3*boxsize**3\n",
    "phi_inv=np.zeros([15*15,7])\n",
    "phi_inv[:,0]=phi_inv_norm\n",
    "np.savetxt(\"/mnt/store1/oliverphilcox/GRFs/phi_inv\",phi_inv,fmt=\"%.8e\",delimiter='\\t')"
   ]
  },
  {
   "cell_type": "code",
   "execution_count": null,
   "metadata": {},
   "outputs": [],
   "source": []
  },
  {
   "cell_type": "code",
   "execution_count": 318,
   "metadata": {},
   "outputs": [],
   "source": [
    "import re\n",
    "def reader(in_str,n=18,max_l=4):\n",
    "    file_name = in_root+'.'+in_str+'.out'\n",
    "\n",
    "    dat = np.zeros([n,n,max_l+1])\n",
    "\n",
    "    with open(file_name) as f:\n",
    "        start=False\n",
    "        for line in f:\n",
    "            if not start:\n",
    "                if re.match(\"# Multipole\",line):\n",
    "                    start=True\n",
    "                continue\n",
    "            if re.match(\"Multipole\",line):\n",
    "                continue\n",
    "            if len(line.split())==0:\n",
    "                start=False\n",
    "                continue\n",
    "            if re.match('# Saving',line):\n",
    "                start=False\n",
    "                continue\n",
    "            x=line.split()\n",
    "            b1=int(x[0])\n",
    "            b2=int(x[1])\n",
    "            dat[b1,b2,0]=float(x[2])/2.\n",
    "            if b1!=b2:\n",
    "                dat[b2,b1,0]=float(x[2])/2.\n",
    "            for ell in range(1,max_l+1):\n",
    "                dat[b1,b2,ell]=float(x[ell+2])*float(x[2])*(2.*ell+1.)/2.\n",
    "                if b1!=b2:\n",
    "                    dat[b2,b1,ell]=float(x[ell+2])*float(x[2])*(2.*ell+1.)/2.\n",
    "    return dat;"
   ]
  },
  {
   "cell_type": "code",
   "execution_count": 319,
   "metadata": {},
   "outputs": [],
   "source": [
    "in_root = '/mnt/store1/oliverphilcox/GRFs/SE_out/grf'"
   ]
  },
  {
   "cell_type": "code",
   "execution_count": 343,
   "metadata": {},
   "outputs": [],
   "source": [
    "all_rrr=reader('0.rrr')\n",
    "rrr=all_rrr[3:,3:,:]\n",
    "\n",
    "max_l = 4\n",
    "r_lo = np.arange(30,171,10)\n",
    "r_hi = np.arange(40,181,10)\n",
    "\n",
    "vol = lambda a: 4.*np.pi/3.*(r_hi[a]**3-r_lo[a]**3)\n",
    "\n",
    "def phi_model(bin_a,bin_b,ell):\n",
    "    if ell>max_l:\n",
    "        return 0.\n",
    "    else:\n",
    "        return rrr[bin_a,bin_b,ell]/(3.*nbar**3*boxsize**3*vol(bin_a)*vol(bin_b))"
   ]
  },
  {
   "cell_type": "code",
   "execution_count": 357,
   "metadata": {},
   "outputs": [],
   "source": [
    "inv_phi = np.zeros([15,15,7])\n",
    "for i in range(len(rrr)):\n",
    "    for j in range(len(rrr)):\n",
    "        for ell in range(7):\n",
    "            inv_phi[i,j,ell]=phi_model(i,j,ell)*(6.*nbar**3*boxsize**3)"
   ]
  },
  {
   "cell_type": "code",
   "execution_count": 371,
   "metadata": {},
   "outputs": [],
   "source": [
    "with open('/mnt/store1/oliverphilcox/GRFs/phi_inv_aper','w') as out:\n",
    "    for i in range(len(inv_phi)):\n",
    "        for j in range(len(inv_phi)):\n",
    "            for ell in range(7):\n",
    "                out.write(\"%.6e\"%inv_phi[i,j,ell])\n",
    "            if ell<6:\n",
    "                out.write(\"\\t\")\n",
    "            else:\n",
    "                out.write(\"\\n\");        "
   ]
  },
  {
   "cell_type": "code",
   "execution_count": 372,
   "metadata": {},
   "outputs": [],
   "source": [
    "x=np.loadtxt('/mnt/store1/oliverphilcox/GRFs/phi_inv_aper')"
   ]
  },
  {
   "cell_type": "code",
   "execution_count": 362,
   "metadata": {},
   "outputs": [
    {
     "data": {
      "image/png": "[encoded data removed]",
      "text/plain": [
       "<Figure size 432x288 with 1 Axes>"
      ]
     },
     "metadata": {
      "needs_background": "light"
     },
     "output_type": "display_data"
    }
   ],
   "source": [
    "plt.plot(inv_phi[:,:,0]);"
   ]
  }
 ],
 "metadata": {
  "kernelspec": {
   "display_name": "Python 3",
   "language": "python",
   "name": "python3"
  },
  "language_info": {
   "codemirror_mode": {
    "name": "ipython",
    "version": 3
   },
   "file_extension": ".py",
   "mimetype": "text/x-python",
   "name": "python",
   "nbconvert_exporter": "python",
   "pygments_lexer": "ipython3",
   "version": "3.7.0"
  }
 },
 "nbformat": 4,
 "nbformat_minor": 2
}
