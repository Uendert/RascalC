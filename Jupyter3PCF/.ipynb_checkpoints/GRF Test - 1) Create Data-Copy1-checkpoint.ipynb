{
 "cells": [
  {
   "cell_type": "code",
   "execution_count": 636,
   "metadata": {},
   "outputs": [
    {
     "name": "stdout",
     "output_type": "stream",
     "text": [
      "Populating the interactive namespace from numpy and matplotlib\n"
     ]
    },
    {
     "name": "stderr",
     "output_type": "stream",
     "text": [
      "/home/oliverphilcox/anaconda3/lib/python3.7/site-packages/IPython/core/magics/pylab.py:160: UserWarning: pylab import has clobbered these variables: ['seed']\n",
      "`%matplotlib` prevents importing * from pylab and numpy\n",
      "  \"\\n`%matplotlib` prevents importing * from pylab and numpy\"\n"
     ]
    }
   ],
   "source": [
    "%pylab inline"
   ]
  },
  {
   "cell_type": "markdown",
   "metadata": {},
   "source": [
    "### Try with nbodykit"
   ]
  },
  {
   "cell_type": "code",
   "execution_count": 637,
   "metadata": {},
   "outputs": [],
   "source": [
    "from nbodykit.lab import *\n",
    "from nbodykit import style,setup_logging"
   ]
  },
  {
   "cell_type": "code",
   "execution_count": 638,
   "metadata": {},
   "outputs": [],
   "source": [
    "qpm_cosmo = cosmology.Cosmology(h=0.7,Omega0_b=0.0458,Omega0_cdm=0.29-0.0458,n_s=0.97,sigma8=0.7,nonlinear=False)\n",
    "Plin = cosmology.LinearPower(qpm_cosmo,0.55,transfer='CLASS')"
   ]
  },
  {
   "cell_type": "code",
   "execution_count": 386,
   "metadata": {},
   "outputs": [],
   "source": [
    "two_pcf = cosmology.CorrelationFunction(Plin)"
   ]
  },
  {
   "cell_type": "code",
   "execution_count": 387,
   "metadata": {},
   "outputs": [
    {
     "data": {
      "text/plain": [
       "[<matplotlib.lines.Line2D at 0x7f0529e06a58>]"
      ]
     },
     "execution_count": 387,
     "metadata": {},
     "output_type": "execute_result"
    },
    {
     "data": {
      "image/png": "[encoded data removed]",
      "text/plain": [
       "<Figure size 432x288 with 1 Axes>"
      ]
     },
     "metadata": {
      "needs_background": "light"
     },
     "output_type": "display_data"
    }
   ],
   "source": [
    "plt.plot(r_all,two_pcf(r_all)*r_all**2)"
   ]
  },
  {
   "cell_type": "code",
   "execution_count": 388,
   "metadata": {},
   "outputs": [
    {
     "data": {
      "image/png": "[encoded data removed]",
      "text/plain": [
       "<Figure size 432x288 with 1 Axes>"
      ]
     },
     "metadata": {
      "needs_background": "light"
     },
     "output_type": "display_data"
    }
   ],
   "source": [
    "plt.plot(np.arange(0.001,1,.001),Plin(np.arange(0.001,1,.001)))\n",
    "plt.yscale('log')\n",
    "plt.xscale('log')"
   ]
  },
  {
   "cell_type": "markdown",
   "metadata": {},
   "source": [
    "### Save 2PCFs to file"
   ]
  },
  {
   "cell_type": "code",
   "execution_count": 628,
   "metadata": {},
   "outputs": [],
   "source": [
    "r_all = np.linspace(0.001,400,200)\n",
    "mu_all = np.arange(0.,1.05,0.05)\n",
    "xi_all = two_pcf(r_all)"
   ]
  },
  {
   "cell_type": "code",
   "execution_count": 649,
   "metadata": {},
   "outputs": [],
   "source": [
    "with open('/mnt/store1/oliverphilcox/GRFs_aper_dense_big2/lin_xi.xi',\"w\") as out:\n",
    "    for r in r_all:\n",
    "        out.write(\"%.8e \"%r)\n",
    "    out.write(\"\\n\")\n",
    "    for mu in mu_all:\n",
    "        out.write(\"%.8e \"%mu)\n",
    "    out.write(\"\\n\")\n",
    "    for i in range(len(r_all)):\n",
    "        for j in range(len(mu_all)):\n",
    "            out.write(\"%.8e \"%xi_all[i])\n",
    "        out.write(\"\\n\")"
   ]
  },
  {
   "cell_type": "code",
   "execution_count": 671,
   "metadata": {},
   "outputs": [],
   "source": [
    "boxsize=1000\n",
    "nbar = 3e-4\n",
    "out_dir = '/mnt/store1/oliverphilcox/GRFs_aper_dense_big2/'\n",
    "\n",
    "import pmesh\n",
    "from nbodykit.mockmaker import gaussian_real_fields,poisson_sample_to_points\n",
    "## Mesh must be much larger than points\n",
    "mesh = pmesh.pm.ParticleMesh([128,128,128],BoxSize=boxsize*2)"
   ]
  },
  {
   "cell_type": "code",
   "execution_count": null,
   "metadata": {
    "scrolled": true
   },
   "outputs": [
    {
     "name": "stdout",
     "output_type": "stream",
     "text": [
      "Computing mock 49 of 300\n",
      "Computing mock 50 of 300\n",
      "Computing mock 51 of 300\n",
      "Computing mock 52 of 300\n",
      "Computing mock 53 of 300\n",
      "Computing mock 54 of 300\n",
      "Computing mock 55 of 300\n",
      "Computing mock 56 of 300\n",
      "Computing mock 57 of 300\n",
      "Computing mock 58 of 300\n",
      "Computing mock 59 of 300\n",
      "Computing mock 60 of 300\n",
      "Computing mock 61 of 300\n",
      "Computing mock 62 of 300\n",
      "Computing mock 63 of 300\n",
      "Computing mock 64 of 300\n",
      "Computing mock 65 of 300\n",
      "Computing mock 66 of 300\n",
      "Computing mock 67 of 300\n",
      "Computing mock 68 of 300\n",
      "Computing mock 69 of 300\n"
     ]
    }
   ],
   "source": [
    "for i in range(48,300):\n",
    "    print(\"Computing mock %d of %d\"%(i+1,300))\n",
    "    seed = i\n",
    "    delta_field,disp_field = gaussian_real_fields(mesh,Plin,seed,compute_displacement=True)\n",
    "    rand_pos,rand_disp = poisson_sample_to_points(delta_field,disp_field,mesh,nbar,seed=seed)\n",
    "    \n",
    "    ## Add displacement vector\n",
    "    rand_pos+=rand_disp\n",
    "    \n",
    "    ## Select points far from boundaries    \n",
    "    filt = np.where(np.abs(rand_pos[:,0]-boxsize)<=boxsize/2)\n",
    "    rand_pos = rand_pos[filt]\n",
    "    filt2 = np.where(np.abs(rand_pos[:,1]-boxsize)<=boxsize/2)\n",
    "    rand_pos = rand_pos[filt2]\n",
    "    filt3 = np.where(np.abs(rand_pos[:,2]-boxsize)<=boxsize/2)\n",
    "    rand_pos = rand_pos[filt3]\n",
    "    # shift center\n",
    "    rand_pos-=np.ones(rand_pos.shape)*boxsize/2\n",
    "    rand_disp = rand_disp[filt][filt2][filt3]\n",
    "    \n",
    "    rand_w = np.ones([len(rand_pos),1])*1.\n",
    "    rand_dat = np.hstack([rand_pos,rand_w])\n",
    "\n",
    "    with open(out_dir+'mock_%d'%i,'w') as outfile:\n",
    "        for g in range(len(rand_dat)):\n",
    "            l=rand_dat[g]\n",
    "            outfile.write(\"%.8e %.8e %.8e %.8e\\n\"%(l[0],l[1],l[2],l[3]))"
   ]
  },
  {
   "cell_type": "code",
   "execution_count": 713,
   "metadata": {},
   "outputs": [],
   "source": [
    "n_gal = nbar*boxsize**3\n",
    "n_rand = int(1.5*n_gal)\n",
    "for i in range(32):\n",
    "    this_rand = np.random.random(size=(n_rand,4))*boxsize\n",
    "    this_rand[:,-1]=-1.*n_gal/n_rand # weights\n",
    "    with open(out_dir+'ran_%d'%i,'w') as outfile:\n",
    "        for g in range(n_rand):\n",
    "            l=this_rand[g]\n",
    "            outfile.write(\"%.8e %.8e %.8e %.8e\\n\"%(l[0],l[1],l[2],l[3]))"
   ]
  },
  {
   "cell_type": "code",
   "execution_count": 714,
   "metadata": {},
   "outputs": [],
   "source": [
    "n_gal = nbar*boxsize**3\n",
    "n_rand_all = int(48*n_gal)\n",
    "this_rand = np.random.random(size=(n_rand_all,4))*boxsize\n",
    "this_rand[:,-1]=1. # weights\n",
    "with open(out_dir+'tot_ran','w') as outfile:\n",
    "    for g in range(n_rand_all):\n",
    "        l=this_rand[g]\n",
    "        outfile.write(\"%.8e %.8e %.8e %.8e\\n\"%(l[0],l[1],l[2],l[3]))"
   ]
  },
  {
   "cell_type": "markdown",
   "metadata": {},
   "source": [
    "### Generate GRFs"
   ]
  },
  {
   "cell_type": "code",
   "execution_count": 510,
   "metadata": {
    "scrolled": true
   },
   "outputs": [],
   "source": [
    "# all_cat=[]\n",
    "# boxsize=500\n",
    "# nbar = 3e-5\n",
    "# for i in range(300):\n",
    "#     print(\"Computing catalog %d of %d\"%(i+1,100))\n",
    "#     cat = LogNormalCatalog(Plin=Plin, cosmo=qpm_cosmo, nbar=nbar, BoxSize=boxsize, Nmesh=128, bias=2.0, seed=i)\n",
    "#     cat_pos=cat.Position().compute()\n",
    "#     cat_w = cat.Weight().compute().reshape(-1,1)\n",
    "#     out_dat = np.hstack([cat_pos,cat_w])\n",
    "#     all_cat.append(out_dat)\n",
    "    \n",
    "#     out_dir = '/mnt/store1/oliverphilcox/GRFs_per/'\n",
    "#     with open(out_dir+'mock_%d'%i,'w') as outfile:\n",
    "#         for g in range(len(out_dat)):\n",
    "#             l=out_dat[g]\n",
    "#             outfile.write(\"%.8e %.8e %.8e %.8e\\n\"%(l[0],l[1],l[2],l[3]))"
   ]
  },
  {
   "cell_type": "markdown",
   "metadata": {},
   "source": [
    "### Create Random Catalog"
   ]
  },
  {
   "cell_type": "code",
   "execution_count": 511,
   "metadata": {},
   "outputs": [],
   "source": [
    "# n_rand = int(1.5*len(all_cat[0]))\n",
    "# for i in range(32):\n",
    "#     this_rand = np.random.random(size=(n_rand,4))*boxsize\n",
    "#     this_rand[:,-1]=-1. # weights\n",
    "#     with open(out_dir+'ran_%d'%i,'w') as outfile:\n",
    "#         for g in range(n_rand):\n",
    "#             l=this_rand[g]\n",
    "#             outfile.write(\"%.8e %.8e %.8e %.8e\\n\"%(l[0],l[1],l[2],l[3]))"
   ]
  },
  {
   "cell_type": "markdown",
   "metadata": {},
   "source": [
    "### Define Inverse Phi"
   ]
  },
  {
   "cell_type": "code",
   "execution_count": 512,
   "metadata": {},
   "outputs": [],
   "source": [
    "# phi_inv_norm = 6.*nbar**3*boxsize**3\n",
    "# phi_inv=np.zeros([15*15,7])\n",
    "# phi_inv[:,0]=phi_inv_norm\n",
    "# np.savetxt(\"/mnt/store1/oliverphilcox/GRFs/phi_inv\",phi_inv,fmt=\"%.8e\",delimiter='\\t')"
   ]
  },
  {
   "cell_type": "code",
   "execution_count": null,
   "metadata": {},
   "outputs": [],
   "source": []
  },
  {
   "cell_type": "code",
   "execution_count": null,
   "metadata": {},
   "outputs": [],
   "source": [
    "import re\n",
    "def reader(file_name,n=18,max_l=4):\n",
    "    \n",
    "    dat = np.zeros([n,n,max_l+1])\n",
    "\n",
    "    with open(file_name) as f:\n",
    "        start=False\n",
    "        for line in f:\n",
    "            if not start:\n",
    "                if re.match(\"# Multipole\",line):\n",
    "                    start=True\n",
    "                continue\n",
    "            if re.match(\"Multipole\",line):\n",
    "                continue\n",
    "            if len(line.split())==0:\n",
    "                start=False\n",
    "                continue\n",
    "            if re.match('# Saving',line):\n",
    "                start=False\n",
    "                continue\n",
    "            x=line.split()\n",
    "            b1=int(x[0])\n",
    "            b2=int(x[1])\n",
    "            dat[b1,b2,0]=float(x[2])/2.\n",
    "            if b1!=b2:\n",
    "                dat[b2,b1,0]=float(x[2])/2.\n",
    "            for ell in range(1,max_l+1):\n",
    "                dat[b1,b2,ell]=float(x[ell+2])*float(x[2])*(2.*ell+1.)/2.\n",
    "                if b1!=b2:\n",
    "                    dat[b2,b1,ell]=float(x[ell+2])*float(x[2])*(2.*ell+1.)/2.\n",
    "    return dat;"
   ]
  },
  {
   "cell_type": "code",
   "execution_count": 558,
   "metadata": {},
   "outputs": [],
   "source": [
    "DR_m=reader('/home/oliverphilcox/3pcf_code/codes/grid_multipoles/tmp_DR_mult')\n",
    "DR_no_m = reader('/home/oliverphilcox/3pcf_code/codes/grid_multipoles/tmp_DR_no_mult')"
   ]
  },
  {
   "cell_type": "code",
   "execution_count": null,
   "metadata": {},
   "outputs": [],
   "source": []
  },
  {
   "cell_type": "code",
   "execution_count": 545,
   "metadata": {},
   "outputs": [
    {
     "ename": "FileNotFoundError",
     "evalue": "[Errno 2] No such file or directory: '/mnt/store1/oliverphilcox/GRFs_per_rare/rrr_out'",
     "output_type": "error",
     "traceback": [
      "\u001b[0;31m---------------------------------------------------------------------------\u001b[0m",
      "\u001b[0;31mFileNotFoundError\u001b[0m                         Traceback (most recent call last)",
      "\u001b[0;32m<ipython-input-545-50411104c0b2>\u001b[0m in \u001b[0;36m<module>\u001b[0;34m()\u001b[0m\n\u001b[0;32m----> 1\u001b[0;31m \u001b[0mall_rrr\u001b[0m\u001b[0;34m=\u001b[0m\u001b[0mreader\u001b[0m\u001b[0;34m(\u001b[0m\u001b[0;34m'/mnt/store1/oliverphilcox/GRFs_per_rare/rrr_out'\u001b[0m\u001b[0;34m)\u001b[0m\u001b[0;34m\u001b[0m\u001b[0m\n\u001b[0m\u001b[1;32m      2\u001b[0m \u001b[0mrrr\u001b[0m\u001b[0;34m=\u001b[0m\u001b[0mall_rrr\u001b[0m\u001b[0;34m[\u001b[0m\u001b[0;36m3\u001b[0m\u001b[0;34m:\u001b[0m\u001b[0;34m,\u001b[0m\u001b[0;36m3\u001b[0m\u001b[0;34m:\u001b[0m\u001b[0;34m,\u001b[0m\u001b[0;34m:\u001b[0m\u001b[0;34m]\u001b[0m\u001b[0;34m*\u001b[0m\u001b[0;36m6\u001b[0m \u001b[0;31m# correction factor for SE vs our definitions\u001b[0m\u001b[0;34m\u001b[0m\u001b[0m\n\u001b[1;32m      3\u001b[0m \u001b[0;34m\u001b[0m\u001b[0m\n\u001b[1;32m      4\u001b[0m \u001b[0mmax_l\u001b[0m \u001b[0;34m=\u001b[0m \u001b[0;36m4\u001b[0m\u001b[0;34m\u001b[0m\u001b[0m\n\u001b[1;32m      5\u001b[0m \u001b[0mr_lo\u001b[0m \u001b[0;34m=\u001b[0m \u001b[0mnp\u001b[0m\u001b[0;34m.\u001b[0m\u001b[0marange\u001b[0m\u001b[0;34m(\u001b[0m\u001b[0;36m30\u001b[0m\u001b[0;34m,\u001b[0m\u001b[0;36m171\u001b[0m\u001b[0;34m,\u001b[0m\u001b[0;36m10\u001b[0m\u001b[0;34m)\u001b[0m\u001b[0;34m\u001b[0m\u001b[0m\n",
      "\u001b[0;32m<ipython-input-513-0e95d8e366b7>\u001b[0m in \u001b[0;36mreader\u001b[0;34m(file_name, n, max_l)\u001b[0m\n\u001b[1;32m      4\u001b[0m     \u001b[0mdat\u001b[0m \u001b[0;34m=\u001b[0m \u001b[0mnp\u001b[0m\u001b[0;34m.\u001b[0m\u001b[0mzeros\u001b[0m\u001b[0;34m(\u001b[0m\u001b[0;34m[\u001b[0m\u001b[0mn\u001b[0m\u001b[0;34m,\u001b[0m\u001b[0mn\u001b[0m\u001b[0;34m,\u001b[0m\u001b[0mmax_l\u001b[0m\u001b[0;34m+\u001b[0m\u001b[0;36m1\u001b[0m\u001b[0;34m]\u001b[0m\u001b[0;34m)\u001b[0m\u001b[0;34m\u001b[0m\u001b[0m\n\u001b[1;32m      5\u001b[0m \u001b[0;34m\u001b[0m\u001b[0m\n\u001b[0;32m----> 6\u001b[0;31m     \u001b[0;32mwith\u001b[0m \u001b[0mopen\u001b[0m\u001b[0;34m(\u001b[0m\u001b[0mfile_name\u001b[0m\u001b[0;34m)\u001b[0m \u001b[0;32mas\u001b[0m \u001b[0mf\u001b[0m\u001b[0;34m:\u001b[0m\u001b[0;34m\u001b[0m\u001b[0m\n\u001b[0m\u001b[1;32m      7\u001b[0m         \u001b[0mstart\u001b[0m\u001b[0;34m=\u001b[0m\u001b[0;32mFalse\u001b[0m\u001b[0;34m\u001b[0m\u001b[0m\n\u001b[1;32m      8\u001b[0m         \u001b[0;32mfor\u001b[0m \u001b[0mline\u001b[0m \u001b[0;32min\u001b[0m \u001b[0mf\u001b[0m\u001b[0;34m:\u001b[0m\u001b[0;34m\u001b[0m\u001b[0m\n",
      "\u001b[0;31mFileNotFoundError\u001b[0m: [Errno 2] No such file or directory: '/mnt/store1/oliverphilcox/GRFs_per_rare/rrr_out'"
     ]
    }
   ],
   "source": [
    "all_rrr=reader('/mnt/store1/oliverphilcox/GRFs_per_rare/rrr_out')\n",
    "rrr=all_rrr[3:,3:,:]*6 # correction factor for SE vs our definitions\n",
    "\n",
    "max_l = 4\n",
    "r_lo = np.arange(30,171,10)\n",
    "r_hi = np.arange(40,181,10)\n",
    "\n",
    "vol = lambda a: 4.*np.pi/3.*(r_hi[a]**3-r_lo[a]**3)\n",
    "\n",
    "def phi_model(bin_a,bin_b,ell):\n",
    "    if ell>max_l:\n",
    "        return 0.\n",
    "    else:\n",
    "        return rrr[bin_a,bin_b,ell]/(3.*nbar**3*boxsize**3*vol(bin_a)*vol(bin_b))"
   ]
  },
  {
   "cell_type": "code",
   "execution_count": 624,
   "metadata": {},
   "outputs": [],
   "source": [
    "inv_phi = np.zeros([15,15,7])\n",
    "for i in range(len(rrr)):\n",
    "    for j in range(len(rrr)):\n",
    "        for ell in range(7):\n",
    "            #inv_phi[i,j,ell]=phi_model(i,j,ell)*(6.*nbar**3*boxsize**3)\n",
    "            # set to 1 for periodic box\n",
    "            inv_phi[i,j,ell]=(ell==0)*(6.*nbar**3*boxsize**3)"
   ]
  },
  {
   "cell_type": "code",
   "execution_count": 634,
   "metadata": {},
   "outputs": [],
   "source": [
    "with open('/mnt/store1/oliverphilcox/GRFs_aper_dense_big/phi_inv','w') as out:\n",
    "    for i in range(len(inv_phi)):\n",
    "        for j in range(len(inv_phi)):\n",
    "            for ell in range(7):\n",
    "                out.write(\"%.6e\"%inv_phi[i,j,ell])\n",
    "                if ell<6:\n",
    "                    out.write(\"\\t\")\n",
    "                else:\n",
    "                    out.write(\"\\n\");        "
   ]
  },
  {
   "cell_type": "code",
   "execution_count": 626,
   "metadata": {},
   "outputs": [
    {
     "data": {
      "image/png": "[encoded data removed]",
      "text/plain": [
       "<Figure size 432x288 with 1 Axes>"
      ]
     },
     "metadata": {
      "needs_background": "light"
     },
     "output_type": "display_data"
    }
   ],
   "source": [
    "plt.plot(inv_phi[:,:,0]);"
   ]
  },
  {
   "cell_type": "code",
   "execution_count": null,
   "metadata": {},
   "outputs": [],
   "source": []
  }
 ],
 "metadata": {
  "kernelspec": {
   "display_name": "Python 3",
   "language": "python",
   "name": "python3"
  },
  "language_info": {
   "codemirror_mode": {
    "name": "ipython",
    "version": 3
   },
   "file_extension": ".py",
   "mimetype": "text/x-python",
   "name": "python",
   "nbconvert_exporter": "python",
   "pygments_lexer": "ipython3",
   "version": "3.7.0"
  }
 },
 "nbformat": 4,
 "nbformat_minor": 2
}
