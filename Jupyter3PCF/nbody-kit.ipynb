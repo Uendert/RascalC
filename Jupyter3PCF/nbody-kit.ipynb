{
 "cells": [
  {
   "cell_type": "code",
   "execution_count": 21,
   "metadata": {},
   "outputs": [
    {
     "name": "stdout",
     "output_type": "stream",
     "text": [
      "Populating the interactive namespace from numpy and matplotlib\n"
     ]
    }
   ],
   "source": [
    "from nbodykit.algorithms.threeptcf import SimulationBox3PCF\n",
    "%pylab inline"
   ]
  },
  {
   "cell_type": "code",
   "execution_count": 22,
   "metadata": {},
   "outputs": [],
   "source": [
    "from nbodykit.lab import *"
   ]
  },
  {
   "cell_type": "code",
   "execution_count": 23,
   "metadata": {},
   "outputs": [],
   "source": [
    "from nbodykit.lab import CSVCatalog"
   ]
  },
  {
   "cell_type": "code",
   "execution_count": 142,
   "metadata": {},
   "outputs": [],
   "source": [
    "blank=CSVCatalog('/mnt/store1/oliverphilcox/PowerSpectra/qpm_galaxy_1.xyzwj',usecols=['x','y','z','WEIGHT'],\n",
    "           names=['x','y','z','WEIGHT'],dtype=[float,float,float,float],nrows=20000)"
   ]
  },
  {
   "cell_type": "code",
   "execution_count": 143,
   "metadata": {},
   "outputs": [],
   "source": [
    "gal_dat=CSVCatalog('/mnt/store1/oliverphilcox/PowerSpectra/qpm_galaxy_1.xyzwj',usecols=['x','y','z','WEIGHT'],\n",
    "           names=['x','y','z','WEIGHT'],dtype=[float,float,float,float],nrows=10000)"
   ]
  },
  {
   "cell_type": "code",
   "execution_count": 144,
   "metadata": {},
   "outputs": [],
   "source": [
    "rand_dat=CSVCatalog('/mnt/store1/oliverphilcox/PowerSpectra/qpm_randoms_10x.xyzwj',usecols=['x','y','z','WEIGHT'],\n",
    "           names=['x','y','z','WEIGHT'],dtype=[float,float,float,float],nrows=10000)"
   ]
  },
  {
   "cell_type": "code",
   "execution_count": 145,
   "metadata": {},
   "outputs": [],
   "source": [
    "import dask\n",
    "tmp_dat=dask.array.vstack([gal_dat['x'],gal_dat['y'],gal_dat['z']]).T\n",
    "tmp_dat2=dask.array.vstack([rand_dat['x'],rand_dat['y'],rand_dat['z']]).T"
   ]
  },
  {
   "cell_type": "code",
   "execution_count": 146,
   "metadata": {},
   "outputs": [],
   "source": [
    "gal_dat['Position']=tmp_dat\n",
    "rand_dat['Position']=tmp_dat2"
   ]
  },
  {
   "cell_type": "code",
   "execution_count": 148,
   "metadata": {},
   "outputs": [],
   "source": [
    "diff_dat = blank\n",
    "diff_dat['Position']=dask.array.concatenate([gal_dat['Position'],rand_dat['Position']])\n",
    "diff_dat['WEIGHT']=np.concatenate([gal_dat['WEIGHT'],-1*rand_dat['WEIGHT']])"
   ]
  },
  {
   "cell_type": "code",
   "execution_count": 150,
   "metadata": {},
   "outputs": [],
   "source": [
    "ell_list = np.arange(0,4,1)\n",
    "r_edges = np.arange(30,190,10)\n",
    "sim_diff=SimulationBox3PCF(diff_dat,ell_list,r_edges,BoxSize=6000,periodic=False,weight='WEIGHT')"
   ]
  },
  {
   "cell_type": "code",
   "execution_count": 151,
   "metadata": {},
   "outputs": [],
   "source": [
    "ell_list = np.arange(0,4,1)\n",
    "r_edges = np.arange(30,190,10)\n",
    "sim_rand=SimulationBox3PCF(rand_dat,ell_list,r_edges,BoxSize=6000,periodic=False,weight='WEIGHT')"
   ]
  },
  {
   "cell_type": "code",
   "execution_count": 164,
   "metadata": {},
   "outputs": [
    {
     "data": {
      "text/plain": [
       "[<matplotlib.lines.Line2D at 0x7f5ae8badf28>]"
      ]
     },
     "execution_count": 164,
     "metadata": {},
     "output_type": "execute_result"
    },
    {
     "data": {
      "image/png": "[encoded data removed]",
      "text/plain": [
       "<Figure size 432x288 with 1 Axes>"
      ]
     },
     "metadata": {
      "needs_background": "light"
     },
     "output_type": "display_data"
    }
   ],
   "source": [
    "zeta = sim_diff.poles['corr_0']/sim_rand.poles['corr_0']\n",
    "plt.plot(r_edges[:-1],zeta[2,])"
   ]
  },
  {
   "cell_type": "code",
   "execution_count": null,
   "metadata": {},
   "outputs": [],
   "source": []
  }
 ],
 "metadata": {
  "kernelspec": {
   "display_name": "Python 3",
   "language": "python",
   "name": "python3"
  },
  "language_info": {
   "codemirror_mode": {
    "name": "ipython",
    "version": 3
   },
   "file_extension": ".py",
   "mimetype": "text/x-python",
   "name": "python",
   "nbconvert_exporter": "python",
   "pygments_lexer": "ipython3",
   "version": "3.7.0"
  }
 },
 "nbformat": 4,
 "nbformat_minor": 2
}
