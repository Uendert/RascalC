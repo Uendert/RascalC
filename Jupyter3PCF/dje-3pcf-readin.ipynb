{
 "cells": [
  {
   "cell_type": "code",
   "execution_count": 27,
   "metadata": {},
   "outputs": [
    {
     "name": "stdout",
     "output_type": "stream",
     "text": [
      "Populating the interactive namespace from numpy and matplotlib\n"
     ]
    },
    {
     "name": "stderr",
     "output_type": "stream",
     "text": [
      "/home/oliverphilcox/anaconda3/lib/python3.7/site-packages/IPython/core/magics/pylab.py:160: UserWarning: pylab import has clobbered these variables: ['f']\n",
      "`%matplotlib` prevents importing * from pylab and numpy\n",
      "  \"\\n`%matplotlib` prevents importing * from pylab and numpy\"\n"
     ]
    }
   ],
   "source": [
    "%pylab inline\n",
    "import re\n",
    "n=18\n",
    "max_l=10\n",
    "in_root = '/mnt/store1/oliverphilcox/3PCF_QPM/full_run.v02/qpm.0014'"
   ]
  },
  {
   "cell_type": "code",
   "execution_count": 205,
   "metadata": {},
   "outputs": [],
   "source": [
    "def reader(in_str):\n",
    "    file_name = in_root+'.'+in_str+'.out'\n",
    "\n",
    "    dat = np.zeros([n,n,max_l+1])\n",
    "\n",
    "    with open(file_name) as f:\n",
    "        start=False\n",
    "        for line in f:\n",
    "            if not start:\n",
    "                if re.match(\"# Multipole\",line):\n",
    "                    start=True\n",
    "                continue\n",
    "            if re.match(\"Multipole\",line):\n",
    "                continue\n",
    "            if len(line.split())==0:\n",
    "                start=False\n",
    "                continue\n",
    "            if re.match('# Saving',line):\n",
    "                start=False\n",
    "                continue\n",
    "            x=line.split()\n",
    "            b1=int(x[0])\n",
    "            b2=int(x[1])\n",
    "            dat[b1,b2,0]=float(x[2])/2.\n",
    "            if b1!=b2:\n",
    "                dat[b2,b1,0]=float(x[2])/2.\n",
    "            for ell in range(1,max_l+1):\n",
    "                dat[b1,b2,ell]=float(x[ell+2])*float(x[2])*(2.*ell+1.)/2.\n",
    "                if b1!=b2:\n",
    "                    dat[b2,b1,ell]=float(x[ell+2])*float(x[2])*(2.*ell+1.)/2.\n",
    "    return dat;"
   ]
  },
  {
   "cell_type": "code",
   "execution_count": 206,
   "metadata": {},
   "outputs": [],
   "source": [
    "RRR = reader('rrr')\n",
    "all_NNN = []\n",
    "for i in range(33):\n",
    "    tmp=reader('r%s'%(str(i).zfill(2)))\n",
    "    all_NNN.append(tmp)\n",
    "#    if np.isfinite(tmp.sum()):\n",
    "#        if(tmp.sum()!=0.):\n",
    "#            all_NNN.append(tmp)\n",
    "DDD = reader('ddd')\n",
    "NNN = np.mean(all_NNN,axis=0)\n",
    "\n",
    "zeta_uncorr = NNN/(RRR[:,:,0].reshape(n,n,1))"
   ]
  },
  {
   "cell_type": "markdown",
   "metadata": {},
   "source": [
    "## Load output values"
   ]
  },
  {
   "cell_type": "code",
   "execution_count": 241,
   "metadata": {},
   "outputs": [
    {
     "data": {
      "text/plain": [
       "array([0.00224941, 0.0010682 , 0.00964315, 0.00660051, 0.00565382,\n",
       "       0.00414222, 0.00309529, 0.00217508, 0.00182513, 0.00111125,\n",
       "       0.0009975 ])"
      ]
     },
     "execution_count": 241,
     "metadata": {},
     "output_type": "execute_result"
    }
   ],
   "source": [
    "zeta_uncorr[4,2]#/zeta_uncorr[4,2,0]"
   ]
  },
  {
   "cell_type": "code",
   "execution_count": 246,
   "metadata": {},
   "outputs": [],
   "source": [
    "y=d.f.powerD[4,2]\n",
    "y[1:]*=y[0]"
   ]
  },
  {
   "cell_type": "code",
   "execution_count": 267,
   "metadata": {},
   "outputs": [
    {
     "data": {
      "text/plain": [
       "-3.688193577531512e-05"
      ]
     },
     "execution_count": 267,
     "metadata": {},
     "output_type": "execute_result"
    }
   ],
   "source": [
    "zeta_uncorr[14,14,1]"
   ]
  },
  {
   "cell_type": "code",
   "execution_count": 268,
   "metadata": {},
   "outputs": [
    {
     "data": {
      "text/plain": [
       "433169154.92655814"
      ]
     },
     "execution_count": 268,
     "metadata": {},
     "output_type": "execute_result"
    }
   ],
   "source": [
    "zeta_npz[14,14,1]"
   ]
  },
  {
   "cell_type": "code",
   "execution_count": null,
   "metadata": {},
   "outputs": [],
   "source": []
  },
  {
   "cell_type": "code",
   "execution_count": null,
   "metadata": {},
   "outputs": [],
   "source": []
  },
  {
   "cell_type": "code",
   "execution_count": 248,
   "metadata": {},
   "outputs": [],
   "source": [
    "d=np.load('/mnt/store1/oliverphilcox/3PCF_QPM/full_run.v02/tmp_3pcf_output.npz')\n",
    "zeta_npz=d.f.powerD\n",
    "for i in range(n):\n",
    "    for j in range(n):\n",
    "        zeta_npz[i,j,1:]*=zeta_npz[i,j,0]"
   ]
  },
  {
   "cell_type": "code",
   "execution_count": 249,
   "metadata": {},
   "outputs": [
    {
     "data": {
      "text/plain": [
       "(18, 18, 11)"
      ]
     },
     "execution_count": 249,
     "metadata": {},
     "output_type": "execute_result"
    }
   ],
   "source": [
    "zeta_npz.shape"
   ]
  },
  {
   "cell_type": "code",
   "execution_count": 276,
   "metadata": {},
   "outputs": [
    {
     "data": {
      "image/png": "[encoded data removed]",
      "text/plain": [
       "<Figure size 288x288 with 2 Axes>"
      ]
     },
     "metadata": {
      "needs_background": "light"
     },
     "output_type": "display_data"
    }
   ],
   "source": [
    "A=np.tril(zeta_uncorr[:,:,1])-np.eye(n)*np.diag(zeta_uncorr[:,:,1])\n",
    "B=np.tril(zeta_npz[:,:,1])-np.eye(n)*np.diag(zeta_npz[:,:,1])\n",
    "plt.matshow(A-B);plt.colorbar();"
   ]
  },
  {
   "cell_type": "markdown",
   "metadata": {},
   "source": []
  },
  {
   "cell_type": "code",
   "execution_count": null,
   "metadata": {},
   "outputs": [],
   "source": []
  }
 ],
 "metadata": {
  "kernelspec": {
   "display_name": "Python 3",
   "language": "python",
   "name": "python3"
  },
  "language_info": {
   "codemirror_mode": {
    "name": "ipython",
    "version": 3
   },
   "file_extension": ".py",
   "mimetype": "text/x-python",
   "name": "python",
   "nbconvert_exporter": "python",
   "pygments_lexer": "ipython3",
   "version": "3.7.0"
  }
 },
 "nbformat": 4,
 "nbformat_minor": 2
}
