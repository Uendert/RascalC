{
 "cells": [
  {
   "cell_type": "code",
   "execution_count": null,
   "metadata": {},
   "outputs": [],
   "source": []
  },
  {
   "cell_type": "code",
   "execution_count": 27,
   "metadata": {},
   "outputs": [
    {
     "name": "stdout",
     "output_type": "stream",
     "text": [
      "Populating the interactive namespace from numpy and matplotlib\n"
     ]
    }
   ],
   "source": [
    "%pylab inline"
   ]
  },
  {
   "cell_type": "markdown",
   "metadata": {},
   "source": [
    "### Load 2PCF"
   ]
  },
  {
   "cell_type": "code",
   "execution_count": 72,
   "metadata": {},
   "outputs": [],
   "source": [
    "xi_file=np.load('/mnt/store1/oliverphilcox/linear_kaiser_xi.npz')"
   ]
  },
  {
   "cell_type": "code",
   "execution_count": 73,
   "metadata": {},
   "outputs": [],
   "source": [
    "r_all = xi_file.f.r\n",
    "r2xi0=xi_file.f.r2xi0\n",
    "r2xi2=xi_file.f.r2xi2\n",
    "r2xi4=xi_file.f.r2xi4\n",
    "\n",
    "xi_out = np.divide(np.vstack([r2xi0,r2xi2,r2xi4]).T,r_all.reshape(-1,1)**2)\n",
    "ells = [0,2,4]\n",
    "\n",
    "mus = np.linspace(0.,1.,120)\n",
    "\n",
    "from scipy.special import legendre\n",
    "\n",
    "xi_out_mu = np.zeros([len(xi_out),len(mus)])\n",
    "for l_i,ell in enumerate(ells):\n",
    "    xi_out_mu+=np.matmul(xi_out[:,l_i].reshape(-1,1),legendre(ell)(mus).reshape(1,-1))"
   ]
  },
  {
   "cell_type": "code",
   "execution_count": 91,
   "metadata": {},
   "outputs": [],
   "source": [
    "outfile = '/home/oliverphilcox/COMAJE/xi_tmp'#/mnt/store1/oliverphilcox/QPM_xi/linear_kaiser_xi.xi'\n",
    "\n",
    "with open(outfile,\"w\") as out:\n",
    "    for r_i,r in enumerate(r_all):\n",
    "        out.write(\"%.6e\"%r)\n",
    "        if r_i<len(r_all)-1:\n",
    "            out.write(\"\\t\")\n",
    "        else:\n",
    "            out.write(\"\\n\")\n",
    "    for mu_i,mu in enumerate(mus):\n",
    "        out.write(\"%.6e\"%mu)\n",
    "        if mu_i<len(mus)-1:\n",
    "            out.write(\"\\t\")\n",
    "        else:\n",
    "            out.write(\"\\n\")\n",
    "    for i in range(len(xi_out_mu)):\n",
    "        for j in range(len(xi_out_mu[0])):\n",
    "            out.write(\"%.6e\"%xi_out_mu[i,j])\n",
    "            if j<len(mus)-1:\n",
    "                out.write(\"\\t\")\n",
    "            else:\n",
    "                out.write(\"\\n\")"
   ]
  },
  {
   "cell_type": "code",
   "execution_count": 89,
   "metadata": {},
   "outputs": [
    {
     "data": {
      "text/plain": [
       "(2000, 3)"
      ]
     },
     "execution_count": 89,
     "metadata": {},
     "output_type": "execute_result"
    }
   ],
   "source": [
    "xi_out.shape"
   ]
  },
  {
   "cell_type": "code",
   "execution_count": 76,
   "metadata": {},
   "outputs": [
    {
     "data": {
      "text/plain": [
       "[<matplotlib.lines.Line2D at 0x7f22c66a3908>]"
      ]
     },
     "execution_count": 76,
     "metadata": {},
     "output_type": "execute_result"
    },
    {
     "data": {
      "image/png": "[encoded data removed]",
      "text/plain": [
       "<Figure size 432x288 with 1 Axes>"
      ]
     },
     "metadata": {
      "needs_background": "light"
     },
     "output_type": "display_data"
    }
   ],
   "source": [
    "plt.plot(r_all,r2xi0)"
   ]
  },
  {
   "cell_type": "code",
   "execution_count": null,
   "metadata": {},
   "outputs": [],
   "source": []
  }
 ],
 "metadata": {
  "kernelspec": {
   "display_name": "Python 3",
   "language": "python",
   "name": "python3"
  },
  "language_info": {
   "codemirror_mode": {
    "name": "ipython",
    "version": 3
   },
   "file_extension": ".py",
   "mimetype": "text/x-python",
   "name": "python",
   "nbconvert_exporter": "python",
   "pygments_lexer": "ipython3",
   "version": "3.7.0"
  }
 },
 "nbformat": 4,
 "nbformat_minor": 2
}
