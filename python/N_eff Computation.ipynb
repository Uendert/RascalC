{
 "cells": [
  {
   "cell_type": "code",
   "execution_count": 1,
   "metadata": {},
   "outputs": [],
   "source": [
    "# Code to read in integrals from the C++ created text file."
   ]
  },
  {
   "cell_type": "code",
   "execution_count": 60,
   "metadata": {},
   "outputs": [
    {
     "name": "stdout",
     "output_type": "stream",
     "text": [
      "Populating the interactive namespace from numpy and matplotlib\n"
     ]
    }
   ],
   "source": [
    "%pylab inline\n",
    "import numpy as np\n",
    "import csv\n",
    "file_root='../CovMatricesAll/'\n",
    "n=10;m=6;a=1.05"
   ]
  },
  {
   "cell_type": "code",
   "execution_count": 44,
   "metadata": {},
   "outputs": [],
   "source": [
    "def read_c_tot(n,m,file_root,a,suffix):\n",
    "    c2file=file_root+'c2_n%d_m%d_%s.txt' %(n,m,suffix)\n",
    "    c3file=file_root+'c3_n%d_m%d_%s.txt' %(n,m,suffix)\n",
    "    c4file=file_root+'c4_n%d_m%d_%s.txt' %(n,m,suffix)\n",
    "    c2=np.diag(np.loadtxt(c2file))\n",
    "    c3=np.loadtxt(c3file)\n",
    "    c4=np.loadtxt(c4file)\n",
    "    c_tot=c4+a**2.*c2+a*c3\n",
    "    return c_tot"
   ]
  },
  {
   "cell_type": "code",
   "execution_count": 114,
   "metadata": {},
   "outputs": [],
   "source": [
    "c_indiv=[]\n",
    "N_loops=200;\n",
    "for i in range(N_loops):\n",
    "    c_tmp=read_c_tot(n,m,file_root,a,str(i))\n",
    "    c_indiv.append(c_tmp)"
   ]
  },
  {
   "cell_type": "code",
   "execution_count": 115,
   "metadata": {},
   "outputs": [],
   "source": [
    "n_bins = n*m\n",
    "n_l=float(N_loops)\n",
    "tmp_sum=np.zeros_like(c_indiv[0])\n",
    "for i in range(N_loops):\n",
    "    excluded_mean=np.zeros_like(c_indiv[0])\n",
    "    for j in range(N_loops):\n",
    "        if i!=j:\n",
    "            excluded_mean+=c_indiv[i]\n",
    "    inv_excluded_mean=np.linalg.inv(excluded_mean/(n_l-1));\n",
    "    tmp_sum+=inv_excluded_mean*c_indiv[i]\n",
    "Dhat=(n_l-1)/n_l*(-1+1/n_l*tmp_sum)"
   ]
  },
  {
   "cell_type": "code",
   "execution_count": 116,
   "metadata": {},
   "outputs": [],
   "source": [
    "Neff=1.+(n_bins+1.)/Dhat"
   ]
  },
  {
   "cell_type": "code",
   "execution_count": 157,
   "metadata": {},
   "outputs": [],
   "source": [
    "tmp_sum2=0\n",
    "for i in range(N_loops):\n",
    "    tmp_sum2+=c_indiv[i]\n",
    "c_mean=tmp_sum2/float(N_loops)\n",
    "\n",
    "inv_c_tot=np.linalg.inv(c_tot)\n",
    "inv_estimate=inv_c_tot#(1.-Dhat)*inv_c_tot"
   ]
  },
  {
   "cell_type": "code",
   "execution_count": 163,
   "metadata": {},
   "outputs": [],
   "source": [
    "samples=[]\n",
    "for i in range(0,10)+range(50,60):\n",
    "        for j in range(0,10)+range(50,60):\n",
    "            if i==j: continue\n",
    "            if inv_estimate[i,i]<=0.: continue\n",
    "            if inv_estimate[j,j]<=0.: continue\n",
    "            samples.append(inv_estimate[i,j]/np.sqrt(inv_estimate[i,i]*inv_estimate[j,j]))"
   ]
  },
  {
   "cell_type": "code",
   "execution_count": 164,
   "metadata": {},
   "outputs": [
    {
     "data": {
      "text/plain": [
       "2703.110731838044"
      ]
     },
     "execution_count": 164,
     "metadata": {},
     "output_type": "execute_result"
    }
   ],
   "source": [
    "np.std(samples)**(-2)+n_bins"
   ]
  },
  {
   "cell_type": "code",
   "execution_count": null,
   "metadata": {},
   "outputs": [],
   "source": []
  },
  {
   "cell_type": "code",
   "execution_count": null,
   "metadata": {},
   "outputs": [],
   "source": []
  },
  {
   "cell_type": "code",
   "execution_count": 160,
   "metadata": {},
   "outputs": [],
   "source": [
    "c_tot=read_c_tot(n,m,file_root,a,'full')\n"
   ]
  },
  {
   "cell_type": "code",
   "execution_count": 161,
   "metadata": {},
   "outputs": [],
   "source": [
    "precision_tot=np.linalg.inv(c_tot)"
   ]
  },
  {
   "cell_type": "code",
   "execution_count": 162,
   "metadata": {},
   "outputs": [
    {
     "data": {
      "image/png": "[encoded data removed]",
      "text/plain": [
       "<Figure size 288x288 with 2 Axes>"
      ]
     },
     "metadata": {},
     "output_type": "display_data"
    },
    {
     "data": {
      "text/plain": [
       "<Figure size 432x288 with 0 Axes>"
      ]
     },
     "metadata": {},
     "output_type": "display_data"
    },
    {
     "data": {
      "image/png": "[encoded data removed]",
      "text/plain": [
       "<Figure size 288x288 with 2 Axes>"
      ]
     },
     "metadata": {},
     "output_type": "display_data"
    }
   ],
   "source": [
    "x_all=np.arange(0,len(c_tot))\n",
    "import cmocean\n",
    "X,X=np.meshgrid(x_all,x_all)\n",
    "import matplotlib.pyplot as plt\n",
    "cbar=cmocean.cm.balance\n",
    "plt.matshow(c_tot)\n",
    "maxval=min(np.abs(precision_tot.ravel()))\n",
    "plt.title('Covariance')\n",
    "plt.colorbar()\n",
    "plt.figure();\n",
    "plt.matshow(inv_estimate,cmap=cbar)#,vmin=-maxval,vmax=maxval)\n",
    "plt.colorbar()\n",
    "plt.title('Precision');"
   ]
  },
  {
   "cell_type": "code",
   "execution_count": null,
   "metadata": {},
   "outputs": [],
   "source": []
  },
  {
   "cell_type": "code",
   "execution_count": null,
   "metadata": {},
   "outputs": [],
   "source": []
  }
 ],
 "metadata": {
  "kernelspec": {
   "display_name": "Python 2",
   "language": "python",
   "name": "python2"
  },
  "language_info": {
   "codemirror_mode": {
    "name": "ipython",
    "version": 2
   },
   "file_extension": ".py",
   "mimetype": "text/x-python",
   "name": "python",
   "nbconvert_exporter": "python",
   "pygments_lexer": "ipython2",
   "version": "2.7.15"
  }
 },
 "nbformat": 4,
 "nbformat_minor": 2
}
