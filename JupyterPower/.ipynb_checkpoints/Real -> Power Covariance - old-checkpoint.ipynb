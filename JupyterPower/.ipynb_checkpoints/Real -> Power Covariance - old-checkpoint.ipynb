{
 "cells": [
  {
   "cell_type": "code",
   "execution_count": 280,
   "metadata": {},
   "outputs": [
    {
     "name": "stdout",
     "output_type": "stream",
     "text": [
      "Populating the interactive namespace from numpy and matplotlib\n"
     ]
    },
    {
     "name": "stderr",
     "output_type": "stream",
     "text": [
      "/home/oliverphilcox/anaconda3/lib/python3.7/site-packages/IPython/core/magics/pylab.py:160: UserWarning: pylab import has clobbered these variables: ['mat']\n",
      "`%matplotlib` prevents importing * from pylab and numpy\n",
      "  \"\\n`%matplotlib` prevents importing * from pylab and numpy\"\n"
     ]
    }
   ],
   "source": [
    "%pylab inline"
   ]
  },
  {
   "cell_type": "code",
   "execution_count": 281,
   "metadata": {},
   "outputs": [],
   "source": [
    "indir = '/mnt/store1/oliverphilcox/PowerCovTest/PowerCovMatrices/'\n",
    "n=19\n",
    "l=0\n",
    "c2 = np.loadtxt(indir+'c2_leg_n%d_l%d_11_full.txt'%(n,l))\n",
    "c3 = np.loadtxt(indir+'c3_leg_n%d_l%d_1,11_full.txt'%(n,l))\n",
    "c4 = np.loadtxt(indir+'c4_leg_n%d_l%d_11,11_full.txt'%(n,l))\n",
    "## Apply symmetries\n",
    "c2 = 0.5*(c2+c2.T)\n",
    "c3 = 0.5*(c3+c3.T)\n",
    "c4 = 0.5*(c4+c4.T)\n",
    "c_tot = c2+c3+c4"
   ]
  },
  {
   "cell_type": "code",
   "execution_count": 282,
   "metadata": {},
   "outputs": [],
   "source": [
    "def rebinner(mat):\n",
    "    new_mat = np.zeros_like(mat)\n",
    "    m=len(mat)//n\n",
    "    for i in range(m):\n",
    "        for j in range(m):\n",
    "            new_mat[n*i:n*(i+1),n*j:n*(j+1)]=mat[i::m,j::m]\n",
    "    return new_mat"
   ]
  },
  {
   "cell_type": "code",
   "execution_count": 283,
   "metadata": {},
   "outputs": [],
   "source": [
    "mat = rebinner(c2)\n",
    "imat = np.linalg.inv(mat)"
   ]
  },
  {
   "cell_type": "code",
   "execution_count": 284,
   "metadata": {},
   "outputs": [],
   "source": [
    "def red_mat(mat):\n",
    "    m=len(mat)//n\n",
    "    new_mat = np.zeros_like(mat)\n",
    "    for i in range(len(mat)):\n",
    "        for j in range(len(mat)):\n",
    "            new_mat[i,j]=mat[i,j]/np.sqrt(mat[i,i]*mat[j,j])\n",
    "    return new_mat"
   ]
  },
  {
   "cell_type": "code",
   "execution_count": 285,
   "metadata": {},
   "outputs": [
    {
     "data": {
      "text/plain": [
       "<matplotlib.image.AxesImage at 0x7f560c48f470>"
      ]
     },
     "execution_count": 285,
     "metadata": {},
     "output_type": "execute_result"
    },
    {
     "data": {
      "image/png": "[encoded data removed]",
      "text/plain": [
       "<Figure size 288x288 with 1 Axes>"
      ]
     },
     "metadata": {
      "needs_background": "light"
     },
     "output_type": "display_data"
    }
   ],
   "source": [
    "plt.matshow(mat_old)"
   ]
  },
  {
   "cell_type": "code",
   "execution_count": 286,
   "metadata": {},
   "outputs": [
    {
     "data": {
      "image/png": "[encoded data removed]",
      "text/plain": [
       "<Figure size 288x288 with 2 Axes>"
      ]
     },
     "metadata": {
      "needs_background": "light"
     },
     "output_type": "display_data"
    }
   ],
   "source": [
    "plt.matshow(mat);plt.colorbar();"
   ]
  },
  {
   "cell_type": "code",
   "execution_count": 287,
   "metadata": {},
   "outputs": [
    {
     "data": {
      "text/plain": [
       "<matplotlib.image.AxesImage at 0x7f560c2857f0>"
      ]
     },
     "execution_count": 287,
     "metadata": {},
     "output_type": "execute_result"
    },
    {
     "data": {
      "image/png": "[encoded data removed]",
      "text/plain": [
       "<Figure size 288x288 with 1 Axes>"
      ]
     },
     "metadata": {
      "needs_background": "light"
     },
     "output_type": "display_data"
    }
   ],
   "source": [
    "plt.matshow(np.linalg.inv(mat))"
   ]
  },
  {
   "cell_type": "code",
   "execution_count": 288,
   "metadata": {},
   "outputs": [
    {
     "data": {
      "image/png": "[encoded data removed]",
      "text/plain": [
       "<Figure size 432x288 with 1 Axes>"
      ]
     },
     "metadata": {
      "needs_background": "light"
     },
     "output_type": "display_data"
    }
   ],
   "source": [
    "#plt.plot(1./np.linalg.eigvalsh(imat)[::-1])\n",
    "plt.plot(np.linalg.eigvalsh(mat))\n",
    "plt.plot(np.linalg.eigvalsh(mat_old))\n",
    "plt.yscale('log')"
   ]
  },
  {
   "cell_type": "code",
   "execution_count": null,
   "metadata": {},
   "outputs": [],
   "source": []
  },
  {
   "cell_type": "code",
   "execution_count": null,
   "metadata": {},
   "outputs": [],
   "source": []
  },
  {
   "cell_type": "code",
   "execution_count": 45,
   "metadata": {},
   "outputs": [
    {
     "data": {
      "text/plain": [
       "array([[918.0456  , 581.0744  , 290.1894  , 122.4203  ,  61.49255 ,\n",
       "         50.04406 ,  45.98572 ,  37.82318 ,  29.15288 ,  22.98698 ,\n",
       "         18.69089 ,  15.08635 ,  12.0218  ,   9.725481,   8.145563,\n",
       "          7.011053,   6.090129,   5.284215,   4.584516],\n",
       "       [581.0744  , 443.5299  , 290.421   , 163.819   ,  86.20139 ,\n",
       "         52.42254 ,  41.70048 ,  36.31433 ,  29.94901 ,  23.55543 ,\n",
       "         18.6417  ,  15.08838 ,  12.28769 ,  10.03336 ,   8.325239,\n",
       "          7.066864,   6.097827,   5.300769,   4.616572],\n",
       "       [290.1894  , 290.421   , 253.5015  , 185.1125  , 113.9815  ,\n",
       "         64.97498 ,  42.06108 ,  33.97992 ,  29.33604 ,  24.09372 ,\n",
       "         19.06139 ,  15.26207 ,  12.527   ,  10.36246 ,   8.587166,\n",
       "          7.200473,   6.151361,   5.331246,   4.647513],\n",
       "       [122.4203  , 163.819   , 185.1125  , 171.1327  , 129.9485  ,\n",
       "         83.71538 ,  50.55578 ,  34.17231 ,  27.72695 ,  23.80401 ,\n",
       "         19.65757 ,  15.77856 ,  12.82216 ,  10.63838 ,   8.877033,\n",
       "          7.422276,   6.275791,   5.390922,   4.682749],\n",
       "       [ 61.49255 ,  86.20139 , 113.9815  , 129.9485  , 123.1353  ,\n",
       "         96.46192 ,  64.3127  ,  40.21795 ,  27.86675 ,  22.81147 ,\n",
       "         19.68922 ,  16.41585 ,  13.33064 ,  10.93761 ,   9.143326,\n",
       "          7.68692 ,   6.473953,   5.502885,   4.742452],\n",
       "       [ 50.04406 ,  52.42254 ,  64.97498 ,  83.71538 ,  96.46192 ,\n",
       "         93.06579 ,  74.35983 ,  50.72577 ,  32.5817  ,  23.09819 ,\n",
       "         19.1151  ,  16.58852 ,  13.92581 ,  11.40716 ,   9.436482,\n",
       "          7.93964 ,   6.710367,   5.67937 ,   4.852302],\n",
       "       [ 45.98572 ,  41.70048 ,  42.06108 ,  50.55578 ,  64.3127  ,\n",
       "         74.35983 ,  72.5982  ,  58.95647 ,  41.03183 ,  26.96168 ,\n",
       "         19.46473 ,  16.23899 ,  14.1561  ,  11.95859 ,   9.868355,\n",
       "          8.213912,   6.943879,   5.898553,   5.024273],\n",
       "       [ 37.82318 ,  36.31433 ,  33.97992 ,  34.17231 ,  40.21795 ,\n",
       "         50.72577 ,  58.95647 ,  58.21287 ,  47.93776 ,  33.90774 ,\n",
       "         22.67698 ,  16.60493 ,  13.95237 ,  12.21503 ,  10.37031 ,\n",
       "          8.606536,   7.204128,   6.125674,   5.237048],\n",
       "       [ 29.15288 ,  29.94901 ,  29.33604 ,  27.72695 ,  27.86675 ,\n",
       "         32.5817  ,  41.03183 ,  47.93776 ,  47.75143 ,  39.75215 ,\n",
       "         28.48494 ,  19.32827 ,  14.31926 ,  12.10109 ,  10.63139 ,\n",
       "          9.06837 ,   7.572663,   6.379794,   5.456683],\n",
       "       [ 22.98698 ,  23.55543 ,  24.09372 ,  23.80401 ,  22.81147 ,\n",
       "         23.09819 ,  26.96168 ,  33.90774 ,  39.75215 ,  39.87277 ,\n",
       "         33.49464 ,  24.26179 ,  16.65661 ,  12.45584 ,  10.58177 ,\n",
       "          9.335863,   8.006158,   6.726147,   5.697654],\n",
       "       [ 18.69089 ,  18.6417  ,  19.06139 ,  19.65757 ,  19.68922 ,\n",
       "         19.1151  ,  19.46473 ,  22.67698 ,  28.48494 ,  33.49464 ,\n",
       "         33.79115 ,  28.59697 ,  20.89843 ,  14.49055 ,  10.9305  ,\n",
       "          9.338149,   8.273795,   7.128099,   6.018079],\n",
       "       [ 15.08635 ,  15.08838 ,  15.26207 ,  15.77856 ,  16.41585 ,\n",
       "         16.58852 ,  16.23899 ,  16.60493 ,  19.32827 ,  24.26179 ,\n",
       "         28.59697 ,  28.98821 ,  24.68993 ,  18.18798 ,  12.72777 ,\n",
       "          9.677683,   8.307843,   7.386615,   6.388784],\n",
       "       [ 12.0218  ,  12.28769 ,  12.527   ,  12.82216 ,  13.33064 ,\n",
       "         13.92581 ,  14.1561  ,  13.95237 ,  14.31926 ,  16.65661 ,\n",
       "         20.89843 ,  24.68993 ,  25.1403  ,  21.53993 ,  15.9825  ,\n",
       "         11.27459 ,   8.63101 ,   7.440041,   6.635498],\n",
       "       [  9.725481,  10.03336 ,  10.36246 ,  10.63838 ,  10.93761 ,\n",
       "         11.40716 ,  11.95859 ,  12.21503 ,  12.10109 ,  12.45584 ,\n",
       "         14.49055 ,  18.18798 ,  21.53993 ,  22.02068 ,  18.96374 ,\n",
       "         14.15874 ,  10.05798 ,   7.745454,   6.700941],\n",
       "       [  8.145563,   8.325239,   8.587166,   8.877033,   9.143326,\n",
       "          9.436482,   9.868355,  10.37031 ,  10.63139 ,  10.58177 ,\n",
       "         10.9305  ,  12.72777 ,  15.9825  ,  18.96374 ,  19.45141 ,\n",
       "         16.82543 ,  12.63113 ,   9.027876,   6.988474],\n",
       "       [  7.011053,   7.066864,   7.200473,   7.422276,   7.68692 ,\n",
       "          7.93964 ,   8.213912,   8.606536,   9.06837 ,   9.335863,\n",
       "          9.338149,   9.677683,  11.27459 ,  14.15874 ,  16.82543 ,\n",
       "         17.30795 ,  15.02963 ,  11.3376  ,   8.148304],\n",
       "       [  6.090129,   6.097827,   6.151361,   6.275791,   6.473953,\n",
       "          6.710367,   6.943879,   7.204128,   7.572663,   8.006158,\n",
       "          8.273795,   8.307843,   8.63101 ,  10.05798 ,  12.63113 ,\n",
       "         15.02963 ,  15.49991 ,  13.5071  ,  10.23524 ],\n",
       "       [  5.284215,   5.300769,   5.331246,   5.390922,   5.502885,\n",
       "          5.67937 ,   5.898553,   6.125674,   6.379794,   6.726147,\n",
       "          7.128099,   7.386615,   7.440041,   7.745454,   9.027876,\n",
       "         11.3376  ,  13.5071  ,  13.96331 ,  12.20826 ],\n",
       "       [  4.584516,   4.616572,   4.647513,   4.682749,   4.742452,\n",
       "          4.852302,   5.024273,   5.237048,   5.456683,   5.697654,\n",
       "          6.018079,   6.388784,   6.635498,   6.700941,   6.988474,\n",
       "          8.148304,  10.23524 ,  12.20826 ,  12.64735 ]])"
      ]
     },
     "execution_count": 45,
     "metadata": {},
     "output_type": "execute_result"
    }
   ],
   "source": [
    "mat"
   ]
  },
  {
   "cell_type": "code",
   "execution_count": null,
   "metadata": {},
   "outputs": [],
   "source": []
  },
  {
   "cell_type": "code",
   "execution_count": 46,
   "metadata": {},
   "outputs": [
    {
     "data": {
      "text/plain": [
       "<matplotlib.image.AxesImage at 0x7f5630113278>"
      ]
     },
     "execution_count": 46,
     "metadata": {},
     "output_type": "execute_result"
    },
    {
     "data": {
      "image/png": "[encoded data removed]",
      "text/plain": [
       "<Figure size 288x288 with 1 Axes>"
      ]
     },
     "metadata": {
      "needs_background": "light"
     },
     "output_type": "display_data"
    }
   ],
   "source": [
    "plt.matshow(np.linalg.inv(mat))"
   ]
  },
  {
   "cell_type": "code",
   "execution_count": null,
   "metadata": {},
   "outputs": [],
   "source": []
  },
  {
   "cell_type": "code",
   "execution_count": 47,
   "metadata": {},
   "outputs": [
    {
     "data": {
      "image/png": "[encoded data removed]",
      "text/plain": [
       "<Figure size 288x288 with 2 Axes>"
      ]
     },
     "metadata": {
      "needs_background": "light"
     },
     "output_type": "display_data"
    }
   ],
   "source": [
    "mat = np.linalg.inv(rebinner(c2))\n",
    "vmax = np.percentile(mat,99.)\n",
    "plt.matshow(mat,vmax=vmax,vmin=-vmax,cmap=cm.RdBu_r)\n",
    "plt.colorbar();"
   ]
  },
  {
   "cell_type": "code",
   "execution_count": 73,
   "metadata": {},
   "outputs": [],
   "source": [
    "np.save('theory_power_cov.npy',mat)"
   ]
  },
  {
   "cell_type": "code",
   "execution_count": null,
   "metadata": {},
   "outputs": [],
   "source": []
  },
  {
   "cell_type": "code",
   "execution_count": null,
   "metadata": {},
   "outputs": [],
   "source": []
  },
  {
   "cell_type": "code",
   "execution_count": 72,
   "metadata": {},
   "outputs": [
    {
     "data": {
      "text/plain": [
       "[<matplotlib.lines.Line2D at 0x7f53481783c8>]"
      ]
     },
     "execution_count": 72,
     "metadata": {},
     "output_type": "execute_result"
    },
    {
     "data": {
      "image/png": "[encoded data removed]",
      "text/plain": [
       "<Figure size 432x288 with 1 Axes>"
      ]
     },
     "metadata": {
      "needs_background": "light"
     },
     "output_type": "display_data"
    }
   ],
   "source": [
    "plt.plot(np.diag(np.linalg.inv(mat)))"
   ]
  },
  {
   "cell_type": "code",
   "execution_count": null,
   "metadata": {},
   "outputs": [],
   "source": []
  },
  {
   "cell_type": "code",
   "execution_count": null,
   "metadata": {},
   "outputs": [],
   "source": []
  },
  {
   "cell_type": "code",
   "execution_count": null,
   "metadata": {},
   "outputs": [],
   "source": []
  },
  {
   "cell_type": "code",
   "execution_count": null,
   "metadata": {},
   "outputs": [],
   "source": []
  },
  {
   "cell_type": "code",
   "execution_count": 226,
   "metadata": {},
   "outputs": [],
   "source": [
    "from scipy.integrate import quad\n",
    "def quad_int(nn):\n",
    "    fun = lambda x: -x/nn*(np.exp(-((x+nn)/20)**2.)-np.exp(-((x-nn)/20)**2.))/(0.1+x)**4.\n",
    "    out=quad(fun,0,np.inf)\n",
    "    return out[0]"
   ]
  },
  {
   "cell_type": "code",
   "execution_count": 224,
   "metadata": {},
   "outputs": [],
   "source": [
    "qq1=np.asarray([quad_int(n) for n in nn])"
   ]
  },
  {
   "cell_type": "code",
   "execution_count": 227,
   "metadata": {},
   "outputs": [
    {
     "data": {
      "text/plain": [
       "[<matplotlib.lines.Line2D at 0x7f560c88bb38>]"
      ]
     },
     "execution_count": 227,
     "metadata": {},
     "output_type": "execute_result"
    },
    {
     "data": {
      "image/png": "[encoded data removed]",
      "text/plain": [
       "<Figure size 432x288 with 1 Axes>"
      ]
     },
     "metadata": {
      "needs_background": "light"
     },
     "output_type": "display_data"
    }
   ],
   "source": [
    "nn = np.linspace(0.1,100,100)\n",
    "qq=np.asarray([quad_int(n) for n in nn])\n",
    "plt.plot(nn,qq/qq[0])\n",
    "plt.plot(nn,qq1/qq1[0])"
   ]
  },
  {
   "cell_type": "code",
   "execution_count": null,
   "metadata": {},
   "outputs": [],
   "source": []
  },
  {
   "cell_type": "code",
   "execution_count": null,
   "metadata": {},
   "outputs": [],
   "source": []
  }
 ],
 "metadata": {
  "kernelspec": {
   "display_name": "Python 3",
   "language": "python",
   "name": "python3"
  },
  "language_info": {
   "codemirror_mode": {
    "name": "ipython",
    "version": 3
   },
   "file_extension": ".py",
   "mimetype": "text/x-python",
   "name": "python",
   "nbconvert_exporter": "python",
   "pygments_lexer": "ipython3",
   "version": "3.7.0"
  }
 },
 "nbformat": 4,
 "nbformat_minor": 2
}
