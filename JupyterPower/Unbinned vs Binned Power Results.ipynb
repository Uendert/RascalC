{
 "cells": [
  {
   "cell_type": "code",
   "execution_count": 1,
   "metadata": {},
   "outputs": [
    {
     "name": "stdout",
     "output_type": "stream",
     "text": [
      "Populating the interactive namespace from numpy and matplotlib\n"
     ]
    }
   ],
   "source": [
    "%pylab inline\n",
    "import os"
   ]
  },
  {
   "cell_type": "code",
   "execution_count": 2,
   "metadata": {},
   "outputs": [],
   "source": [
    "binfile = '/mnt/store1/oliverphilcox/PowerSpectra/k_binning.csv'\n",
    "counts_dir = '/mnt/store1/oliverphilcox/PowerTest/'\n",
    "counts_dir_binned = '/mnt/store1/oliverphilcox/PowerTest_QPM/'\n",
    "n = 18\n",
    "m = 3"
   ]
  },
  {
   "cell_type": "code",
   "execution_count": 154,
   "metadata": {},
   "outputs": [],
   "source": [
    "k_bins = np.loadtxt(binfile).mean(axis=1)\n",
    "all_k = np.loadtxt(binfile)"
   ]
  },
  {
   "cell_type": "code",
   "execution_count": 164,
   "metadata": {},
   "outputs": [],
   "source": [
    "k_bins2 = np.loadtxt('/mnt/store1/oliverphilcox/PowerSpectra/k_binning_high.csv').mean(axis=1)"
   ]
  },
  {
   "cell_type": "markdown",
   "metadata": {},
   "source": [
    "#### Load Counts"
   ]
  },
  {
   "cell_type": "code",
   "execution_count": 402,
   "metadata": {},
   "outputs": [],
   "source": [
    "counts_dir = '/mnt/store1/oliverphilcox/PowerTest_3/'\n",
    "DDb = np.loadtxt(counts_dir+'DD_power_counts_n%d_m%d_full.txt'%(n,m))\n",
    "# DRb = np.loadtxt(counts_dir+'DR_power_counts_n%d_m%d_full.txt'%(n,m))\n",
    "# RRb = np.zeros_like(DRb)\n",
    "# index = 0\n",
    "# while True:\n",
    "#     filename = counts_dir+'RR_%d_power_counts_n%d_m%d_full.txt'%(index,n,m)\n",
    "#     if not os.path.exists(filename):\n",
    "#         break\n",
    "#     RRb+=np.loadtxt(filename)\n",
    "#     index+=1"
   ]
  },
  {
   "cell_type": "code",
   "execution_count": 403,
   "metadata": {},
   "outputs": [],
   "source": [
    "counts_dir = '/mnt/store1/oliverphilcox/PowerTest_4/'\n",
    "DDc = np.loadtxt(counts_dir+'DD_power_counts_n%d_m%d_full.txt'%(n,m))\n",
    "# DRb = np.loadtxt(counts_dir+'DR_power_counts_n%d_m%d_full.txt'%(n,m))\n",
    "# RRb = np.zeros_like(DRb)\n",
    "# index = 0\n",
    "# while True:\n",
    "#     filename = counts_dir+'RR_%d_power_counts_n%d_m%d_full.txt'%(index,n,m)\n",
    "#     if not os.path.exists(filename):\n",
    "#         break\n",
    "#     RRb+=np.loadtxt(filename)\n",
    "#     index+=1"
   ]
  },
  {
   "cell_type": "code",
   "execution_count": 404,
   "metadata": {},
   "outputs": [],
   "source": [
    "counts_dir = '/mnt/store1/oliverphilcox/PowerTest_QPM/'\n",
    "DD = np.loadtxt(counts_dir+'DD_mock_1_power_counts_n%d_m%d_full.txt'%(n,m))\n",
    "DR = np.loadtxt(counts_dir+'DR_mock_1_power_counts_n%d_m%d_full.txt'%(n,m))\n",
    "RR = np.zeros_like(DR)\n",
    "index = 0\n",
    "while True:\n",
    "    filename = counts_dir+'RR_%d_power_counts_n%d_m%d_full.txt'%(index,n,m)\n",
    "    if not os.path.exists(filename):\n",
    "        break\n",
    "    RR+=np.loadtxt(filename)\n",
    "    index+=1"
   ]
  },
  {
   "cell_type": "code",
   "execution_count": 405,
   "metadata": {},
   "outputs": [
    {
     "data": {
      "text/plain": [
       "[<matplotlib.lines.Line2D at 0x7ff8f317ca20>]"
      ]
     },
     "execution_count": 405,
     "metadata": {},
     "output_type": "execute_result"
    },
    {
     "data": {
      "image/png": "[encoded data removed]",
      "text/plain": [
       "<Figure size 432x288 with 1 Axes>"
      ]
     },
     "metadata": {
      "needs_background": "light"
     },
     "output_type": "display_data"
    }
   ],
   "source": [
    "#plt.plot(k_bins,DD.reshape(n,m)[:,0])\n",
    "plt.plot(k_bins,DDb[:,0])\n",
    "plt.plot(k_bins,DDc[:,0])"
   ]
  },
  {
   "cell_type": "code",
   "execution_count": 406,
   "metadata": {},
   "outputs": [],
   "source": [
    "power_estimate = (DD-2.*DR/(DR_pairs/DD_pairs)+RR/(RR_pairs/DD_pairs))/norm"
   ]
  },
  {
   "cell_type": "code",
   "execution_count": 407,
   "metadata": {},
   "outputs": [
    {
     "data": {
      "text/plain": [
       "<matplotlib.collections.LineCollection at 0x7ff8f2ff7ef0>"
      ]
     },
     "execution_count": 407,
     "metadata": {},
     "output_type": "execute_result"
    },
    {
     "data": {
      "image/png": "[encoded data removed]",
      "text/plain": [
       "<Figure size 432x288 with 1 Axes>"
      ]
     },
     "metadata": {
      "needs_background": "light"
     },
     "output_type": "display_data"
    }
   ],
   "source": [
    "#plt.plot(k_bins,DD[1::3])#[1::3])\n",
    "plt.plot(k_bins,DDb[:,1])\n",
    "plt.plot(k_bins,DDc[:,1])\n",
    "plt.hlines(0,min(k_bins),max(k_bins),linestyles=':')"
   ]
  },
  {
   "cell_type": "markdown",
   "metadata": {},
   "source": [
    "Check histograms of particle separations in data vs randoms"
   ]
  },
  {
   "cell_type": "code",
   "execution_count": 384,
   "metadata": {},
   "outputs": [],
   "source": [
    "dat = np.loadtxt('/mnt/store1/oliverphilcox/PowerSpectra/qpm_galaxy_1.xyzwj')\n",
    "sep=[]\n",
    "fir=dat[396773]\n",
    "for i in range(len(dat)):\n",
    "    par=dat[i]\n",
    "    sep.append(np.sqrt((par[0]-fir[0])**2.+(par[1]-fir[1])**2.+(par[2]-fir[2])**2.))"
   ]
  },
  {
   "cell_type": "code",
   "execution_count": 389,
   "metadata": {},
   "outputs": [],
   "source": [
    "fir=dat[396773]\n",
    "mu=[]\n",
    "sep=[]\n",
    "norm_fir = np.sqrt(fir[0]**2.+fir[1]**2.+fir[2]**2.)\n",
    "for i in range(len(dat)):\n",
    "    par=dat[i]\n",
    "    sep.append(np.sqrt((par[0]-fir[0])**2.+(par[1]-fir[1])**2.+(par[2]-fir[2])**2.))\n",
    "    mu.append((par[0]*fir[0]+par[1]*fir[1]+par[2]*fir[2])/(np.sqrt(par[0]**2.+par[1]**2.+par[2]**2.)*norm_fir))"
   ]
  },
  {
   "cell_type": "code",
   "execution_count": 383,
   "metadata": {},
   "outputs": [
    {
     "data": {
      "text/plain": [
       "(array([396773]),)"
      ]
     },
     "execution_count": 383,
     "metadata": {},
     "output_type": "execute_result"
    }
   ],
   "source": [
    "np.where((dat[:,0]>-1000)&(dat[:,0]<-990)&(dat[:,1]>-0)&(dat[:,1]<10)&(dat[:,2]<730)&(dat[:,2]>700))"
   ]
  },
  {
   "cell_type": "code",
   "execution_count": 388,
   "metadata": {},
   "outputs": [
    {
     "data": {
      "text/plain": [
       "(array([444822]),)"
      ]
     },
     "execution_count": 388,
     "metadata": {},
     "output_type": "execute_result"
    }
   ],
   "source": [
    "np.where((dat2[:,0]>-1000)&(dat2[:,0]<-990)&(dat2[:,1]>-10)&(dat2[:,1]<20)&(dat2[:,2]<740)&(dat2[:,2]>700))"
   ]
  },
  {
   "cell_type": "code",
   "execution_count": 390,
   "metadata": {},
   "outputs": [],
   "source": [
    "sep2=[]\n",
    "mu2=[]\n",
    "fir2=dat2[444822]\n",
    "norm_fir2 = np.sqrt(fir2[0]**2.+fir2[1]**2.+fir2[2]**2.)\n",
    "for i in range(len(dat2)):\n",
    "    par2=dat2[i]\n",
    "    sep2.append(np.sqrt((par2[0]-fir2[0])**2.+(par2[1]-fir2[1])**2.+(par2[2]-fir2[2])**2.))\n",
    "    mu2.append((par2[0]*fir2[0]+par2[1]*fir2[1]+par2[2]*fir2[2])/(np.sqrt(par2[0]**2.+par2[1]**2.+par2[2]**2.)*norm_fir2))"
   ]
  },
  {
   "cell_type": "code",
   "execution_count": 391,
   "metadata": {},
   "outputs": [
    {
     "data": {
      "image/png": "[encoded data removed]",
      "text/plain": [
       "<Figure size 432x288 with 1 Axes>"
      ]
     },
     "metadata": {
      "needs_background": "light"
     },
     "output_type": "display_data"
    }
   ],
   "source": [
    "plt.hist(mu,bins=100,alpha=0.5);\n",
    "plt.hist(mu2,bins=100,alpha=0.5);"
   ]
  },
  {
   "cell_type": "code",
   "execution_count": 392,
   "metadata": {},
   "outputs": [
    {
     "data": {
      "image/png": "[encoded data removed]",
      "text/plain": [
       "<Figure size 432x288 with 1 Axes>"
      ]
     },
     "metadata": {
      "needs_background": "light"
     },
     "output_type": "display_data"
    }
   ],
   "source": [
    "plt.hist(sep,bins=100,alpha=0.5);\n",
    "plt.hist(sep2,bins=100,alpha=0.5);"
   ]
  },
  {
   "cell_type": "code",
   "execution_count": null,
   "metadata": {},
   "outputs": [],
   "source": []
  },
  {
   "cell_type": "code",
   "execution_count": 298,
   "metadata": {},
   "outputs": [],
   "source": [
    "dat2 = np.loadtxt('/mnt/store1/oliverphilcox/PowerSpectra/qpm_randoms_50x_mixed_0')\n",
    "sep2=[]\n",
    "fir2=dat2[4063]\n",
    "for i in range(len(dat2)):\n",
    "    par2=dat2[i]\n",
    "    sep2.append(np.sqrt((par2[0]-fir2[0])**2.+(par2[1]-fir2[1])**2.+(par2[2]-fir2[2])**2.))"
   ]
  },
  {
   "cell_type": "code",
   "execution_count": null,
   "metadata": {},
   "outputs": [],
   "source": []
  },
  {
   "cell_type": "code",
   "execution_count": 315,
   "metadata": {},
   "outputs": [
    {
     "data": {
      "image/png": "[encoded data removed]",
      "text/plain": [
       "<Figure size 432x288 with 1 Axes>"
      ]
     },
     "metadata": {
      "needs_background": "light"
     },
     "output_type": "display_data"
    }
   ],
   "source": [
    "plt.hist(sep,range=[0,50],bins=30,density=True,alpha=0.5);\n",
    "plt.hist(sep2,range=[0,50],bins=30,density=True,alpha=0.5);"
   ]
  },
  {
   "cell_type": "code",
   "execution_count": 324,
   "metadata": {},
   "outputs": [
    {
     "data": {
      "text/plain": [
       "[<matplotlib.lines.Line2D at 0x7ff901c6f860>]"
      ]
     },
     "execution_count": 324,
     "metadata": {},
     "output_type": "execute_result"
    },
    {
     "data": {
      "image/png": "[encoded data removed]",
      "text/plain": [
       "<Figure size 432x288 with 1 Axes>"
      ]
     },
     "metadata": {
      "needs_background": "light"
     },
     "output_type": "display_data"
    }
   ],
   "source": [
    "plt.plot(dat[:,2])"
   ]
  },
  {
   "cell_type": "code",
   "execution_count": 395,
   "metadata": {},
   "outputs": [],
   "source": [
    "all_gal = np.loadtxt('/mnt/store1/oliverphilcox/PowerSpectra/qpm_galaxy_1.xyzwj')\n",
    "ind = np.random.choice(range(len(all_gal)),len(all_gal),replace=False)"
   ]
  },
  {
   "cell_type": "code",
   "execution_count": 401,
   "metadata": {},
   "outputs": [],
   "source": [
    "np.savetxt('/mnt/store1/oliverphilcox/PowerSpectra/qpm_galaxy_1_mixed.xyzwj',all_gal[ind],delimiter='\\t')"
   ]
  },
  {
   "cell_type": "code",
   "execution_count": null,
   "metadata": {},
   "outputs": [],
   "source": []
  },
  {
   "cell_type": "code",
   "execution_count": 225,
   "metadata": {},
   "outputs": [],
   "source": [
    "power_estimate = (DD-2.*DR/(DR_pairs/DD_pairs)+RR/(RR_pairs/DD_pairs))/norm"
   ]
  },
  {
   "cell_type": "code",
   "execution_count": 226,
   "metadata": {},
   "outputs": [
    {
     "data": {
      "text/plain": [
       "[<matplotlib.lines.Line2D at 0x7ff910063e80>]"
      ]
     },
     "execution_count": 226,
     "metadata": {},
     "output_type": "execute_result"
    },
    {
     "data": {
      "image/png": "[encoded data removed]",
      "text/plain": [
       "<Figure size 432x288 with 1 Axes>"
      ]
     },
     "metadata": {
      "needs_background": "light"
     },
     "output_type": "display_data"
    }
   ],
   "source": [
    "ell=1\n",
    "plt.plot(DD.reshape(n,m)[:,ell]/DD_pairs)\n",
    "plt.plot(DR.reshape(n,m)[:,ell]/DR_pairs)\n",
    "plt.plot(RR.reshape(n,m)[:,ell]/RR_pairs)"
   ]
  },
  {
   "cell_type": "code",
   "execution_count": 88,
   "metadata": {},
   "outputs": [],
   "source": [
    "gal_file = '/mnt/store1/oliverphilcox/DR12_QPM/processed/qpm_galaxy_1.xyzwj'\n",
    "gal_w = np.loadtxt(gal_file)[:,3]\n",
    "poiss_power = np.sum(gal_w**2.)/norm"
   ]
  },
  {
   "cell_type": "code",
   "execution_count": 97,
   "metadata": {},
   "outputs": [],
   "source": [
    "gal_n = (1./gal_w-1.)/20000"
   ]
  },
  {
   "cell_type": "code",
   "execution_count": 99,
   "metadata": {},
   "outputs": [
    {
     "data": {
      "text/plain": [
       "3351.326355783734"
      ]
     },
     "execution_count": 99,
     "metadata": {},
     "output_type": "execute_result"
    }
   ],
   "source": [
    "1./np.mean(gal_n)"
   ]
  },
  {
   "cell_type": "code",
   "execution_count": 95,
   "metadata": {},
   "outputs": [
    {
     "data": {
      "text/plain": [
       "5308.702737890351"
      ]
     },
     "execution_count": 95,
     "metadata": {},
     "output_type": "execute_result"
    }
   ],
   "source": [
    "poiss_power"
   ]
  },
  {
   "cell_type": "code",
   "execution_count": null,
   "metadata": {},
   "outputs": [],
   "source": []
  },
  {
   "cell_type": "code",
   "execution_count": null,
   "metadata": {},
   "outputs": [],
   "source": []
  },
  {
   "cell_type": "code",
   "execution_count": 52,
   "metadata": {},
   "outputs": [
    {
     "ename": "NameError",
     "evalue": "name 'tDRb' is not defined",
     "output_type": "error",
     "traceback": [
      "\u001b[0;31m---------------------------------------------------------------------------\u001b[0m",
      "\u001b[0;31mNameError\u001b[0m                                 Traceback (most recent call last)",
      "\u001b[0;32m<ipython-input-52-e01e350b3f75>\u001b[0m in \u001b[0;36m<module>\u001b[0;34m()\u001b[0m\n\u001b[1;32m      1\u001b[0m \u001b[0mtDD\u001b[0m\u001b[0;34m=\u001b[0m\u001b[0mDD\u001b[0m\u001b[0;34m.\u001b[0m\u001b[0mreshape\u001b[0m\u001b[0;34m(\u001b[0m\u001b[0mn\u001b[0m\u001b[0;34m,\u001b[0m\u001b[0mm\u001b[0m\u001b[0;34m)\u001b[0m\u001b[0;34m[\u001b[0m\u001b[0;34m:\u001b[0m\u001b[0;34m,\u001b[0m\u001b[0;36m1\u001b[0m\u001b[0;34m]\u001b[0m\u001b[0;34m\u001b[0m\u001b[0m\n\u001b[1;32m      2\u001b[0m \u001b[0mtDDb\u001b[0m\u001b[0;34m=\u001b[0m\u001b[0mDDb\u001b[0m\u001b[0;34m.\u001b[0m\u001b[0mreshape\u001b[0m\u001b[0;34m(\u001b[0m\u001b[0mn\u001b[0m\u001b[0;34m,\u001b[0m\u001b[0mm\u001b[0m\u001b[0;34m)\u001b[0m\u001b[0;34m[\u001b[0m\u001b[0;34m:\u001b[0m\u001b[0;34m,\u001b[0m\u001b[0;36m1\u001b[0m\u001b[0;34m]\u001b[0m\u001b[0;34m\u001b[0m\u001b[0m\n\u001b[0;32m----> 3\u001b[0;31m \u001b[0mplt\u001b[0m\u001b[0;34m.\u001b[0m\u001b[0mplot\u001b[0m\u001b[0;34m(\u001b[0m\u001b[0mtDD\u001b[0m\u001b[0;34m-\u001b[0m\u001b[0mtDRb\u001b[0m\u001b[0;34m)\u001b[0m\u001b[0;34m\u001b[0m\u001b[0m\n\u001b[0m",
      "\u001b[0;31mNameError\u001b[0m: name 'tDRb' is not defined"
     ]
    }
   ],
   "source": [
    "tDD=DD.reshape(n,m)[:,1]\n",
    "tDDb=DDb.reshape(n,m)[:,1]\n",
    "plt.plot(tDD-tDRb)"
   ]
  },
  {
   "cell_type": "code",
   "execution_count": null,
   "metadata": {},
   "outputs": [],
   "source": []
  },
  {
   "cell_type": "code",
   "execution_count": null,
   "metadata": {},
   "outputs": [],
   "source": []
  },
  {
   "cell_type": "code",
   "execution_count": 40,
   "metadata": {},
   "outputs": [
    {
     "data": {
      "text/plain": [
       "[<matplotlib.lines.Line2D at 0x7ff91aa85438>]"
      ]
     },
     "execution_count": 40,
     "metadata": {},
     "output_type": "execute_result"
    },
    {
     "data": {
      "image/png": "[encoded data removed]",
      "text/plain": [
       "<Figure size 432x288 with 1 Axes>"
      ]
     },
     "metadata": {
      "needs_background": "light"
     },
     "output_type": "display_data"
    }
   ],
   "source": [
    "plt.plot(RR.reshape(n,m)[:,1])\n",
    "plt.plot(RRb.reshape(n,m)[:,1])"
   ]
  },
  {
   "cell_type": "code",
   "execution_count": null,
   "metadata": {},
   "outputs": [],
   "source": [
    "power_estimate = (DDb-2.*DRb/(DR_pairs/DD_pairs)+RRb/(RR_pairs/DD_pairs))/norm"
   ]
  },
  {
   "cell_type": "code",
   "execution_count": null,
   "metadata": {},
   "outputs": [],
   "source": []
  },
  {
   "cell_type": "code",
   "execution_count": null,
   "metadata": {},
   "outputs": [],
   "source": []
  },
  {
   "cell_type": "code",
   "execution_count": null,
   "metadata": {},
   "outputs": [],
   "source": []
  },
  {
   "cell_type": "code",
   "execution_count": 8,
   "metadata": {},
   "outputs": [],
   "source": [
    "DD_binned = np.loadtxt('/mnt/store1/oliverphilcox/PowerTest_QPM/DD_mock_1_power_counts_n%d_m%d_full.txt'%(n,m))\n",
    "DD_unbinned = np.loadtxt('/mnt/store1/oliverphilcox/PowerTest_QPM/DD_power_counts_n%d_m%d_full.txt'%(n,m))"
   ]
  },
  {
   "cell_type": "code",
   "execution_count": 14,
   "metadata": {},
   "outputs": [
    {
     "data": {
      "text/plain": [
       "[<matplotlib.lines.Line2D at 0x7ff91b06a5c0>,\n",
       " <matplotlib.lines.Line2D at 0x7ff91b03c240>,\n",
       " <matplotlib.lines.Line2D at 0x7ff91b03c390>]"
      ]
     },
     "execution_count": 14,
     "metadata": {},
     "output_type": "execute_result"
    },
    {
     "data": {
      "image/png": "[encoded data removed]",
      "text/plain": [
       "<Figure size 432x288 with 1 Axes>"
      ]
     },
     "metadata": {
      "needs_background": "light"
     },
     "output_type": "display_data"
    }
   ],
   "source": [
    "plt.plot(DD_binned.reshape(n,m))\n",
    "plt.plot(DD_unbinned.reshape(n,m))"
   ]
  },
  {
   "cell_type": "code",
   "execution_count": null,
   "metadata": {},
   "outputs": [],
   "source": []
  },
  {
   "cell_type": "code",
   "execution_count": null,
   "metadata": {},
   "outputs": [],
   "source": []
  },
  {
   "cell_type": "code",
   "execution_count": 267,
   "metadata": {},
   "outputs": [],
   "source": []
  },
  {
   "cell_type": "code",
   "execution_count": 3,
   "metadata": {
    "scrolled": true
   },
   "outputs": [
    {
     "ename": "OSError",
     "evalue": "/mnt/store1/oliverphilcox/PowerTest/DD_power_counts_n18_m3_full.txt not found.",
     "output_type": "error",
     "traceback": [
      "\u001b[0;31m---------------------------------------------------------------------------\u001b[0m",
      "\u001b[0;31mOSError\u001b[0m                                   Traceback (most recent call last)",
      "\u001b[0;32m<ipython-input-3-93597775d464>\u001b[0m in \u001b[0;36m<module>\u001b[0;34m()\u001b[0m\n\u001b[0;32m----> 1\u001b[0;31m \u001b[0mDD\u001b[0m \u001b[0;34m=\u001b[0m \u001b[0mnp\u001b[0m\u001b[0;34m.\u001b[0m\u001b[0mloadtxt\u001b[0m\u001b[0;34m(\u001b[0m\u001b[0mcounts_dir\u001b[0m\u001b[0;34m+\u001b[0m\u001b[0;34m'DD_power_counts_n%d_m%d_full.txt'\u001b[0m\u001b[0;34m%\u001b[0m\u001b[0;34m(\u001b[0m\u001b[0mn\u001b[0m\u001b[0;34m,\u001b[0m\u001b[0mm\u001b[0m\u001b[0;34m)\u001b[0m\u001b[0;34m)\u001b[0m\u001b[0;34m\u001b[0m\u001b[0m\n\u001b[0m\u001b[1;32m      2\u001b[0m \u001b[0mDR\u001b[0m \u001b[0;34m=\u001b[0m \u001b[0mnp\u001b[0m\u001b[0;34m.\u001b[0m\u001b[0mloadtxt\u001b[0m\u001b[0;34m(\u001b[0m\u001b[0mcounts_dir\u001b[0m\u001b[0;34m+\u001b[0m\u001b[0;34m'DR_power_counts_n%d_m%d_full.txt'\u001b[0m\u001b[0;34m%\u001b[0m\u001b[0;34m(\u001b[0m\u001b[0mn\u001b[0m\u001b[0;34m,\u001b[0m\u001b[0mm\u001b[0m\u001b[0;34m)\u001b[0m\u001b[0;34m)\u001b[0m\u001b[0;34m\u001b[0m\u001b[0m\n\u001b[1;32m      3\u001b[0m \u001b[0mRR\u001b[0m \u001b[0;34m=\u001b[0m \u001b[0mnp\u001b[0m\u001b[0;34m.\u001b[0m\u001b[0mzeros_like\u001b[0m\u001b[0;34m(\u001b[0m\u001b[0mDR\u001b[0m\u001b[0;34m)\u001b[0m\u001b[0;34m\u001b[0m\u001b[0m\n\u001b[1;32m      4\u001b[0m \u001b[0mindex\u001b[0m \u001b[0;34m=\u001b[0m \u001b[0;36m0\u001b[0m\u001b[0;34m\u001b[0m\u001b[0m\n\u001b[1;32m      5\u001b[0m \u001b[0;32mwhile\u001b[0m \u001b[0;32mTrue\u001b[0m\u001b[0;34m:\u001b[0m\u001b[0;34m\u001b[0m\u001b[0m\n",
      "\u001b[0;32m~/anaconda3/lib/python3.7/site-packages/numpy/lib/npyio.py\u001b[0m in \u001b[0;36mloadtxt\u001b[0;34m(fname, dtype, comments, delimiter, converters, skiprows, usecols, unpack, ndmin, encoding)\u001b[0m\n\u001b[1;32m    924\u001b[0m             \u001b[0mfname\u001b[0m \u001b[0;34m=\u001b[0m \u001b[0mstr\u001b[0m\u001b[0;34m(\u001b[0m\u001b[0mfname\u001b[0m\u001b[0;34m)\u001b[0m\u001b[0;34m\u001b[0m\u001b[0m\n\u001b[1;32m    925\u001b[0m         \u001b[0;32mif\u001b[0m \u001b[0m_is_string_like\u001b[0m\u001b[0;34m(\u001b[0m\u001b[0mfname\u001b[0m\u001b[0;34m)\u001b[0m\u001b[0;34m:\u001b[0m\u001b[0;34m\u001b[0m\u001b[0m\n\u001b[0;32m--> 926\u001b[0;31m             \u001b[0mfh\u001b[0m \u001b[0;34m=\u001b[0m \u001b[0mnp\u001b[0m\u001b[0;34m.\u001b[0m\u001b[0mlib\u001b[0m\u001b[0;34m.\u001b[0m\u001b[0m_datasource\u001b[0m\u001b[0;34m.\u001b[0m\u001b[0mopen\u001b[0m\u001b[0;34m(\u001b[0m\u001b[0mfname\u001b[0m\u001b[0;34m,\u001b[0m \u001b[0;34m'rt'\u001b[0m\u001b[0;34m,\u001b[0m \u001b[0mencoding\u001b[0m\u001b[0;34m=\u001b[0m\u001b[0mencoding\u001b[0m\u001b[0;34m)\u001b[0m\u001b[0;34m\u001b[0m\u001b[0m\n\u001b[0m\u001b[1;32m    927\u001b[0m             \u001b[0mfencoding\u001b[0m \u001b[0;34m=\u001b[0m \u001b[0mgetattr\u001b[0m\u001b[0;34m(\u001b[0m\u001b[0mfh\u001b[0m\u001b[0;34m,\u001b[0m \u001b[0;34m'encoding'\u001b[0m\u001b[0;34m,\u001b[0m \u001b[0;34m'latin1'\u001b[0m\u001b[0;34m)\u001b[0m\u001b[0;34m\u001b[0m\u001b[0m\n\u001b[1;32m    928\u001b[0m             \u001b[0mfh\u001b[0m \u001b[0;34m=\u001b[0m \u001b[0miter\u001b[0m\u001b[0;34m(\u001b[0m\u001b[0mfh\u001b[0m\u001b[0;34m)\u001b[0m\u001b[0;34m\u001b[0m\u001b[0m\n",
      "\u001b[0;32m~/anaconda3/lib/python3.7/site-packages/numpy/lib/_datasource.py\u001b[0m in \u001b[0;36mopen\u001b[0;34m(path, mode, destpath, encoding, newline)\u001b[0m\n\u001b[1;32m    260\u001b[0m \u001b[0;34m\u001b[0m\u001b[0m\n\u001b[1;32m    261\u001b[0m     \u001b[0mds\u001b[0m \u001b[0;34m=\u001b[0m \u001b[0mDataSource\u001b[0m\u001b[0;34m(\u001b[0m\u001b[0mdestpath\u001b[0m\u001b[0;34m)\u001b[0m\u001b[0;34m\u001b[0m\u001b[0m\n\u001b[0;32m--> 262\u001b[0;31m     \u001b[0;32mreturn\u001b[0m \u001b[0mds\u001b[0m\u001b[0;34m.\u001b[0m\u001b[0mopen\u001b[0m\u001b[0;34m(\u001b[0m\u001b[0mpath\u001b[0m\u001b[0;34m,\u001b[0m \u001b[0mmode\u001b[0m\u001b[0;34m,\u001b[0m \u001b[0mencoding\u001b[0m\u001b[0;34m=\u001b[0m\u001b[0mencoding\u001b[0m\u001b[0;34m,\u001b[0m \u001b[0mnewline\u001b[0m\u001b[0;34m=\u001b[0m\u001b[0mnewline\u001b[0m\u001b[0;34m)\u001b[0m\u001b[0;34m\u001b[0m\u001b[0m\n\u001b[0m\u001b[1;32m    263\u001b[0m \u001b[0;34m\u001b[0m\u001b[0m\n\u001b[1;32m    264\u001b[0m \u001b[0;34m\u001b[0m\u001b[0m\n",
      "\u001b[0;32m~/anaconda3/lib/python3.7/site-packages/numpy/lib/_datasource.py\u001b[0m in \u001b[0;36mopen\u001b[0;34m(self, path, mode, encoding, newline)\u001b[0m\n\u001b[1;32m    616\u001b[0m                                       encoding=encoding, newline=newline)\n\u001b[1;32m    617\u001b[0m         \u001b[0;32melse\u001b[0m\u001b[0;34m:\u001b[0m\u001b[0;34m\u001b[0m\u001b[0m\n\u001b[0;32m--> 618\u001b[0;31m             \u001b[0;32mraise\u001b[0m \u001b[0mIOError\u001b[0m\u001b[0;34m(\u001b[0m\u001b[0;34m\"%s not found.\"\u001b[0m \u001b[0;34m%\u001b[0m \u001b[0mpath\u001b[0m\u001b[0;34m)\u001b[0m\u001b[0;34m\u001b[0m\u001b[0m\n\u001b[0m\u001b[1;32m    619\u001b[0m \u001b[0;34m\u001b[0m\u001b[0m\n\u001b[1;32m    620\u001b[0m \u001b[0;34m\u001b[0m\u001b[0m\n",
      "\u001b[0;31mOSError\u001b[0m: /mnt/store1/oliverphilcox/PowerTest/DD_power_counts_n18_m3_full.txt not found."
     ]
    }
   ],
   "source": [
    "DD = np.loadtxt(counts_dir+'DD_power_counts_n%d_m%d_full.txt'%(n,m))\n",
    "DR = np.loadtxt(counts_dir+'DR_power_counts_n%d_m%d_full.txt'%(n,m))\n",
    "RR = np.zeros_like(DR)\n",
    "index = 0\n",
    "while True:\n",
    "    filename = counts_dir+'RR_%d_power_counts_n%d_m%d_full.txt'%(index,n,m)\n",
    "    if not os.path.exists(filename):\n",
    "        break\n",
    "    RR+=np.loadtxt(filename)\n",
    "    index+=1"
   ]
  },
  {
   "cell_type": "code",
   "execution_count": 272,
   "metadata": {},
   "outputs": [],
   "source": [
    "DD_binned = np.loadtxt(counts_dir_binned+'DD_power_counts_n%d_m%d_full.txt'%(n,m))\n",
    "DR_binned = np.loadtxt(counts_dir_binned+'DR_power_counts_n%d_m%d_full.txt'%(n,m))\n",
    "RR_binned = np.zeros_like(DR_binned)\n",
    "index = 0\n",
    "while True:\n",
    "    filename = counts_dir_binned+'RR_%d_power_counts_n%d_m%d_full.txt'%(index,n,m)\n",
    "    if not os.path.exists(filename):\n",
    "        break\n",
    "    RR_binned+=np.loadtxt(filename)\n",
    "    index+=1"
   ]
  },
  {
   "cell_type": "markdown",
   "metadata": {},
   "source": [
    "#### Compute number of pairs"
   ]
  },
  {
   "cell_type": "code",
   "execution_count": 75,
   "metadata": {},
   "outputs": [],
   "source": [
    "### count number of random particles\n",
    "rand_par = '/mnt/store1/oliverphilcox/PowerSpectra/qpm_randoms_50x.xyzwj'\n",
    "with open(rand_par) as infile:\n",
    "    for l,line in enumerate(infile):\n",
    "        pass\n",
    "N_rand = l+1"
   ]
  },
  {
   "cell_type": "code",
   "execution_count": 76,
   "metadata": {},
   "outputs": [],
   "source": [
    "### count number of galaxies\n",
    "gal_par = '/mnt/store1/oliverphilcox/Legendre2PCF/qpm_galaxy_1.xyzwj'\n",
    "with open(gal_par) as infile:\n",
    "    for l,line in enumerate(infile):\n",
    "        pass\n",
    "N_gal = l+1"
   ]
  },
  {
   "cell_type": "code",
   "execution_count": 77,
   "metadata": {},
   "outputs": [],
   "source": [
    "### count number of galaxies\n",
    "index = 0.\n",
    "RR_pairs = 0.\n",
    "while True:\n",
    "    this_rand_par = '/mnt/store1/oliverphilcox/PowerSpectra/qpm_randoms_50x_%d'%index\n",
    "    if not os.path.exists(this_rand_par):\n",
    "        break\n",
    "    with open(this_rand_par) as infile:\n",
    "        for l,line in enumerate(infile):\n",
    "            pass\n",
    "    RR_pairs+=(l+1)*l\n",
    "    index+=1"
   ]
  },
  {
   "cell_type": "code",
   "execution_count": 78,
   "metadata": {},
   "outputs": [],
   "source": [
    "DR_pairs = N_rand*N_gal\n",
    "DD_pairs = N_gal*(N_gal-1.)"
   ]
  },
  {
   "cell_type": "markdown",
   "metadata": {},
   "source": [
    "#### Compute normalization"
   ]
  },
  {
   "cell_type": "code",
   "execution_count": 79,
   "metadata": {},
   "outputs": [],
   "source": [
    "rand_par = '/mnt/store1/oliverphilcox/PowerSpectra/qpm_randoms_50x.xyzwj'\n",
    "norm = 0.\n",
    "with open(rand_par) as infile:\n",
    "    for l,line in enumerate(infile):\n",
    "        this_w = float(line.split()[3])\n",
    "        norm+=this_w**2.*(1./this_w-1.)/20000\n",
    "norm*=(N_gal/N_rand)"
   ]
  },
  {
   "cell_type": "markdown",
   "metadata": {},
   "source": [
    "### Compute power estimates"
   ]
  },
  {
   "cell_type": "code",
   "execution_count": 234,
   "metadata": {},
   "outputs": [],
   "source": [
    "power_estimate = (DD-2.*DR/(DR_pairs/DD_pairs)+RR/(RR_pairs/DD_pairs))/norm"
   ]
  },
  {
   "cell_type": "code",
   "execution_count": 282,
   "metadata": {},
   "outputs": [],
   "source": [
    "binned_power_estimate = (DD_binned-2.*DR_binned/(DR_pairs/DD_pairs)+RR_binned/(RR_pairs/DD_pairs))/norm"
   ]
  },
  {
   "cell_type": "code",
   "execution_count": 285,
   "metadata": {},
   "outputs": [
    {
     "data": {
      "image/png": "[encoded data removed]",
      "text/plain": [
       "<Figure size 432x288 with 1 Axes>"
      ]
     },
     "metadata": {
      "needs_background": "light"
     },
     "output_type": "display_data"
    }
   ],
   "source": [
    "#plt.plot(k_bins,power_estimate)\n",
    "plt.plot(k_bins,binned_power_estimate.reshape(-1,3))\n",
    "#plt.yscale('log')\n",
    "plt.ylabel(r'$P(k)$',fontsize=16);plt.xlabel(r'$k\\,\\,[h/$Mpc]',fontsize=16);"
   ]
  },
  {
   "cell_type": "markdown",
   "metadata": {},
   "source": [
    "**Add simple CAMB model for comparison**"
   ]
  },
  {
   "cell_type": "code",
   "execution_count": 196,
   "metadata": {},
   "outputs": [],
   "source": [
    "power_model=np.load('/mnt/store1/oliverphilcox/PowerSpectra/linear_kaiser_power.npz')\n",
    "kh = power_model['k']\n",
    "pk = power_model['pow'][0]\n",
    "\n",
    "## First fit power spectrum to spline\n",
    "from scipy.interpolate import UnivariateSpline\n",
    "spl = UnivariateSpline(np.log(kh),np.log(pk[:]),s=1)\n",
    "def linear_power_model(k):\n",
    "    return np.exp(spl(np.log(k)))\n",
    "\n",
    "def kaiser_power_model(k,ell):\n",
    "    \"\"\" Kaiser linear power model from https://wwwmpa.mpa-garching.mpg.de/~komatsu/lecturenotes/Shun_Saito_on_RSD.pdf\"\"\"\n",
    "    f = 0.774 # jaiser power\n",
    "    b = 2 # bias\n",
    "    lin_pow = linear_power_model(k)\n",
    "    beta = f/b\n",
    "    if ell==0:\n",
    "        return (1.+2./3.*beta+1./5.*beta**2.)*b**2.*lin_pow\n",
    "    elif ell==2:\n",
    "        return (4./3.*beta+4./7.*beta**2.)*b**2.*lin_pow\n",
    "    elif ell==4:\n",
    "        return 8./45.*beta**2.*b**2.*lin_pow\n",
    "    else:\n",
    "        raise Exception(\"Only ell = 0,2,4 in linear model\")"
   ]
  },
  {
   "cell_type": "code",
   "execution_count": 197,
   "metadata": {},
   "outputs": [],
   "source": [
    "from scipy.integrate import quad\n",
    "\n",
    "ell=0\n",
    "\n",
    "#binned_power = []\n",
    "true_binned_power = []\n",
    "true_point_power = []\n",
    "\n",
    "for i in range(len(all_k)):\n",
    "    #binned_power.append(quad(lambda k: kaiser_power_model(k,2)*k,all_k[i,0],all_k[i,1])[0]/quad(lambda k: k,k_bins[i,0],k_bins[i,1])[0])\n",
    "    true_binned_power.append(quad(lambda k: kaiser_power_model(k,0)*k**2.,all_k[i,0],all_k[i,1])[0]/quad(lambda k: k**2.,all_k[i,0],all_k[i,1])[0])\n",
    "    true_point_power.append(kaiser_power_model(np.mean([all_k[i,0],all_k[i,1]]),0))"
   ]
  },
  {
   "cell_type": "code",
   "execution_count": 198,
   "metadata": {},
   "outputs": [
    {
     "data": {
      "image/png": "[encoded data removed]",
      "text/plain": [
       "<Figure size 432x288 with 1 Axes>"
      ]
     },
     "metadata": {
      "needs_background": "light"
     },
     "output_type": "display_data"
    }
   ],
   "source": [
    "plt.scatter(k_bins,power_estimate,label='RascalC')\n",
    "plt.scatter(k_bins,true_point_power,label='CAMB');\n",
    "plt.legend();plt.yscale('log');"
   ]
  },
  {
   "cell_type": "markdown",
   "metadata": {},
   "source": [
    "#### Compare binned vs unbinned"
   ]
  },
  {
   "cell_type": "code",
   "execution_count": 105,
   "metadata": {},
   "outputs": [
    {
     "data": {
      "text/plain": [
       "[<matplotlib.lines.Line2D at 0x7fddfb809fd0>]"
      ]
     },
     "execution_count": 105,
     "metadata": {},
     "output_type": "execute_result"
    },
    {
     "data": {
      "image/png": "[encoded data removed]",
      "text/plain": [
       "<Figure size 432x288 with 1 Axes>"
      ]
     },
     "metadata": {
      "needs_background": "light"
     },
     "output_type": "display_data"
    }
   ],
   "source": [
    "plt.plot(k_bins,DD)\n",
    "plt.plot(k_bins,DD_binned)"
   ]
  },
  {
   "cell_type": "code",
   "execution_count": 107,
   "metadata": {},
   "outputs": [
    {
     "data": {
      "text/plain": [
       "[<matplotlib.lines.Line2D at 0x7fde1a0256a0>]"
      ]
     },
     "execution_count": 107,
     "metadata": {},
     "output_type": "execute_result"
    },
    {
     "data": {
      "image/png": "[encoded data removed]",
      "text/plain": [
       "<Figure size 432x288 with 1 Axes>"
      ]
     },
     "metadata": {
      "needs_background": "light"
     },
     "output_type": "display_data"
    }
   ],
   "source": [
    "plt.plot(k_bins,DR)\n",
    "plt.plot(k_bins,DR_binned)"
   ]
  },
  {
   "cell_type": "code",
   "execution_count": null,
   "metadata": {},
   "outputs": [],
   "source": []
  }
 ],
 "metadata": {
  "kernelspec": {
   "display_name": "Python 3",
   "language": "python",
   "name": "python3"
  },
  "language_info": {
   "codemirror_mode": {
    "name": "ipython",
    "version": 3
   },
   "file_extension": ".py",
   "mimetype": "text/x-python",
   "name": "python",
   "nbconvert_exporter": "python",
   "pygments_lexer": "ipython3",
   "version": "3.7.0"
  }
 },
 "nbformat": 4,
 "nbformat_minor": 2
}
