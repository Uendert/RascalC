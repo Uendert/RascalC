{
 "cells": [
  {
   "cell_type": "code",
   "execution_count": 1,
   "metadata": {},
   "outputs": [
    {
     "name": "stdout",
     "output_type": "stream",
     "text": [
      "Populating the interactive namespace from numpy and matplotlib\n"
     ]
    }
   ],
   "source": [
    "%pylab inline"
   ]
  },
  {
   "cell_type": "code",
   "execution_count": 28,
   "metadata": {},
   "outputs": [],
   "source": [
    "w = 10.\n",
    "\n",
    "from scipy.integrate import quad\n",
    "from scipy.special import spherical_jn\n",
    "\n",
    "true_kernel = lambda a,b: quad(lambda k: k**2.*spherical_jn(2,k*w),a,b)[0]/quad(lambda k: k**2.,a,b)[0] \n",
    "simple_kernel = lambda a,b: quad(lambda k: k**2.*spherical_jn(2,k*w)/k,a,b)[0]/quad(lambda k: k**2./k,a,b)[0] \n",
    "thin_kernel = lambda a,b: spherical_jn(2,(a+b)/2.*w)"
   ]
  },
  {
   "cell_type": "code",
   "execution_count": 41,
   "metadata": {},
   "outputs": [],
   "source": [
    "bins = np.arange(0.1,1.,0.2)\n",
    "ints = [true_kernel(a,1.5*a) for a in bins]\n",
    "simple_ints = [simple_kernel(a,1.5*a) for a in bins]"
   ]
  },
  {
   "cell_type": "code",
   "execution_count": 42,
   "metadata": {},
   "outputs": [
    {
     "data": {
      "text/plain": [
       "<matplotlib.collections.PathCollection at 0x7f0e710cccf8>"
      ]
     },
     "execution_count": 42,
     "metadata": {},
     "output_type": "execute_result"
    },
    {
     "data": {
      "image/png": "[encoded data removed]",
      "text/plain": [
       "<Figure size 432x288 with 1 Axes>"
      ]
     },
     "metadata": {
      "needs_background": "light"
     },
     "output_type": "display_data"
    }
   ],
   "source": [
    "plt.bar(bins,ints,bins*0.1,alpha=0.3)\n",
    "plt.bar(bins,simple_ints,bins*0.1,alpha=0.3)\n",
    "plt.scatter(bins,thin_kernel(bins,bins+0.2))"
   ]
  },
  {
   "cell_type": "markdown",
   "metadata": {},
   "source": [
    "**Load power spectra and rebin**"
   ]
  },
  {
   "cell_type": "code",
   "execution_count": 64,
   "metadata": {},
   "outputs": [],
   "source": [
    "power_model=np.load('/mnt/store1/oliverphilcox/PowerSpectra/linear_kaiser_power.npz')\n",
    "kh = power_model['k']\n",
    "pk = power_model['pow'][0]\n",
    "\n",
    "## First fit power spectrum to spline\n",
    "from scipy.interpolate import UnivariateSpline\n",
    "spl = UnivariateSpline(np.log(kh),np.log(pk[:]),s=1)\n",
    "def linear_power_model(k):\n",
    "    return np.exp(spl(np.log(k)))\n",
    "\n",
    "def kaiser_power_model(k,ell):\n",
    "    \"\"\" Kaiser linear power model from https://wwwmpa.mpa-garching.mpg.de/~komatsu/lecturenotes/Shun_Saito_on_RSD.pdf\"\"\"\n",
    "    f = 0.774 # jaiser power\n",
    "    b = 2 # bias\n",
    "    lin_pow = linear_power_model(k)\n",
    "    beta = f/b\n",
    "    if ell==0:\n",
    "        return (1.+2./3.*beta+1./5.*beta**2.)*b**2.*lin_pow\n",
    "    elif ell==2:\n",
    "        return (4./3.*beta+4./7.*beta**2.)*b**2.*lin_pow\n",
    "    elif ell==4:\n",
    "        return 8./45.*beta**2.*b**2.*lin_pow\n",
    "    else:\n",
    "        raise Exception(\"Only ell = 0,2,4 in linear model\")"
   ]
  },
  {
   "cell_type": "markdown",
   "metadata": {},
   "source": [
    "**Rebin estimate**"
   ]
  },
  {
   "cell_type": "code",
   "execution_count": 86,
   "metadata": {},
   "outputs": [],
   "source": [
    "binfile = '/mnt/store1/oliverphilcox/PowerSpectra/k_binning.csv'\n",
    "k_bins = np.loadtxt(binfile)\n",
    "\n",
    "binned_power = []\n",
    "true_binned_power = []\n",
    "\n",
    "for i in range(len(k_bins)):\n",
    "    binned_power.append(quad(lambda k: kaiser_power_model(k,2)*k,k_bins[i,0],k_bins[i,1])[0]/quad(lambda k: k,k_bins[i,0],k_bins[i,1])[0])\n",
    "    true_binned_power.append(quad(lambda k: kaiser_power_model(k,2)*k**2.,k_bins[i,0],k_bins[i,1])[0]/quad(lambda k: k**2.,k_bins[i,0],k_bins[i,1])[0])"
   ]
  },
  {
   "cell_type": "code",
   "execution_count": 91,
   "metadata": {},
   "outputs": [
    {
     "data": {
      "image/png": "[encoded data removed]",
      "text/plain": [
       "<Figure size 432x288 with 1 Axes>"
      ]
     },
     "metadata": {
      "needs_background": "light"
     },
     "output_type": "display_data"
    }
   ],
   "source": [
    "plt.scatter(np.mean(k_bins,axis=1),binned_power)\n",
    "plt.scatter(np.mean(k_bins,axis=1),true_binned_power)\n",
    "plt.yscale('log');"
   ]
  },
  {
   "cell_type": "code",
   "execution_count": 92,
   "metadata": {},
   "outputs": [
    {
     "data": {
      "text/plain": [
       "<matplotlib.collections.PathCollection at 0x7f0e6b3287f0>"
      ]
     },
     "execution_count": 92,
     "metadata": {},
     "output_type": "execute_result"
    },
    {
     "data": {
      "image/png": "[encoded data removed]",
      "text/plain": [
       "<Figure size 432x288 with 1 Axes>"
      ]
     },
     "metadata": {
      "needs_background": "light"
     },
     "output_type": "display_data"
    }
   ],
   "source": [
    "plt.scatter(np.mean(k_bins,axis=1),np.asarray(binned_power)/np.asarray(true_binned_power))"
   ]
  },
  {
   "cell_type": "code",
   "execution_count": null,
   "metadata": {},
   "outputs": [],
   "source": []
  },
  {
   "cell_type": "code",
   "execution_count": 67,
   "metadata": {
    "scrolled": true
   },
   "outputs": [
    {
     "data": {
      "text/plain": [
       "[<matplotlib.lines.Line2D at 0x7f0e702110f0>]"
      ]
     },
     "execution_count": 67,
     "metadata": {},
     "output_type": "execute_result"
    },
    {
     "data": {
      "image/png": "[encoded data removed]",
      "text/plain": [
       "<Figure size 432x288 with 1 Axes>"
      ]
     },
     "metadata": {
      "needs_background": "light"
     },
     "output_type": "display_data"
    }
   ],
   "source": [
    "plt.loglog(kh,pk)"
   ]
  },
  {
   "cell_type": "code",
   "execution_count": null,
   "metadata": {},
   "outputs": [],
   "source": []
  }
 ],
 "metadata": {
  "kernelspec": {
   "display_name": "Python 3",
   "language": "python",
   "name": "python3"
  },
  "language_info": {
   "codemirror_mode": {
    "name": "ipython",
    "version": 3
   },
   "file_extension": ".py",
   "mimetype": "text/x-python",
   "name": "python",
   "nbconvert_exporter": "python",
   "pygments_lexer": "ipython3",
   "version": "3.7.0"
  }
 },
 "nbformat": 4,
 "nbformat_minor": 2
}
